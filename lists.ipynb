{
  "cells": [
    {
      "cell_type": "code",
      "execution_count": null,
      "id": "23faa519-31bb-4803-ae66-95c829a34de4",
      "metadata": {
        "id": "23faa519-31bb-4803-ae66-95c829a34de4",
        "outputId": "84dc96b8-53f8-4d63-e1a9-9b2fba44dd34"
      },
      "outputs": [
        {
          "name": "stdout",
          "output_type": "stream",
          "text": [
            "list is empty\n"
          ]
        },
        {
          "data": {
            "text/plain": [
              "[]"
            ]
          },
          "execution_count": 19,
          "metadata": {},
          "output_type": "execute_result"
        }
      ],
      "source": [
        "class stack():\n",
        "    def __init__(self,list_new):\n",
        "        self.list_new = list_new\n",
        "\n",
        "    def push(self,n):\n",
        "        self.list_new.append(n)\n",
        "        return self.list_new\n",
        "\n",
        "    def pop(self,n):\n",
        "        self.list_new.pop(n)\n",
        "        return self.list_new\n",
        "\n",
        "    def empty(self):\n",
        "        if len(self.list_new) == 0 :\n",
        "            print(\"list is empty\")\n",
        "        else:\n",
        "            print(\"list is not empty\")\n",
        "\n",
        "    # def length():\n",
        "\n",
        "list_new = []\n",
        "obj = stack(list_new)\n",
        "# obj.push(6)\n",
        "# print(obj.list_new)\n",
        "# obj.pop(4)\n",
        "# print(obj.list_new)\n",
        "obj.empty()\n",
        "obj.list_new\n",
        "# print(list_new)"
      ]
    },
    {
      "cell_type": "code",
      "execution_count": null,
      "id": "1a7f6a6a-35cb-49a0-82b1-71f8fbb04071",
      "metadata": {
        "id": "1a7f6a6a-35cb-49a0-82b1-71f8fbb04071",
        "outputId": "fbabca58-7cd0-4300-df9f-026ce977004d"
      },
      "outputs": [
        {
          "data": {
            "text/plain": [
              "[1, 2, 4]"
            ]
          },
          "execution_count": 14,
          "metadata": {},
          "output_type": "execute_result"
        }
      ],
      "source": [
        "digits = [1,2,3]\n",
        "s = int(''.join(str(i) for i in digits))\n",
        "p = s+1\n",
        "k = [int(j) for j in str(p)]\n",
        "k"
      ]
    },
    {
      "cell_type": "code",
      "execution_count": null,
      "id": "f091ea93-58a0-409b-ad5c-9f3d913659f4",
      "metadata": {
        "id": "f091ea93-58a0-409b-ad5c-9f3d913659f4"
      },
      "outputs": [],
      "source": [
        "numbers = [2,7,11,15]\n",
        "target = 9\n",
        "s = set()\n",
        "left = 0\n",
        "right = len(numbers)-1\n",
        "while left<right:\n",
        "    csum = numbers[left]+ numbers[right]\n",
        "    if csum == target:\n",
        "        s.add((left,right))\n",
        "    elif csum>target:\n",
        "        right -= 1\n",
        "    else:\n",
        "        left += 1\n",
        "output = list(s)\n",
        "print(output)"
      ]
    },
    {
      "cell_type": "code",
      "execution_count": null,
      "id": "c21b1c4c-e6fe-4a86-9852-c39058eedfdd",
      "metadata": {
        "id": "c21b1c4c-e6fe-4a86-9852-c39058eedfdd",
        "outputId": "0151d674-fbbb-4166-984f-b8b0fabbd980"
      },
      "outputs": [
        {
          "name": "stdout",
          "output_type": "stream",
          "text": [
            "[5, 6, 7, 4, 5, 6, 7]\n",
            "[5, 6, 7]\n"
          ]
        }
      ],
      "source": [
        "nums = [1,2,3,4,5,6,7]\n",
        "k = 3\n",
        "nums = nums[-k:]+nums[3:]\n",
        "print(nums)\n",
        "print(nums[-3:])"
      ]
    },
    {
      "cell_type": "code",
      "execution_count": null,
      "id": "9245d3f9-53a2-414d-96fb-2bb00a07caef",
      "metadata": {
        "id": "9245d3f9-53a2-414d-96fb-2bb00a07caef",
        "outputId": "8e40ce8f-53e5-4f8e-81bb-7b33b809165e"
      },
      "outputs": [
        {
          "name": "stdout",
          "output_type": "stream",
          "text": [
            "[(1, 1), (1, 1), (1, 2), (1, 2), (1, 3), (1, 3), (2, 1), (2, 2), (2, 3)]\n"
          ]
        }
      ],
      "source": [
        "def kSmallestPairs(nums1, nums2, k):\n",
        "    pairs = [(u, v) for u in nums1 for v in nums2]\n",
        "    # pairs.sort(key=lambda pair: sum(pair))\n",
        "    # return pairs[:k]\n",
        "    pairs.sort()\n",
        "    return pairs[]\n",
        "\n",
        "# Example usage:\n",
        "nums1 = [1,1,2]\n",
        "nums2 = [1,2,3]\n",
        "k = 2\n",
        "print(kSmallestPairs(nums1, nums2, k))  # Output: [[1, 2], [1, 4], [1, 6]]\n"
      ]
    },
    {
      "cell_type": "code",
      "execution_count": null,
      "id": "d48ee1fd-cb55-4641-b0a9-a89880f95d05",
      "metadata": {
        "id": "d48ee1fd-cb55-4641-b0a9-a89880f95d05",
        "outputId": "ac71d29d-6f48-4832-8ec6-df3198e3f623"
      },
      "outputs": [
        {
          "name": "stdout",
          "output_type": "stream",
          "text": [
            "[1, 1, 2, 3, 4, 5, 6]\n"
          ]
        }
      ],
      "source": [
        "list1 = [1,2,4,6]\n",
        "list2 = [1,3,5,7]\n",
        "i = 0\n",
        "j = 0\n",
        "li = []\n",
        "while i<len(list1) and j<len(list2):\n",
        "    if list1[i]<list2[j]:\n",
        "        li.append(list1[i])\n",
        "        i += 1\n",
        "    elif list1[i]>list2[j]:\n",
        "        li.append(list2[j])\n",
        "        j += 1\n",
        "    else:\n",
        "        li.append(list1[i])\n",
        "        li.append(list2[j])\n",
        "        i += 1\n",
        "        j += 1\n",
        "print(li)"
      ]
    },
    {
      "cell_type": "code",
      "execution_count": null,
      "id": "693e9bef-2d5e-4f53-abf8-bcdfa093bb32",
      "metadata": {
        "id": "693e9bef-2d5e-4f53-abf8-bcdfa093bb32",
        "outputId": "7b89b9b8-8927-4198-f275-53dfcfa85723"
      },
      "outputs": [
        {
          "name": "stdout",
          "output_type": "stream",
          "text": [
            "[500, 400, 300, 200, 100]\n"
          ]
        }
      ],
      "source": [
        "list1 = [100, 200, 300, 400, 500]\n",
        "li = []\n",
        "for i in range(len(list1)-1,-1,-1):\n",
        "    li.append(list1[i])\n",
        "print(li)"
      ]
    },
    {
      "cell_type": "code",
      "execution_count": null,
      "id": "92a8a231-656e-47da-90c4-0840143e2b44",
      "metadata": {
        "id": "92a8a231-656e-47da-90c4-0840143e2b44",
        "outputId": "a80f9bfc-33fd-4cb2-b885-d50876a1d65d"
      },
      "outputs": [
        {
          "name": "stdout",
          "output_type": "stream",
          "text": [
            "500\n"
          ]
        }
      ],
      "source": [
        "def gen(list1):\n",
        "    n = len(list1)-1\n",
        "    while n>=0:\n",
        "        try:\n",
        "            yield list1[n]\n",
        "            n -= 1\n",
        "        except Exception as e:\n",
        "            break\n",
        "list1 = [100, 200, 300, 400, 500]\n",
        "n = gen(list1)\n",
        "print(next(n))"
      ]
    },
    {
      "cell_type": "code",
      "execution_count": null,
      "id": "db3d604b-40f9-44b1-8f4e-0574da0d9de4",
      "metadata": {
        "id": "db3d604b-40f9-44b1-8f4e-0574da0d9de4"
      },
      "outputs": [],
      "source": [
        "list1 = [\"M\", \"na\", \"i\", \"Ke\"]\n",
        "list2 = [\"y\", \"me\", \"s\", \"lly\"]\n",
        "k = []\n",
        "for i in range(len(list2)):\n",
        "    li = list1[i]+list2[i]\n",
        "    k.append(li)\n",
        "print(k)"
      ]
    },
    {
      "cell_type": "code",
      "execution_count": null,
      "id": "5d6cf09f-4878-415f-8f9d-9d36d8f04640",
      "metadata": {
        "id": "5d6cf09f-4878-415f-8f9d-9d36d8f04640",
        "outputId": "5a7de7d1-b20a-44d0-fd19-fe5f4406e1e8"
      },
      "outputs": [
        {
          "name": "stdout",
          "output_type": "stream",
          "text": [
            "[1, 4, 9, 16, 25, 36, 49]\n"
          ]
        }
      ],
      "source": [
        "numbers = [1, 2, 3, 4, 5, 6, 7]\n",
        "j = [i**2 for i in numbers]\n",
        "print(j)"
      ]
    },
    {
      "cell_type": "code",
      "execution_count": null,
      "id": "e2b04df8-3c87-49a3-9c38-1c4a1e24a2d6",
      "metadata": {
        "id": "e2b04df8-3c87-49a3-9c38-1c4a1e24a2d6",
        "outputId": "3fa24e74-1959-45c5-ab39-88d3e7ea1ab8"
      },
      "outputs": [
        {
          "name": "stdout",
          "output_type": "stream",
          "text": [
            "10 400\n",
            "20 300\n",
            "30 200\n",
            "40 100\n"
          ]
        }
      ],
      "source": [
        "list1 = [10, 20, 30, 40]\n",
        "list2 = [100, 200, 300, 400]\n",
        "i = 0\n",
        "j = len(list2)-1\n",
        "while i<=len(list1) and j>=0:\n",
        "    print(list1[i],list2[j])\n",
        "    i += 1\n",
        "    j -= 1"
      ]
    },
    {
      "cell_type": "code",
      "execution_count": 2,
      "id": "dba48828-47a7-4df8-8c4f-908c97c2e1a0",
      "metadata": {
        "colab": {
          "base_uri": "https://localhost:8080/",
          "height": 211
        },
        "id": "dba48828-47a7-4df8-8c4f-908c97c2e1a0",
        "outputId": "4e90f9ca-2e8e-4ef4-96b4-5e9148baa2b6"
      },
      "outputs": [
        {
          "output_type": "error",
          "ename": "IndexError",
          "evalue": "list index out of range",
          "traceback": [
            "\u001b[0;31m---------------------------------------------------------------------------\u001b[0m",
            "\u001b[0;31mIndexError\u001b[0m                                Traceback (most recent call last)",
            "\u001b[0;32m<ipython-input-2-9a1866e96442>\u001b[0m in \u001b[0;36m<cell line: 3>\u001b[0;34m()\u001b[0m\n\u001b[1;32m      5\u001b[0m         \u001b[0;32mcontinue\u001b[0m\u001b[0;34m\u001b[0m\u001b[0;34m\u001b[0m\u001b[0m\n\u001b[1;32m      6\u001b[0m     \u001b[0;32melif\u001b[0m \u001b[0mlist1\u001b[0m\u001b[0;34m[\u001b[0m\u001b[0mi\u001b[0m\u001b[0;34m]\u001b[0m\u001b[0;34m<\u001b[0m\u001b[0mlist1\u001b[0m\u001b[0;34m[\u001b[0m\u001b[0mi\u001b[0m\u001b[0;34m-\u001b[0m\u001b[0;36m1\u001b[0m\u001b[0;34m]\u001b[0m\u001b[0;34m:\u001b[0m\u001b[0;34m\u001b[0m\u001b[0;34m\u001b[0m\u001b[0m\n\u001b[0;32m----> 7\u001b[0;31m         \u001b[0mli\u001b[0m\u001b[0;34m[\u001b[0m\u001b[0mi\u001b[0m\u001b[0;34m-\u001b[0m\u001b[0;36m1\u001b[0m\u001b[0;34m]\u001b[0m\u001b[0;34m.\u001b[0m\u001b[0mappend\u001b[0m\u001b[0;34m(\u001b[0m\u001b[0mlist\u001b[0m\u001b[0;34m[\u001b[0m\u001b[0mi\u001b[0m\u001b[0;34m]\u001b[0m\u001b[0;34m)\u001b[0m\u001b[0;34m\u001b[0m\u001b[0;34m\u001b[0m\u001b[0m\n\u001b[0m\u001b[1;32m      8\u001b[0m         \u001b[0mli\u001b[0m\u001b[0;34m[\u001b[0m\u001b[0mi\u001b[0m\u001b[0;34m]\u001b[0m\u001b[0;34m.\u001b[0m\u001b[0mappend\u001b[0m\u001b[0;34m(\u001b[0m\u001b[0mlist\u001b[0m\u001b[0;34m[\u001b[0m\u001b[0mi\u001b[0m\u001b[0;34m-\u001b[0m\u001b[0;36m1\u001b[0m\u001b[0;34m]\u001b[0m\u001b[0;34m)\u001b[0m\u001b[0;34m\u001b[0m\u001b[0;34m\u001b[0m\u001b[0m\n\u001b[1;32m      9\u001b[0m     \u001b[0;32melse\u001b[0m\u001b[0;34m:\u001b[0m\u001b[0;34m\u001b[0m\u001b[0;34m\u001b[0m\u001b[0m\n",
            "\u001b[0;31mIndexError\u001b[0m: list index out of range"
          ]
        }
      ],
      "source": [
        "list1 = [5, 20, 15, 20, 25, 50, 20]\n",
        "li = []\n",
        "for i in range(len(list1)-1):\n",
        "    if list1[i] in li:\n",
        "        continue\n",
        "    elif list1[i]<list1[i-1]:\n",
        "        li[i-1].append(list[i])\n",
        "        li[i].append(list[i-1])\n",
        "    else:\n",
        "        li.append(list[i])\n",
        "print(li)"
      ]
    },
    {
      "cell_type": "code",
      "execution_count": null,
      "id": "3509e872-baf5-4ead-a7de-abd9773d1d00",
      "metadata": {
        "id": "3509e872-baf5-4ead-a7de-abd9773d1d00",
        "outputId": "c14fbd50-3ad1-45a5-fb88-83f4f3aeb3fe"
      },
      "outputs": [
        {
          "name": "stdout",
          "output_type": "stream",
          "text": [
            "[25, 50, 20, 5, 20, 15, 20]\n"
          ]
        }
      ],
      "source": [
        "arr = [5, 20, 15, 20, 25, 50, 20]\n",
        "right = len(arr)-1\n",
        "n = 3 # rotate 3 times\n",
        "while n>0:\n",
        "    last_element = arr[right]\n",
        "    for i in range(right,0,-1):\n",
        "        arr[i] = arr[i-1]\n",
        "    arr[0] = last_element\n",
        "    n -= 1\n",
        "print(arr)"
      ]
    },
    {
      "cell_type": "code",
      "execution_count": null,
      "id": "50c81a96-ed02-41bf-b645-9269e60b682f",
      "metadata": {
        "id": "50c81a96-ed02-41bf-b645-9269e60b682f",
        "outputId": "90696738-5ad5-4aec-9cd1-8ef91a797169"
      },
      "outputs": [
        {
          "name": "stdout",
          "output_type": "stream",
          "text": [
            "[20, 25, 50, 20, 5, 20, 15]\n"
          ]
        }
      ],
      "source": [
        "arr = [5, 20, 15, 20, 25, 50, 20]\n",
        "# left = 0\n",
        "n = 3\n",
        "while n>0:\n",
        "    first_element = arr[0]\n",
        "    for i in range(0,len(arr)-1):\n",
        "        arr[i] = arr[i+1]\n",
        "    arr[-1] = first_element\n",
        "    n -= 1\n",
        "print(arr)"
      ]
    },
    {
      "cell_type": "code",
      "execution_count": null,
      "id": "04c99312-2c42-4cd7-866b-c8f304e53b31",
      "metadata": {
        "id": "04c99312-2c42-4cd7-866b-c8f304e53b31",
        "outputId": "876b043c-f0a1-4271-aeb9-3eeb520bb01e"
      },
      "outputs": [
        {
          "ename": "TypeError",
          "evalue": "unsupported operand type(s) for %: 'list' and 'int'",
          "output_type": "error",
          "traceback": [
            "\u001b[1;31m---------------------------------------------------------------------------\u001b[0m",
            "\u001b[1;31mTypeError\u001b[0m                                 Traceback (most recent call last)",
            "Cell \u001b[1;32mIn[23], line 4\u001b[0m\n\u001b[0;32m      2\u001b[0m n1 \u001b[38;5;241m=\u001b[39m\u001b[38;5;28mlen\u001b[39m(ar)\n\u001b[0;32m      3\u001b[0m n2 \u001b[38;5;241m=\u001b[39m\u001b[38;5;241m15\u001b[39m\n\u001b[1;32m----> 4\u001b[0m n3 \u001b[38;5;241m=\u001b[39m \u001b[43mn\u001b[49m\u001b[38;5;241;43m%\u001b[39;49m\u001b[43mn1\u001b[49m\n\u001b[0;32m      5\u001b[0m \u001b[38;5;28mprint\u001b[39m(n3)\n\u001b[0;32m      6\u001b[0m n \u001b[38;5;241m=\u001b[39m ar[\u001b[38;5;241m2\u001b[39m:]\u001b[38;5;241m+\u001b[39mar[\u001b[38;5;241m0\u001b[39m:\u001b[38;5;241m3\u001b[39m]\n",
            "\u001b[1;31mTypeError\u001b[0m: unsupported operand type(s) for %: 'list' and 'int'"
          ]
        }
      ],
      "source": [
        "ar = [5, 20,67]\n",
        "n1 =len(ar)\n",
        "n2 =15\n",
        "n3 = n%n1\n",
        "print(n3)\n",
        "n = ar[2:]+ar[0:3]\n",
        "print(n)"
      ]
    },
    {
      "cell_type": "code",
      "execution_count": null,
      "id": "1eabd1ab-cc9c-4d9a-a794-dfe602e7ca22",
      "metadata": {
        "id": "1eabd1ab-cc9c-4d9a-a794-dfe602e7ca22"
      },
      "outputs": [],
      "source": [
        "ar = [5, 20,67]\n",
        "n1 =len(ar) # length of the array\n",
        "n2 = 14 # number of times rotated\n",
        "n3 = n2%n1\n",
        "print(n3)\n",
        "n = ar[-n3:]+ar[0:-n3]\n",
        "print(n)"
      ]
    },
    {
      "cell_type": "code",
      "execution_count": null,
      "id": "a5ad078e-41b3-4749-9474-bc680b816bf7",
      "metadata": {
        "id": "a5ad078e-41b3-4749-9474-bc680b816bf7",
        "outputId": "4d7b52f8-a3ca-4cb1-ad5a-2cdd0c493c10"
      },
      "outputs": [
        {
          "name": "stdout",
          "output_type": "stream",
          "text": [
            "[1, 2, 4, 4, 4, 5, 7, 7, 8, 9]\n"
          ]
        }
      ],
      "source": [
        "li = [7,1,4,2,5,7,4,9,4,8]\n",
        "for i in range(len(li)-1):\n",
        "    for j in range(i+1,len(li)):\n",
        "        if li[i]>li[j]:\n",
        "            li[i],li[j] = li[j],li[i]\n",
        "        else:\n",
        "            pass\n",
        "print(li)"
      ]
    },
    {
      "cell_type": "code",
      "execution_count": 7,
      "id": "d94be446-c64d-4bfb-9490-805b7c88a6de",
      "metadata": {
        "colab": {
          "base_uri": "https://localhost:8080/"
        },
        "id": "d94be446-c64d-4bfb-9490-805b7c88a6de",
        "outputId": "4e2f2b77-b21b-44dd-9a07-3406e6a31945"
      },
      "outputs": [
        {
          "output_type": "stream",
          "name": "stdout",
          "text": [
            "Enter any 3 countries : india japan russia\n",
            "['india', 'japan', 'russia']\n",
            "Enter the index position of the country to be removed: 2\n",
            "['india', 'japan']\n",
            "Enter country name to be inserted in the middle position: russia\n",
            "['india', 'russia', 'japan']\n"
          ]
        }
      ],
      "source": [
        "countries = input(\"Enter any 3 countries : \").split()\n",
        "print(countries)\n",
        "index_position = int(input(\"Enter the index position of the country to be removed: \"))\n",
        "countries.remove(countries[index_position])\n",
        "print(countries)\n",
        "mid = int(len(countries)/2)\n",
        "insert_country = input(\"Enter country name to be inserted in the middle position: \")\n",
        "countries.insert(mid, insert_country)\n",
        "print(countries)"
      ]
    },
    {
      "cell_type": "code",
      "source": [
        "my_tuple = (1,2,3,'x','y','z')\n",
        "print(my_tuple[0], my_tuple[2])\n",
        "print(len(my_tuple))\n",
        "element = input(\"Enter the element you want to check: \") #for 1 2 3 i am getting false\n",
        "if element in my_tuple:\n",
        "    print(True)\n",
        "else:\n",
        "    print(False)"
      ],
      "metadata": {
        "colab": {
          "base_uri": "https://localhost:8080/"
        },
        "id": "WmoSozdfOKOz",
        "outputId": "a5defa1c-544f-4956-d5db-fd93f2755181"
      },
      "id": "WmoSozdfOKOz",
      "execution_count": 14,
      "outputs": [
        {
          "output_type": "stream",
          "name": "stdout",
          "text": [
            "1 3\n",
            "6\n",
            "Enter the element you want to check: a\n",
            "False\n"
          ]
        }
      ]
    },
    {
      "cell_type": "code",
      "source": [
        "maths = int(input(\"Enter the marks obtained in maths: \"))\n",
        "physics = int(input(\"Enter the marks obtained in physics: \"))\n",
        "chemistry = int(input(\"Enter the marks obtained in chemistry:\"))\n",
        "if maths > 35 and physics > 35 and chemistry > 35:\n",
        "    print(\"You are passed in all subjects.\")\n",
        "    avg = (maths+physics+chemistry)/3\n",
        "    print(\"Your average marks is: \",avg)\n",
        "    if avg >= 89:\n",
        "        print(\"Your grade is A.\")\n",
        "    elif avg >= 69:\n",
        "        print(\"Your grade is B.\")\n",
        "    elif avg >= 59:\n",
        "        print(\"Your grade is C.\")\n",
        "    else:\n",
        "      print(\"You passed in 2nd grade\")\n",
        "else:\n",
        "    if maths <= 35:\n",
        "        print(\"You are failed in Maths.\")\n",
        "    if physics <= 35:\n",
        "        print(\"You are failed in Physics.\")\n",
        "    if chemistry <= 35:\n",
        "        print(\"You are failed in Chemistry.\")\n"
      ],
      "metadata": {
        "colab": {
          "base_uri": "https://localhost:8080/"
        },
        "id": "JMuSn72ekwHw",
        "outputId": "973e9a83-3285-4b9f-a19e-5c352a4c733c"
      },
      "id": "JMuSn72ekwHw",
      "execution_count": 17,
      "outputs": [
        {
          "output_type": "stream",
          "name": "stdout",
          "text": [
            "Enter the marks obtained in maths: 23\n",
            "Enter the marks obtained in physics: 67\n",
            "Enter the marks obtained in chemistry:87\n",
            "You are failed in Maths.\n"
          ]
        }
      ]
    },
    {
      "cell_type": "code",
      "source": [
        "#Prime Number\n",
        "n = int(input(\"Enter a number to check whether it is a prime number or not: \"))\n",
        "primeFlag = True\n",
        "if n == 1 or n == 0:\n",
        "    primeFlag = False\n",
        "for i in range(2,n-1):\n",
        "    if n%i == 0:\n",
        "        primeFlag = False\n",
        "if(primeFlag):\n",
        "    print(\"It is a prime number\")\n",
        "else:\n",
        "    print(\"It is not a prime number\")"
      ],
      "metadata": {
        "colab": {
          "base_uri": "https://localhost:8080/"
        },
        "id": "PXQXXbMKnhaG",
        "outputId": "718dcd91-97fc-4aa4-99ab-b52853ce1df1"
      },
      "id": "PXQXXbMKnhaG",
      "execution_count": 21,
      "outputs": [
        {
          "output_type": "stream",
          "name": "stdout",
          "text": [
            "Enter a number to check whether it is a prime number or not: 0\n",
            "It is not a prime number\n"
          ]
        }
      ]
    },
    {
      "cell_type": "code",
      "source": [
        "#Average of 3 numbers\n",
        "a,b,c = [int(x) for x in input(\"Enter 3 numbers: \").split()]\n",
        "avg = (a+b+c)/3\n",
        "print(\"The average of 3 numbers is:\", avg)"
      ],
      "metadata": {
        "colab": {
          "base_uri": "https://localhost:8080/"
        },
        "id": "D3S06LT-tUIw",
        "outputId": "eb10da87-ed55-4826-f71b-4c1ca605feaf"
      },
      "id": "D3S06LT-tUIw",
      "execution_count": 22,
      "outputs": [
        {
          "output_type": "stream",
          "name": "stdout",
          "text": [
            "Enter 3 numbers: 20 30 40\n",
            "The average of 3 numbers is: 30.0\n"
          ]
        }
      ]
    }
  ],
  "metadata": {
    "kernelspec": {
      "display_name": "Python 3 (ipykernel)",
      "language": "python",
      "name": "python3"
    },
    "language_info": {
      "codemirror_mode": {
        "name": "ipython",
        "version": 3
      },
      "file_extension": ".py",
      "mimetype": "text/x-python",
      "name": "python",
      "nbconvert_exporter": "python",
      "pygments_lexer": "ipython3",
      "version": "3.8.8"
    },
    "colab": {
      "provenance": []
    }
  },
  "nbformat": 4,
  "nbformat_minor": 5
}
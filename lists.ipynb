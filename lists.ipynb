{
 "cells": [
  {
   "cell_type": "code",
   "execution_count": 19,
   "id": "23faa519-31bb-4803-ae66-95c829a34de4",
   "metadata": {},
   "outputs": [
    {
     "name": "stdout",
     "output_type": "stream",
     "text": [
      "list is empty\n"
     ]
    },
    {
     "data": {
      "text/plain": [
       "[]"
      ]
     },
     "execution_count": 19,
     "metadata": {},
     "output_type": "execute_result"
    }
   ],
   "source": [
    "class stack():\n",
    "    def __init__(self,list_new):\n",
    "        self.list_new = list_new\n",
    "\n",
    "    def push(self,n):  \n",
    "        self.list_new.append(n) \n",
    "        return self.list_new\n",
    "        \n",
    "    def pop(self,n):\n",
    "        self.list_new.pop(n)\n",
    "        return self.list_new\n",
    "\n",
    "    def empty(self):\n",
    "        if len(self.list_new) == 0 :\n",
    "            print(\"list is empty\")\n",
    "        else:\n",
    "            print(\"list is not empty\")\n",
    "\n",
    "    # def length():\n",
    "    \n",
    "list_new = []\n",
    "obj = stack(list_new)\n",
    "# obj.push(6)\n",
    "# print(obj.list_new)\n",
    "# obj.pop(4)\n",
    "# print(obj.list_new)\n",
    "obj.empty()\n",
    "obj.list_new\n",
    "# print(list_new)"
   ]
  },
  {
   "cell_type": "code",
   "execution_count": 14,
   "id": "1a7f6a6a-35cb-49a0-82b1-71f8fbb04071",
   "metadata": {},
   "outputs": [
    {
     "data": {
      "text/plain": [
       "[1, 2, 4]"
      ]
     },
     "execution_count": 14,
     "metadata": {},
     "output_type": "execute_result"
    }
   ],
   "source": [
    "digits = [1,2,3]\n",
    "s = int(''.join(str(i) for i in digits))\n",
    "p = s+1\n",
    "k = [int(j) for j in str(p)]\n",
    "k"
   ]
  },
  {
   "cell_type": "code",
   "execution_count": null,
   "id": "f091ea93-58a0-409b-ad5c-9f3d913659f4",
   "metadata": {},
   "outputs": [],
   "source": [
    "numbers = [2,7,11,15]\n",
    "target = 9\n",
    "s = set()\n",
    "left = 0\n",
    "right = len(numbers)-1\n",
    "while left<right:\n",
    "    csum = numbers[left]+ numbers[right]\n",
    "    if csum == target:\n",
    "        s.add((left,right))\n",
    "    elif csum>target:\n",
    "        right -= 1\n",
    "    else:\n",
    "        left += 1\n",
    "output = list(s)\n",
    "print(output)"
   ]
  },
  {
   "cell_type": "code",
   "execution_count": 5,
   "id": "c21b1c4c-e6fe-4a86-9852-c39058eedfdd",
   "metadata": {},
   "outputs": [
    {
     "name": "stdout",
     "output_type": "stream",
     "text": [
      "[5, 6, 7, 4, 5, 6, 7]\n",
      "[5, 6, 7]\n"
     ]
    }
   ],
   "source": [
    "nums = [1,2,3,4,5,6,7]\n",
    "k = 3\n",
    "nums = nums[-k:]+nums[3:]\n",
    "print(nums)\n",
    "print(nums[-3:])"
   ]
  },
  {
   "cell_type": "code",
   "execution_count": 9,
   "id": "9245d3f9-53a2-414d-96fb-2bb00a07caef",
   "metadata": {},
   "outputs": [
    {
     "name": "stdout",
     "output_type": "stream",
     "text": [
      "[(1, 1), (1, 1), (1, 2), (1, 2), (1, 3), (1, 3), (2, 1), (2, 2), (2, 3)]\n"
     ]
    }
   ],
   "source": [
    "def kSmallestPairs(nums1, nums2, k):\n",
    "    pairs = [(u, v) for u in nums1 for v in nums2]\n",
    "    # pairs.sort(key=lambda pair: sum(pair))\n",
    "    # return pairs[:k]\n",
    "    pairs.sort()\n",
    "    return pairs[]\n",
    "\n",
    "# Example usage:\n",
    "nums1 = [1,1,2]\n",
    "nums2 = [1,2,3]\n",
    "k = 2\n",
    "print(kSmallestPairs(nums1, nums2, k))  # Output: [[1, 2], [1, 4], [1, 6]]\n"
   ]
  },
  {
   "cell_type": "code",
   "execution_count": 1,
   "id": "d48ee1fd-cb55-4641-b0a9-a89880f95d05",
   "metadata": {},
   "outputs": [
    {
     "name": "stdout",
     "output_type": "stream",
     "text": [
      "[1, 1, 2, 3, 4, 5, 6]\n"
     ]
    }
   ],
   "source": [
    "list1 = [1,2,4,6]\n",
    "list2 = [1,3,5,7]\n",
    "i = 0\n",
    "j = 0\n",
    "li = []\n",
    "while i<len(list1) and j<len(list2):\n",
    "    if list1[i]<list2[j]:\n",
    "        li.append(list1[i])\n",
    "        i += 1\n",
    "    elif list1[i]>list2[j]:\n",
    "        li.append(list2[j])\n",
    "        j += 1\n",
    "    else:\n",
    "        li.append(list1[i])\n",
    "        li.append(list2[j])\n",
    "        i += 1\n",
    "        j += 1\n",
    "print(li)"
   ]
  },
  {
   "cell_type": "code",
   "execution_count": 4,
   "id": "693e9bef-2d5e-4f53-abf8-bcdfa093bb32",
   "metadata": {},
   "outputs": [
    {
     "name": "stdout",
     "output_type": "stream",
     "text": [
      "[500, 400, 300, 200, 100]\n"
     ]
    }
   ],
   "source": [
    "list1 = [100, 200, 300, 400, 500]\n",
    "li = []\n",
    "for i in range(len(list1)-1,-1,-1):\n",
    "    li.append(list1[i])\n",
    "print(li)"
   ]
  },
  {
   "cell_type": "code",
   "execution_count": 10,
   "id": "92a8a231-656e-47da-90c4-0840143e2b44",
   "metadata": {},
   "outputs": [
    {
     "name": "stdout",
     "output_type": "stream",
     "text": [
      "500\n"
     ]
    }
   ],
   "source": [
    "def gen(list1):\n",
    "    n = len(list1)-1\n",
    "    while n>=0:\n",
    "        try:\n",
    "            yield list1[n]\n",
    "            n -= 1\n",
    "        except Exception as e:\n",
    "            break\n",
    "list1 = [100, 200, 300, 400, 500]\n",
    "n = gen(list1)\n",
    "print(next(n))"
   ]
  },
  {
   "cell_type": "code",
   "execution_count": null,
   "id": "db3d604b-40f9-44b1-8f4e-0574da0d9de4",
   "metadata": {},
   "outputs": [],
   "source": [
    "list1 = [\"M\", \"na\", \"i\", \"Ke\"]\n",
    "list2 = [\"y\", \"me\", \"s\", \"lly\"]\n",
    "k = []\n",
    "for i in range(len(list2)):\n",
    "    li = list1[i]+list2[i]\n",
    "    k.append(li)\n",
    "print(k)"
   ]
  },
  {
   "cell_type": "code",
   "execution_count": 11,
   "id": "5d6cf09f-4878-415f-8f9d-9d36d8f04640",
   "metadata": {},
   "outputs": [
    {
     "name": "stdout",
     "output_type": "stream",
     "text": [
      "[1, 4, 9, 16, 25, 36, 49]\n"
     ]
    }
   ],
   "source": [
    "numbers = [1, 2, 3, 4, 5, 6, 7] \n",
    "j = [i**2 for i in numbers]\n",
    "print(j)"
   ]
  },
  {
   "cell_type": "code",
   "execution_count": 12,
   "id": "e2b04df8-3c87-49a3-9c38-1c4a1e24a2d6",
   "metadata": {},
   "outputs": [
    {
     "name": "stdout",
     "output_type": "stream",
     "text": [
      "10 400\n",
      "20 300\n",
      "30 200\n",
      "40 100\n"
     ]
    }
   ],
   "source": [
    "list1 = [10, 20, 30, 40]\n",
    "list2 = [100, 200, 300, 400]\n",
    "i = 0\n",
    "j = len(list2)-1\n",
    "while i<=len(list1) and j>=0:\n",
    "    print(list1[i],list2[j])\n",
    "    i += 1\n",
    "    j -= 1"
   ]
  },
  {
   "cell_type": "code",
   "execution_count": 1,
   "id": "dba48828-47a7-4df8-8c4f-908c97c2e1a0",
   "metadata": {},
   "outputs": [
    {
     "ename": "IndexError",
     "evalue": "list index out of range",
     "output_type": "error",
     "traceback": [
      "\u001b[1;31m---------------------------------------------------------------------------\u001b[0m",
      "\u001b[1;31mIndexError\u001b[0m                                Traceback (most recent call last)",
      "Cell \u001b[1;32mIn[1], line 6\u001b[0m\n\u001b[0;32m      4\u001b[0m \u001b[38;5;28;01mif\u001b[39;00m list1[i] \u001b[38;5;129;01min\u001b[39;00m li:\n\u001b[0;32m      5\u001b[0m     \u001b[38;5;28;01mcontinue\u001b[39;00m\n\u001b[1;32m----> 6\u001b[0m \u001b[38;5;28;01melif\u001b[39;00m list1[i]\u001b[38;5;241m<\u001b[39m\u001b[43mli\u001b[49m\u001b[43m[\u001b[49m\u001b[43mi\u001b[49m\u001b[38;5;241;43m-\u001b[39;49m\u001b[38;5;241;43m1\u001b[39;49m\u001b[43m]\u001b[49m:\n\u001b[0;32m      7\u001b[0m     li[i\u001b[38;5;241m-\u001b[39m\u001b[38;5;241m1\u001b[39m]\u001b[38;5;241m.\u001b[39mappend(\u001b[38;5;28mlist\u001b[39m[i])\n\u001b[0;32m      8\u001b[0m     li[i]\u001b[38;5;241m.\u001b[39mappend(\u001b[38;5;28mlist\u001b[39m[i\u001b[38;5;241m-\u001b[39m\u001b[38;5;241m1\u001b[39m])\n",
      "\u001b[1;31mIndexError\u001b[0m: list index out of range"
     ]
    }
   ],
   "source": [
    "list1 = [5, 20, 15, 20, 25, 50, 20]\n",
    "li = []\n",
    "for i in range(len(list1)-1):\n",
    "    if list1[i] in li:\n",
    "        continue\n",
    "    elif list1[i]<li[i-1]:\n",
    "        li[i-1].append(list[i])\n",
    "        li[i].append(list[i-1])\n",
    "    else:\n",
    "        li.append(list[i])\n",
    "print(li)"
   ]
  },
  {
   "cell_type": "code",
   "execution_count": 9,
   "id": "3509e872-baf5-4ead-a7de-abd9773d1d00",
   "metadata": {},
   "outputs": [
    {
     "name": "stdout",
     "output_type": "stream",
     "text": [
      "[25, 50, 20, 5, 20, 15, 20]\n"
     ]
    }
   ],
   "source": [
    "arr = [5, 20, 15, 20, 25, 50, 20]\n",
    "right = len(arr)-1\n",
    "n = 3 # rotate 3 times\n",
    "while n>0:\n",
    "    last_element = arr[right]\n",
    "    for i in range(right,0,-1):\n",
    "        arr[i] = arr[i-1]\n",
    "    arr[0] = last_element\n",
    "    n -= 1\n",
    "print(arr)"
   ]
  },
  {
   "cell_type": "code",
   "execution_count": 30,
   "id": "50c81a96-ed02-41bf-b645-9269e60b682f",
   "metadata": {},
   "outputs": [
    {
     "name": "stdout",
     "output_type": "stream",
     "text": [
      "[20, 25, 50, 20, 5, 20, 15]\n"
     ]
    }
   ],
   "source": [
    "arr = [5, 20, 15, 20, 25, 50, 20]\n",
    "# left = 0\n",
    "n = 3\n",
    "while n>0:\n",
    "    first_element = arr[0]\n",
    "    for i in range(0,len(arr)-1):\n",
    "        arr[i] = arr[i+1]\n",
    "    arr[-1] = first_element\n",
    "    n -= 1\n",
    "print(arr)"
   ]
  },
  {
   "cell_type": "code",
   "execution_count": 23,
   "id": "04c99312-2c42-4cd7-866b-c8f304e53b31",
   "metadata": {},
   "outputs": [
    {
     "ename": "TypeError",
     "evalue": "unsupported operand type(s) for %: 'list' and 'int'",
     "output_type": "error",
     "traceback": [
      "\u001b[1;31m---------------------------------------------------------------------------\u001b[0m",
      "\u001b[1;31mTypeError\u001b[0m                                 Traceback (most recent call last)",
      "Cell \u001b[1;32mIn[23], line 4\u001b[0m\n\u001b[0;32m      2\u001b[0m n1 \u001b[38;5;241m=\u001b[39m\u001b[38;5;28mlen\u001b[39m(ar)\n\u001b[0;32m      3\u001b[0m n2 \u001b[38;5;241m=\u001b[39m\u001b[38;5;241m15\u001b[39m\n\u001b[1;32m----> 4\u001b[0m n3 \u001b[38;5;241m=\u001b[39m \u001b[43mn\u001b[49m\u001b[38;5;241;43m%\u001b[39;49m\u001b[43mn1\u001b[49m\n\u001b[0;32m      5\u001b[0m \u001b[38;5;28mprint\u001b[39m(n3)\n\u001b[0;32m      6\u001b[0m n \u001b[38;5;241m=\u001b[39m ar[\u001b[38;5;241m2\u001b[39m:]\u001b[38;5;241m+\u001b[39mar[\u001b[38;5;241m0\u001b[39m:\u001b[38;5;241m3\u001b[39m]\n",
      "\u001b[1;31mTypeError\u001b[0m: unsupported operand type(s) for %: 'list' and 'int'"
     ]
    }
   ],
   "source": [
    "ar = [5, 20,67]\n",
    "n1 =len(ar)\n",
    "n2 =15\n",
    "n3 = n%n1\n",
    "print(n3)\n",
    "n = ar[2:]+ar[0:3]\n",
    "print(n)"
   ]
  },
  {
   "cell_type": "code",
   "execution_count": null,
   "id": "1eabd1ab-cc9c-4d9a-a794-dfe602e7ca22",
   "metadata": {},
   "outputs": [],
   "source": [
    "ar = [5, 20,67]\n",
    "n1 =len(ar) # length of the array\n",
    "n2 = 14 # number of times rotated\n",
    "n3 = n2%n1\n",
    "print(n3)\n",
    "n = ar[-n3:]+ar[0:-n3]\n",
    "print(n)"
   ]
  },
  {
   "cell_type": "code",
   "execution_count": 2,
   "id": "a5ad078e-41b3-4749-9474-bc680b816bf7",
   "metadata": {},
   "outputs": [
    {
     "name": "stdout",
     "output_type": "stream",
     "text": [
      "[1, 2, 4, 4, 4, 5, 7, 7, 8, 9]\n"
     ]
    }
   ],
   "source": [
    "li = [7,1,4,2,5,7,4,9,4,8]\n",
    "for i in range(len(li)-1):\n",
    "    for j in range(i+1,len(li)):\n",
    "        if li[i]>li[j]:\n",
    "            li[i],li[j] = li[j],li[i]\n",
    "        else:\n",
    "            pass\n",
    "print(li)"
   ]
  },
  {
   "cell_type": "code",
   "execution_count": null,
   "id": "d94be446-c64d-4bfb-9490-805b7c88a6de",
   "metadata": {},
   "outputs": [],
   "source": []
  }
 ],
 "metadata": {
  "kernelspec": {
   "display_name": "Python 3 (ipykernel)",
   "language": "python",
   "name": "python3"
  },
  "language_info": {
   "codemirror_mode": {
    "name": "ipython",
    "version": 3
   },
   "file_extension": ".py",
   "mimetype": "text/x-python",
   "name": "python",
   "nbconvert_exporter": "python",
   "pygments_lexer": "ipython3",
   "version": "3.8.8"
  }
 },
 "nbformat": 4,
 "nbformat_minor": 5
}

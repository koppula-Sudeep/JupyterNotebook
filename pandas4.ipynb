{
 "cells": [
  {
   "cell_type": "code",
   "execution_count": 1,
   "id": "d413d36d-b1b1-4958-9841-84eefd8c740d",
   "metadata": {},
   "outputs": [],
   "source": [
    "import pandas as pd"
   ]
  },
  {
   "cell_type": "code",
   "execution_count": 2,
   "id": "606b2e77-452c-4f6d-855e-895ad795756d",
   "metadata": {},
   "outputs": [
    {
     "data": {
      "text/html": [
       "<div>\n",
       "<style scoped>\n",
       "    .dataframe tbody tr th:only-of-type {\n",
       "        vertical-align: middle;\n",
       "    }\n",
       "\n",
       "    .dataframe tbody tr th {\n",
       "        vertical-align: top;\n",
       "    }\n",
       "\n",
       "    .dataframe thead th {\n",
       "        text-align: right;\n",
       "    }\n",
       "</style>\n",
       "<table border=\"1\" class=\"dataframe\">\n",
       "  <thead>\n",
       "    <tr style=\"text-align: right;\">\n",
       "      <th></th>\n",
       "      <th>firstname</th>\n",
       "      <th>lastname</th>\n",
       "      <th>email</th>\n",
       "      <th>age</th>\n",
       "    </tr>\n",
       "  </thead>\n",
       "  <tbody>\n",
       "    <tr>\n",
       "      <th>0</th>\n",
       "      <td>Cam</td>\n",
       "      <td>Ingra</td>\n",
       "      <td>Cam.Ingra@outlook.com</td>\n",
       "      <td>40</td>\n",
       "    </tr>\n",
       "    <tr>\n",
       "      <th>1</th>\n",
       "      <td>Robbi</td>\n",
       "      <td>Hourigan</td>\n",
       "      <td>Robbi.Hourigan@yahoo.com</td>\n",
       "      <td>50</td>\n",
       "    </tr>\n",
       "    <tr>\n",
       "      <th>2</th>\n",
       "      <td>Florie</td>\n",
       "      <td>Pattin</td>\n",
       "      <td>Florie.Pattin@outlook.com</td>\n",
       "      <td>44</td>\n",
       "    </tr>\n",
       "    <tr>\n",
       "      <th>3</th>\n",
       "      <td>Cindelyn</td>\n",
       "      <td>Brunell</td>\n",
       "      <td>Cindelyn.Brunell@gmail.com</td>\n",
       "      <td>60</td>\n",
       "    </tr>\n",
       "    <tr>\n",
       "      <th>4</th>\n",
       "      <td>Danny</td>\n",
       "      <td>Goldina</td>\n",
       "      <td>Danny.Goldina@yahoo.com</td>\n",
       "      <td>30</td>\n",
       "    </tr>\n",
       "    <tr>\n",
       "      <th>...</th>\n",
       "      <td>...</td>\n",
       "      <td>...</td>\n",
       "      <td>...</td>\n",
       "      <td>...</td>\n",
       "    </tr>\n",
       "    <tr>\n",
       "      <th>992</th>\n",
       "      <td>Julieta</td>\n",
       "      <td>Weinreb</td>\n",
       "      <td>Julieta.Weinreb@yahoo.com</td>\n",
       "      <td>19</td>\n",
       "    </tr>\n",
       "    <tr>\n",
       "      <th>993</th>\n",
       "      <td>Danika</td>\n",
       "      <td>Germann</td>\n",
       "      <td>Danika.Germann@outlook.com</td>\n",
       "      <td>24</td>\n",
       "    </tr>\n",
       "    <tr>\n",
       "      <th>994</th>\n",
       "      <td>Dorene</td>\n",
       "      <td>Erminia</td>\n",
       "      <td>Dorene.Erminia@outlook.com</td>\n",
       "      <td>34</td>\n",
       "    </tr>\n",
       "    <tr>\n",
       "      <th>995</th>\n",
       "      <td>Sidoney</td>\n",
       "      <td>Suzetta</td>\n",
       "      <td>Sidoney.Suzetta@yahoo.com</td>\n",
       "      <td>49</td>\n",
       "    </tr>\n",
       "    <tr>\n",
       "      <th>996</th>\n",
       "      <td>Phylis</td>\n",
       "      <td>Dorine</td>\n",
       "      <td>Phylis.Dorine@outlook.com</td>\n",
       "      <td>33</td>\n",
       "    </tr>\n",
       "  </tbody>\n",
       "</table>\n",
       "<p>997 rows × 4 columns</p>\n",
       "</div>"
      ],
      "text/plain": [
       "    firstname  lastname                       email  age\n",
       "0         Cam     Ingra       Cam.Ingra@outlook.com   40\n",
       "1       Robbi  Hourigan    Robbi.Hourigan@yahoo.com   50\n",
       "2      Florie    Pattin   Florie.Pattin@outlook.com   44\n",
       "3    Cindelyn   Brunell  Cindelyn.Brunell@gmail.com   60\n",
       "4       Danny   Goldina     Danny.Goldina@yahoo.com   30\n",
       "..        ...       ...                         ...  ...\n",
       "992   Julieta   Weinreb   Julieta.Weinreb@yahoo.com   19\n",
       "993    Danika   Germann  Danika.Germann@outlook.com   24\n",
       "994    Dorene   Erminia  Dorene.Erminia@outlook.com   34\n",
       "995   Sidoney   Suzetta   Sidoney.Suzetta@yahoo.com   49\n",
       "996    Phylis    Dorine   Phylis.Dorine@outlook.com   33\n",
       "\n",
       "[997 rows x 4 columns]"
      ]
     },
     "execution_count": 2,
     "metadata": {},
     "output_type": "execute_result"
    }
   ],
   "source": [
    "df = pd.read_csv(r'C:/Users/SUDEEP/Downloads/data.csv')\n",
    "df"
   ]
  },
  {
   "cell_type": "code",
   "execution_count": 3,
   "id": "07b54d95-5d4f-4b54-9370-230b3089afa8",
   "metadata": {},
   "outputs": [
    {
     "data": {
      "text/html": [
       "<div>\n",
       "<style scoped>\n",
       "    .dataframe tbody tr th:only-of-type {\n",
       "        vertical-align: middle;\n",
       "    }\n",
       "\n",
       "    .dataframe tbody tr th {\n",
       "        vertical-align: top;\n",
       "    }\n",
       "\n",
       "    .dataframe thead th {\n",
       "        text-align: right;\n",
       "    }\n",
       "</style>\n",
       "<table border=\"1\" class=\"dataframe\">\n",
       "  <thead>\n",
       "    <tr style=\"text-align: right;\">\n",
       "      <th></th>\n",
       "      <th>firstname</th>\n",
       "      <th>lastname</th>\n",
       "      <th>email</th>\n",
       "      <th>age</th>\n",
       "    </tr>\n",
       "  </thead>\n",
       "  <tbody>\n",
       "    <tr>\n",
       "      <th>0</th>\n",
       "      <td>False</td>\n",
       "      <td>False</td>\n",
       "      <td>False</td>\n",
       "      <td>False</td>\n",
       "    </tr>\n",
       "    <tr>\n",
       "      <th>1</th>\n",
       "      <td>False</td>\n",
       "      <td>False</td>\n",
       "      <td>False</td>\n",
       "      <td>False</td>\n",
       "    </tr>\n",
       "    <tr>\n",
       "      <th>2</th>\n",
       "      <td>False</td>\n",
       "      <td>False</td>\n",
       "      <td>False</td>\n",
       "      <td>False</td>\n",
       "    </tr>\n",
       "    <tr>\n",
       "      <th>3</th>\n",
       "      <td>False</td>\n",
       "      <td>False</td>\n",
       "      <td>False</td>\n",
       "      <td>False</td>\n",
       "    </tr>\n",
       "    <tr>\n",
       "      <th>4</th>\n",
       "      <td>False</td>\n",
       "      <td>False</td>\n",
       "      <td>False</td>\n",
       "      <td>False</td>\n",
       "    </tr>\n",
       "    <tr>\n",
       "      <th>...</th>\n",
       "      <td>...</td>\n",
       "      <td>...</td>\n",
       "      <td>...</td>\n",
       "      <td>...</td>\n",
       "    </tr>\n",
       "    <tr>\n",
       "      <th>992</th>\n",
       "      <td>False</td>\n",
       "      <td>False</td>\n",
       "      <td>False</td>\n",
       "      <td>False</td>\n",
       "    </tr>\n",
       "    <tr>\n",
       "      <th>993</th>\n",
       "      <td>False</td>\n",
       "      <td>False</td>\n",
       "      <td>False</td>\n",
       "      <td>False</td>\n",
       "    </tr>\n",
       "    <tr>\n",
       "      <th>994</th>\n",
       "      <td>False</td>\n",
       "      <td>False</td>\n",
       "      <td>False</td>\n",
       "      <td>False</td>\n",
       "    </tr>\n",
       "    <tr>\n",
       "      <th>995</th>\n",
       "      <td>False</td>\n",
       "      <td>False</td>\n",
       "      <td>False</td>\n",
       "      <td>False</td>\n",
       "    </tr>\n",
       "    <tr>\n",
       "      <th>996</th>\n",
       "      <td>False</td>\n",
       "      <td>False</td>\n",
       "      <td>False</td>\n",
       "      <td>False</td>\n",
       "    </tr>\n",
       "  </tbody>\n",
       "</table>\n",
       "<p>997 rows × 4 columns</p>\n",
       "</div>"
      ],
      "text/plain": [
       "     firstname  lastname  email    age\n",
       "0        False     False  False  False\n",
       "1        False     False  False  False\n",
       "2        False     False  False  False\n",
       "3        False     False  False  False\n",
       "4        False     False  False  False\n",
       "..         ...       ...    ...    ...\n",
       "992      False     False  False  False\n",
       "993      False     False  False  False\n",
       "994      False     False  False  False\n",
       "995      False     False  False  False\n",
       "996      False     False  False  False\n",
       "\n",
       "[997 rows x 4 columns]"
      ]
     },
     "execution_count": 3,
     "metadata": {},
     "output_type": "execute_result"
    }
   ],
   "source": [
    "df.isnull()"
   ]
  },
  {
   "cell_type": "code",
   "execution_count": 4,
   "id": "b33382fc-e9eb-40d3-bfc8-2a687110d08d",
   "metadata": {},
   "outputs": [
    {
     "data": {
      "text/plain": [
       "firstname    0\n",
       "lastname     0\n",
       "email        0\n",
       "age          0\n",
       "dtype: int64"
      ]
     },
     "execution_count": 4,
     "metadata": {},
     "output_type": "execute_result"
    }
   ],
   "source": [
    "df.isnull().sum()"
   ]
  },
  {
   "cell_type": "code",
   "execution_count": null,
   "id": "bd6a083b-7583-4dce-ab30-2f8f23ebd811",
   "metadata": {},
   "outputs": [],
   "source": [
    "df.dropna()    # drop all the rows which are consisting null values\n",
    "               # by default axis = 0 means all rows\n",
    "               # if axis = 1 means it will check for null values in columns and if columns consists null values then it will remove columns"
   ]
  },
  {
   "cell_type": "code",
   "execution_count": null,
   "id": "9957a8ea-03d8-47f8-ba19-7cd0e390d3f5",
   "metadata": {},
   "outputs": [],
   "source": [
    "df.dropna(how = 'any')        # if any row value is null then remove that row"
   ]
  },
  {
   "cell_type": "code",
   "execution_count": null,
   "id": "0f9f6f7d-d834-4fa0-a983-5463fb69c44a",
   "metadata": {},
   "outputs": [],
   "source": [
    "df.dropna(how = 'all')        # if all row vales are null then remove that row"
   ]
  },
  {
   "cell_type": "code",
   "execution_count": null,
   "id": "61bad9b9-ad92-4bc1-8155-8f9ea7a724cc",
   "metadata": {},
   "outputs": [],
   "source": [
    "df.dropna(inplace = True)     # replaces the null values and creates a new DataFrame"
   ]
  },
  {
   "cell_type": "code",
   "execution_count": null,
   "id": "010b5b2c-a20e-40a7-b70b-c16274ad44bc",
   "metadata": {},
   "outputs": [],
   "source": [
    "df.fillna(0)         # to fill up all the null values with defined integer"
   ]
  },
  {
   "cell_type": "code",
   "execution_count": null,
   "id": "c22a6381-4361-4ed4-9291-3a8b973dd95a",
   "metadata": {},
   "outputs": [],
   "source": [
    "df.fillna({'physics':'none','chemistry':30,'maths':65}) # keys are the column name values will replace the null values with the defined interger"
   ]
  },
  {
   "cell_type": "code",
   "execution_count": null,
   "id": "35741891-eb89-4c3a-bef9-f38e72e16f61",
   "metadata": {},
   "outputs": [],
   "source": [
    "df.fillna(method = 'ffill') # ffill is a forward fill\n",
    "                            # fill the null values with the previous row values"
   ]
  },
  {
   "cell_type": "code",
   "execution_count": null,
   "id": "2904a441-5be2-42e2-b3db-d266382c82b7",
   "metadata": {},
   "outputs": [],
   "source": [
    "df.fillna(method = 'ffill', axis = 1)  #values of the previous column"
   ]
  },
  {
   "cell_type": "code",
   "execution_count": null,
   "id": "f94ea8ed-0bf1-4175-b475-cf478c0fc9a3",
   "metadata": {},
   "outputs": [],
   "source": [
    "df['physics'].fillna(value=df['physics'].mean())"
   ]
  },
  {
   "cell_type": "code",
   "execution_count": null,
   "id": "cf816607-d36f-48d0-882b-758f66359e54",
   "metadata": {},
   "outputs": [],
   "source": [
    "df.fillna(method = 'bfill')"
   ]
  },
  {
   "cell_type": "code",
   "execution_count": null,
   "id": "c959f6b7-2b3f-4f5f-b3be-7268c1778389",
   "metadata": {},
   "outputs": [],
   "source": [
    "df.replace(to_replace = 26 , value = 30)\n",
    "df.replace(34,1000)\n",
    "df.replace(to_replace=[3,4,5,6,7,8,8,12], value='A')\n",
    "df.replace(to_replace=[3,4,5,6], value=['A','B','C','D'])"
   ]
  },
  {
   "cell_type": "code",
   "execution_count": null,
   "id": "f6346e59-7e17-4506-87b9-f4f2c659b104",
   "metadata": {},
   "outputs": [],
   "source": [
    "df['physics'].replace(to_replace=[3,4,5,6], value=['A','B','C','D'], inplace = True)\n",
    "df.replace('[A-Za-z]',0, regex = True)  #string literals will be replaced by zero"
   ]
  }
 ],
 "metadata": {
  "kernelspec": {
   "display_name": "Python 3 (ipykernel)",
   "language": "python",
   "name": "python3"
  },
  "language_info": {
   "codemirror_mode": {
    "name": "ipython",
    "version": 3
   },
   "file_extension": ".py",
   "mimetype": "text/x-python",
   "name": "python",
   "nbconvert_exporter": "python",
   "pygments_lexer": "ipython3",
   "version": "3.8.8"
  }
 },
 "nbformat": 4,
 "nbformat_minor": 5
}

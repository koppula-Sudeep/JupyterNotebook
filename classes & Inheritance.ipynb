{
  "cells": [
    {
      "cell_type": "markdown",
      "metadata": {
        "id": "view-in-github",
        "colab_type": "text"
      },
      "source": [
        "<a href=\"https://colab.research.google.com/github/koppula-Sudeep/JupyterNotebook/blob/main/classes%20%26%20Inheritance.ipynb\" target=\"_parent\"><img src=\"https://colab.research.google.com/assets/colab-badge.svg\" alt=\"Open In Colab\"/></a>"
      ]
    },
    {
      "cell_type": "code",
      "execution_count": null,
      "id": "699db5f1-417f-412d-8beb-cb24ffb967cf",
      "metadata": {
        "id": "699db5f1-417f-412d-8beb-cb24ffb967cf",
        "outputId": "61616988-7d06-43b3-f64c-dc670cff423d"
      },
      "outputs": [
        {
          "name": "stdout",
          "output_type": "stream",
          "text": [
            "Parent Name: Alice\n",
            "Child Age: 10\n"
          ]
        }
      ],
      "source": [
        "class Parent:\n",
        "    def __init__(self, name):\n",
        "        self.name = name\n",
        "\n",
        "    def display(self):\n",
        "        print(f\"Parent Name: {self.name}\")\n",
        "\n",
        "class Child(Parent):\n",
        "    def __init__(self, name, age):\n",
        "        super().__init__(name)\n",
        "        self.age = age\n",
        "\n",
        "    def display(self):\n",
        "        super().display()\n",
        "        print(f\"Child Age: {self.age}\")\n",
        "\n",
        "c = Child(\"Alice\", 10)\n",
        "c.display()"
      ]
    },
    {
      "cell_type": "code",
      "execution_count": 1,
      "id": "341e40a6-b5c3-4bef-b93c-ea4374d941d1",
      "metadata": {
        "id": "341e40a6-b5c3-4bef-b93c-ea4374d941d1",
        "outputId": "8d876e48-7e79-43f4-8111-1d84416a5f90",
        "colab": {
          "base_uri": "https://localhost:8080/"
        }
      },
      "outputs": [
        {
          "output_type": "stream",
          "name": "stdout",
          "text": [
            "sudeep\n",
            "28\n",
            "male\n"
          ]
        }
      ],
      "source": [
        "class person:\n",
        "  def __init__(self):\n",
        "    self.name = 'sudeep'\n",
        "    self.age = 28\n",
        "    self.gender = 'male'\n",
        "\n",
        "p1 = person()\n",
        "print(p1.name)\n",
        "print(p1.age)\n",
        "print(p1.gender)"
      ]
    },
    {
      "cell_type": "code",
      "source": [
        "# parameterised constructors\n",
        "# name and age are passed as an parameters\n",
        "class person:\n",
        "  def __init__(self, name, age):\n",
        "    self.name = name\n",
        "    self.age = age\n",
        "\n",
        "p1 = person('sudeep', 28)\n",
        "print(p1.name)\n",
        "print(p1.age)"
      ],
      "metadata": {
        "id": "DFD9LuwzVNq1",
        "outputId": "414c3a41-a490-4b1e-a805-e379ec9f9860",
        "colab": {
          "base_uri": "https://localhost:8080/"
        }
      },
      "id": "DFD9LuwzVNq1",
      "execution_count": 2,
      "outputs": [
        {
          "output_type": "stream",
          "name": "stdout",
          "text": [
            "sudeep\n",
            "28\n"
          ]
        }
      ]
    },
    {
      "cell_type": "code",
      "source": [
        "#getter and setter methods\n",
        "\n",
        "class programmer:\n",
        "  def getname(self, name): # accessor methods\n",
        "    self.name = name\n",
        "  def setname(self): # immedator methods\n",
        "    return self.name\n",
        "\n",
        "  def getlang(self, lang):\n",
        "    self.lang = lang\n",
        "  def setlang(self):\n",
        "    return self.lang\n",
        "\n",
        "p1 = programmer()\n",
        "p1.getname('sudeep')\n",
        "print(p1.setname())\n",
        "\n",
        "p1.getlang(['python', 'c++', 'java'])\n",
        "print(p1.setlang())"
      ],
      "metadata": {
        "id": "H44mFVOkeN6L",
        "outputId": "ef289d57-5b85-4869-938c-d0f2758128a1",
        "colab": {
          "base_uri": "https://localhost:8080/"
        }
      },
      "id": "H44mFVOkeN6L",
      "execution_count": 5,
      "outputs": [
        {
          "output_type": "stream",
          "name": "stdout",
          "text": [
            "sudeep\n",
            "<bound method programmer.setlang of <__main__.programmer object at 0x79cd7d6760b0>>\n"
          ]
        }
      ]
    },
    {
      "cell_type": "code",
      "source": [
        "# Counting the number of objects whenever it is invoked\n",
        "class ObjectCounter:\n",
        "    numberOfObjects = 0\n",
        "\n",
        "    def __init__(self):\n",
        "        ObjectCounter.numberOfObjects += 1\n",
        "\n",
        "    @staticmethod\n",
        "    def display():\n",
        "        print(\"The number of times class invoked is\", ObjectCounter.numberOfObjects)\n",
        "\n",
        "c1 = ObjectCounter()\n",
        "c2 = ObjectCounter()\n",
        "ObjectCounter.display()"
      ],
      "metadata": {
        "id": "37b1hCzzo_Cl"
      },
      "id": "37b1hCzzo_Cl",
      "execution_count": null,
      "outputs": []
    },
    {
      "cell_type": "code",
      "source": [
        "# Inner Class\n",
        "\n",
        "class Car:\n",
        "    def __init__(self, name, model):\n",
        "        self.name = name\n",
        "        self.model = model\n",
        "\n",
        "    class Engine:\n",
        "        def __init__(self, car, horsepower, displacement):\n",
        "            self.car = car\n",
        "            self.horsepower = horsepower\n",
        "            self.displacement = displacement\n",
        "\n",
        "        def start(self):\n",
        "          print(f\"Engine started with \\n Name: {self.car.name}\\n Model: {self.car.model}\\n Horsepower: {self.horsepower}\\n Displacement: {self.displacement}L\")\n",
        "\n",
        "car = Car(\"Toyota\", \"Camry\")\n",
        "engine = car.Engine(car, 150, 2.5)\n",
        "engine.start()"
      ],
      "metadata": {
        "id": "cBgST2Tb4dB4",
        "outputId": "58daa612-3545-427b-9bc9-2b519e2c42aa",
        "colab": {
          "base_uri": "https://localhost:8080/"
        }
      },
      "id": "cBgST2Tb4dB4",
      "execution_count": 15,
      "outputs": [
        {
          "output_type": "stream",
          "name": "stdout",
          "text": [
            "Engine started with \n",
            " Name: Toyota\n",
            " Model: Camry\n",
            " Horsepower: 150\n",
            " Displacement: 2.5L\n"
          ]
        }
      ]
    }
  ],
  "metadata": {
    "kernelspec": {
      "display_name": "Python 3 (ipykernel)",
      "language": "python",
      "name": "python3"
    },
    "language_info": {
      "codemirror_mode": {
        "name": "ipython",
        "version": 3
      },
      "file_extension": ".py",
      "mimetype": "text/x-python",
      "name": "python",
      "nbconvert_exporter": "python",
      "pygments_lexer": "ipython3",
      "version": "3.8.8"
    },
    "colab": {
      "provenance": [],
      "include_colab_link": true
    }
  },
  "nbformat": 4,
  "nbformat_minor": 5
}
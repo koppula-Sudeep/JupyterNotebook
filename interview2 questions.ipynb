{
  "cells": [
    {
      "cell_type": "code",
      "execution_count": null,
      "id": "04cdac1a-d0bc-4a1e-b46d-db1c5572de96",
      "metadata": {
        "id": "04cdac1a-d0bc-4a1e-b46d-db1c5572de96",
        "outputId": "3caae1e0-612f-4acf-9cb6-fa9d61d31c84"
      },
      "outputs": [
        {
          "name": "stdout",
          "output_type": "stream",
          "text": [
            "[1, 1, 2, 3, 4, 5, 8, 9]\n"
          ]
        }
      ],
      "source": [
        "list1 = [1,2,4,8]\n",
        "list2 = [1,3,5,9]\n",
        "list1.extend(list2)\n",
        "list1.sort()\n",
        "print(list1)"
      ]
    },
    {
      "cell_type": "code",
      "execution_count": null,
      "id": "86ed6bdb-fef3-48ce-8baf-66b135ffdbe0",
      "metadata": {
        "id": "86ed6bdb-fef3-48ce-8baf-66b135ffdbe0",
        "outputId": "a586f17c-b40f-44ee-b766-433abeb59e01"
      },
      "outputs": [
        {
          "name": "stdout",
          "output_type": "stream",
          "text": [
            "[(1, 1), 2, 3, 4, 5, 8, 9, 10]\n"
          ]
        }
      ],
      "source": [
        "list1 = [1,2,4,8,10]\n",
        "list2 = [1,3,5,9]\n",
        "i = 0\n",
        "j = 0\n",
        "li = []\n",
        "while i < len(list1) and j < len(list2):\n",
        "    if list1[i]<list2[j]:\n",
        "        li.append(list1[i])\n",
        "        i += 1\n",
        "    elif list1[i]>list2[j]:\n",
        "        li.append(list2[j])\n",
        "        j += 1\n",
        "    else:\n",
        "        li.append((list1[i],list2[j]))\n",
        "        i += 1\n",
        "        j += 1\n",
        "# Append remaining elements from list1\n",
        "while i < len(list1):\n",
        "    li.append(list1[i])\n",
        "    i += 1\n",
        "\n",
        "# Append remaining elements from list2\n",
        "while j < len(list2):\n",
        "    li.append(list2[j])\n",
        "    j += 1\n",
        "print(li)"
      ]
    },
    {
      "cell_type": "code",
      "execution_count": null,
      "id": "e2a645a1-02dc-4f3d-9514-ebfb20e37794",
      "metadata": {
        "id": "e2a645a1-02dc-4f3d-9514-ebfb20e37794",
        "outputId": "3e088db2-9337-4963-dba7-c02a2ea20dcd"
      },
      "outputs": [
        {
          "name": "stdout",
          "output_type": "stream",
          "text": [
            "{'Hello': 2, 'world': 1, 'I': 1, 'Love': 2, 'Python': 1}\n"
          ]
        }
      ],
      "source": [
        "st='Hello world I Love Python'\n",
        "dict = {}\n",
        "count=0\n",
        "vowels = ['a','e','i','o','u','A','E','I','O','U']\n",
        "k = st.split()\n",
        "for i in k:\n",
        "    dict[i] = i\n",
        "for key, val in dict.items():\n",
        "    count = 0\n",
        "    for j in val:\n",
        "        if j in vowels:\n",
        "            count += 1\n",
        "    dict[key] = count\n",
        "print(dict)"
      ]
    },
    {
      "cell_type": "code",
      "execution_count": null,
      "id": "d2e56ff3-9340-4b31-a1dd-93ba310eadba",
      "metadata": {
        "id": "d2e56ff3-9340-4b31-a1dd-93ba310eadba",
        "outputId": "535b9ae5-76f6-4a59-b069-a2c940548d28"
      },
      "outputs": [
        {
          "name": "stdout",
          "output_type": "stream",
          "text": [
            "{'Hello': 2, 'world': 1, 'I': 1, 'Love': 2, 'Python': 1}\n"
          ]
        }
      ],
      "source": [
        "st = 'Hello world I Love Python'\n",
        "vowels = ['a', 'e', 'i', 'o', 'u', 'A', 'E', 'I', 'O', 'U']\n",
        "dict = {}\n",
        "\n",
        "# Split the string into words\n",
        "words = st.split()\n",
        "\n",
        "# Count the vowels in each word and populate the dictionary\n",
        "for i in words:\n",
        "    count = sum(1 for j in i if j in vowels)\n",
        "    dict[i] = count\n",
        "print(dict)"
      ]
    },
    {
      "cell_type": "code",
      "execution_count": null,
      "id": "e3b68ce7-a701-43fe-ab21-10b66248a2b5",
      "metadata": {
        "id": "e3b68ce7-a701-43fe-ab21-10b66248a2b5"
      },
      "outputs": [],
      "source": [
        "def squares(a):\n",
        "    for i in range(a):\n",
        "        if a == i**2:\n",
        "            return True\n",
        "    return False\n",
        "print(squares(101))\n",
        "# print(squares(36))"
      ]
    },
    {
      "cell_type": "code",
      "execution_count": null,
      "id": "a0805c60-5743-4e04-9766-93da3f38301d",
      "metadata": {
        "id": "a0805c60-5743-4e04-9766-93da3f38301d"
      },
      "outputs": [],
      "source": [
        "class test:\n",
        "    def __init__(self,name,age):\n",
        "        self.name = name\n",
        "        self.age = age\n",
        "\n",
        "    def display(self):\n",
        "        return f\"The name is {self.name} and {self.age}\"\n",
        "\n",
        "obj = test(\"sudeep\", 26)\n",
        "print(obj.display())"
      ]
    },
    {
      "cell_type": "code",
      "execution_count": null,
      "id": "d90594c7-3c7a-48d4-abe7-2894c01c7aac",
      "metadata": {
        "id": "d90594c7-3c7a-48d4-abe7-2894c01c7aac",
        "outputId": "59960459-2c1d-49eb-c99a-5bad5b7d865a"
      },
      "outputs": [
        {
          "name": "stdout",
          "output_type": "stream",
          "text": [
            "True\n"
          ]
        }
      ],
      "source": [
        "def keywords(dictionary,s):\n",
        "    k = ''\n",
        "    for i in dictionary:\n",
        "        k += i\n",
        "        if k == s:\n",
        "            return True\n",
        "    return False\n",
        "\n",
        "dictionary = [\"data\", \"camp\", \"cam\", \"lack\"]\n",
        "s = \"datacamp\"\n",
        "print(keywords(dictionary,s))"
      ]
    },
    {
      "cell_type": "code",
      "execution_count": null,
      "id": "40ede3cb-4303-48bb-b19a-9fde9af41219",
      "metadata": {
        "id": "40ede3cb-4303-48bb-b19a-9fde9af41219",
        "outputId": "bd2fcafd-c503-4121-f0a2-f331056cb2bd"
      },
      "outputs": [
        {
          "name": "stdout",
          "output_type": "stream",
          "text": [
            "SIMPLE\n"
          ]
        }
      ],
      "source": [
        "class decor:\n",
        "    def __init__(self,func):\n",
        "        self.func = func\n",
        "\n",
        "    def __call__(self,s):\n",
        "        s=s.upper()\n",
        "        return self.func(s)\n",
        "\n",
        "@decor\n",
        "def str(s):\n",
        "    return s\n",
        "\n",
        "print(str(\"simple\"))"
      ]
    },
    {
      "cell_type": "code",
      "execution_count": null,
      "id": "bef4d07a-3530-493e-9838-30904f215216",
      "metadata": {
        "id": "bef4d07a-3530-493e-9838-30904f215216",
        "outputId": "c5399f81-5c92-40fe-ff97-695cdd660b6d"
      },
      "outputs": [
        {
          "name": "stdout",
          "output_type": "stream",
          "text": [
            "SIMPLE\n"
          ]
        }
      ],
      "source": [
        "def decor(func):\n",
        "    def inner(s):\n",
        "        s = s.upper()\n",
        "        return func(s)\n",
        "    return inner\n",
        "\n",
        "@decor\n",
        "def str(s):\n",
        "    return s\n",
        "\n",
        "print(str(\"simple\"))"
      ]
    },
    {
      "cell_type": "code",
      "execution_count": null,
      "id": "536c3c9e-158f-466c-9cb2-eb0315474fbc",
      "metadata": {
        "id": "536c3c9e-158f-466c-9cb2-eb0315474fbc",
        "outputId": "c3909508-72c7-47f3-c1ab-43e0eec20ddd"
      },
      "outputs": [
        {
          "name": "stdout",
          "output_type": "stream",
          "text": [
            "[1, 2, 3, 4, '%', 6, 7, 8, 9, '&', 11, 12, 13, 14, '%', 16, 17, 18, 19, '&']\n"
          ]
        }
      ],
      "source": [
        "# Output : [1,2,3,4,%,6,7,8,9,&,11,12,13,14,%,16,17,18,19,&]\n",
        "num = 20\n",
        "li = []\n",
        "for i in range(1,num+1):\n",
        "    if i/5 in [1,3,5,7]:\n",
        "        li.append('%')\n",
        "    elif i/10 in [1,2,3,4,5,6,7]:\n",
        "        li.append('&')\n",
        "    else:\n",
        "        li.append(i)\n",
        "print(li)"
      ]
    },
    {
      "cell_type": "code",
      "execution_count": null,
      "id": "cafd652f-c0b1-48b1-9d8d-3a694dd0843b",
      "metadata": {
        "id": "cafd652f-c0b1-48b1-9d8d-3a694dd0843b",
        "outputId": "2d772a5e-9f02-4ae4-e492-3bf3d2ac43dc"
      },
      "outputs": [
        {
          "name": "stdout",
          "output_type": "stream",
          "text": [
            "[1, 2, 3]\n"
          ]
        }
      ],
      "source": [
        "#  Print repeat numbers from list\n",
        "li =  [1,2,3,4,5,1,2,3]\n",
        "dict = {}\n",
        "new_li = []\n",
        "for i in li:\n",
        "    if i in dict:\n",
        "        dict[i] += 1\n",
        "    else:\n",
        "        dict[i] = 1\n",
        "for key, val in dict.items():\n",
        "    if val>1:\n",
        "        new_li.append(key)\n",
        "print(new_li)"
      ]
    },
    {
      "cell_type": "code",
      "execution_count": null,
      "id": "f09eca8c-2f4d-41eb-904d-3c3792ae75cd",
      "metadata": {
        "id": "f09eca8c-2f4d-41eb-904d-3c3792ae75cd",
        "outputId": "f146536f-76f9-4ec8-e9a9-c23cc4e8462b"
      },
      "outputs": [
        {
          "name": "stdout",
          "output_type": "stream",
          "text": [
            "TADDINACE\n"
          ]
        }
      ],
      "source": [
        "# Reverse a string and keep vowels in the original place\n",
        "# Eg: CANDIDATE  ->  TADDINACE\n",
        "strs = 'CANDIDATE'\n",
        "# Convert string to list to perform swap operations\n",
        "strs_list = list(strs)\n",
        "\n",
        "left = 0\n",
        "right = len(strs_list) - 1\n",
        "vowels = ['a','e','i','o','u','A','E','I','O','U']\n",
        "\n",
        "while left <= right:\n",
        "    if strs_list[left] not in vowels and strs_list[right] not in vowels:\n",
        "        # Swap the elements\n",
        "        strs_list[left], strs_list[right] = strs_list[right], strs_list[left]\n",
        "        left += 1\n",
        "        right -= 1\n",
        "    elif strs_list[left] not in vowels and strs_list[right] in vowels:\n",
        "        right -= 1\n",
        "    elif strs_list[left] in vowels and strs_list[right] not in vowels:\n",
        "        left += 1\n",
        "    else:\n",
        "        left += 1\n",
        "        right -= 1\n",
        "\n",
        "print(result)"
      ]
    },
    {
      "cell_type": "code",
      "execution_count": null,
      "id": "892d6bd0-f6fa-4da0-983b-575bcd177efd",
      "metadata": {
        "id": "892d6bd0-f6fa-4da0-983b-575bcd177efd",
        "outputId": "c3c1361d-ab47-4cd5-f46e-5d55a5ee1ec4"
      },
      "outputs": [
        {
          "name": "stdout",
          "output_type": "stream",
          "text": [
            "1 \n",
            "2 6 \n",
            "3 7 10 \n",
            "4 8 11 13 \n",
            "5 9 12 14 15 \n"
          ]
        }
      ],
      "source": [
        "'''''\n",
        "1\n",
        "2 9\n",
        "3 8 10\n",
        "4 7 11 14\n",
        "5 6 12 13 15\n",
        "'''''\n"
      ]
    },
    {
      "cell_type": "code",
      "execution_count": null,
      "id": "829f25e4-5c5c-45d1-8689-ae2dc45a4f5d",
      "metadata": {
        "id": "829f25e4-5c5c-45d1-8689-ae2dc45a4f5d",
        "outputId": "f9974818-c81e-46a8-c077-89150fadce73"
      },
      "outputs": [
        {
          "name": "stdout",
          "output_type": "stream",
          "text": [
            "()()\n",
            "True\n"
          ]
        }
      ],
      "source": [
        "strg = '(a+b)*(c-d)'\n",
        "s = ''\n",
        "li = ['(',')']\n",
        "for i in range(len(strg)):\n",
        "    if strg[i] in li:\n",
        "        s += strg[i]\n",
        "print(s)\n",
        "while '()' in s:\n",
        "    s = s.replace('()','')\n",
        "if len(s) == 0:\n",
        "    print(True)\n",
        "else:\n",
        "    print(False)"
      ]
    },
    {
      "cell_type": "code",
      "execution_count": null,
      "id": "947bd507-4037-4995-8e8a-f936b55ef535",
      "metadata": {
        "id": "947bd507-4037-4995-8e8a-f936b55ef535",
        "outputId": "815a631a-fbc4-4ea2-cc26-0d65137b46fc"
      },
      "outputs": [
        {
          "name": "stdout",
          "output_type": "stream",
          "text": [
            "4321\n",
            "121\n"
          ]
        }
      ],
      "source": [
        "# Integer Reversing\n",
        "def int_palidrome(original_number):\n",
        "    s = original_number\n",
        "    reverse_order = 0\n",
        "    while s>0:\n",
        "        remainder = s%10\n",
        "        reverse_order = reverse_order*10 + remainder\n",
        "        s = s//10\n",
        "    return reverse_order\n",
        "\n",
        "original_number = 1234\n",
        "print(int_palidrome(original_number))\n",
        "original_number = 121\n",
        "print(int_palidrome(original_number))"
      ]
    },
    {
      "cell_type": "code",
      "execution_count": null,
      "id": "4eea64a0-0f20-40c4-b72e-6cd1e9944ded",
      "metadata": {
        "id": "4eea64a0-0f20-40c4-b72e-6cd1e9944ded"
      },
      "outputs": [],
      "source": [
        "s = 1234\n",
        "reverse_order = 0\n",
        "while s>0:\n",
        "    remainder = s%10\n",
        "    reverse_order = reverse_order*10 + remainder\n",
        "    s = s//10\n",
        "print(reverse_order)"
      ]
    },
    {
      "cell_type": "code",
      "execution_count": null,
      "id": "2910ddd5-4662-40fa-9d33-f582723ddf66",
      "metadata": {
        "id": "2910ddd5-4662-40fa-9d33-f582723ddf66"
      },
      "outputs": [],
      "source": []
    }
  ],
  "metadata": {
    "kernelspec": {
      "display_name": "Python 3 (ipykernel)",
      "language": "python",
      "name": "python3"
    },
    "language_info": {
      "codemirror_mode": {
        "name": "ipython",
        "version": 3
      },
      "file_extension": ".py",
      "mimetype": "text/x-python",
      "name": "python",
      "nbconvert_exporter": "python",
      "pygments_lexer": "ipython3",
      "version": "3.8.8"
    },
    "colab": {
      "provenance": []
    }
  },
  "nbformat": 4,
  "nbformat_minor": 5
}
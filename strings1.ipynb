{
  "cells": [
    {
      "cell_type": "markdown",
      "metadata": {
        "id": "view-in-github",
        "colab_type": "text"
      },
      "source": [
        "<a href=\"https://colab.research.google.com/github/koppula-Sudeep/JupyterNotebook/blob/main/strings1.ipynb\" target=\"_parent\"><img src=\"https://colab.research.google.com/assets/colab-badge.svg\" alt=\"Open In Colab\"/></a>"
      ]
    },
    {
      "cell_type": "code",
      "execution_count": null,
      "id": "fce6488b-e540-4894-9253-7fc0187f84ad",
      "metadata": {
        "id": "fce6488b-e540-4894-9253-7fc0187f84ad",
        "outputId": "24c7b6ed-f531-4d2d-e51f-06252b89b705"
      },
      "outputs": [
        {
          "name": "stdin",
          "output_type": "stream",
          "text": [
            "Enter a string: hello how are you\n"
          ]
        },
        {
          "name": "stdout",
          "output_type": "stream",
          "text": [
            "HELLO HOW ARE YOU\n",
            "Hello How Are You\n",
            "True\n"
          ]
        }
      ],
      "source": [
        "n = input(\"Enter a string:\")\n",
        "k = n.capitalize()  #it would capitalize only first letter of the sentence\n",
        "j = n.title()  #it would capitalize all the first letter of the words in a sentence\n",
        "l = n.upper() #it would convert all the letters to upper case\n",
        "if k[0].isupper(): #it would check whether all the letters are capital or not , if any one is also smaller case it would return False\n",
        "    print(True)\n",
        "else:\n",
        "    print(False)\n"
      ]
    },
    {
      "cell_type": "code",
      "execution_count": null,
      "id": "865ae15d-3e2c-48a8-ba3b-ab6a8fe6ecda",
      "metadata": {
        "id": "865ae15d-3e2c-48a8-ba3b-ab6a8fe6ecda",
        "outputId": "e88adb15-dce1-4fcb-d54c-ae5467ac23e9"
      },
      "outputs": [
        {
          "name": "stdout",
          "output_type": "stream",
          "text": [
            "HellO HoW ArE YoU \n"
          ]
        }
      ],
      "source": [
        "\"\"\" To Capitalize the first and last letter of the word in a sentence\"\"\"\n",
        "def capital(n):\n",
        "    j = n.title()\n",
        "    k = j.split()\n",
        "    p = \"\"\n",
        "    for i in k:\n",
        "        p += i[:-1]+i[-1].upper() +\" \"\n",
        "    return p\n",
        "\n",
        "\n",
        "print(capital(\"hello how are you\"))"
      ]
    },
    {
      "cell_type": "code",
      "execution_count": null,
      "id": "e37eb6eb-8e1c-4cb0-af06-d82f713bbabb",
      "metadata": {
        "id": "e37eb6eb-8e1c-4cb0-af06-d82f713bbabb",
        "outputId": "41d1d898-6874-41dc-fa1e-dccda8dddba8"
      },
      "outputs": [
        {
          "name": "stdout",
          "output_type": "stream",
          "text": [
            "$ how are you\n",
            "True\n",
            "True\n"
          ]
        }
      ],
      "source": [
        "def replace1(n):\n",
        "    k = n.replace(\"hello\",\"$\")  #will replace the word which we want to\n",
        "    return k\n",
        "\n",
        "# def translate1(n):\n",
        "\n",
        "def isalpha1(n):\n",
        "    if n.isalpha(): #checks whether all the characters are alphabets or not . If yes it returns True or if it contains specials characters if will return False\n",
        "        return True\n",
        "    else:\n",
        "        return False\n",
        "\n",
        "def isalnum1(n):\n",
        "    if n.isalnum():  # string contains either alphabet or number\n",
        "        return True\n",
        "    else:\n",
        "        return False\n",
        "\n",
        "\n",
        "print(replace1(\"hello how are you\"))\n",
        "# print(translate1(\"hello how are you\"))\n",
        "print(isalpha1(\"hellohowareyou\"))\n",
        "print(isalnum1(\"hello1how2are3you\"))"
      ]
    },
    {
      "cell_type": "code",
      "execution_count": null,
      "id": "a3c02577-16ad-47e2-b5ad-84282f982b04",
      "metadata": {
        "id": "a3c02577-16ad-47e2-b5ad-84282f982b04",
        "outputId": "e9c0281c-2346-49d4-a96d-9609d820ff07"
      },
      "outputs": [
        {
          "name": "stdout",
          "output_type": "stream",
          "text": [
            "Hello how are you?\n"
          ]
        }
      ],
      "source": [
        "def duplicate(n):   # to remove special characters\n",
        "    k = \"\"\n",
        "    for i in n:\n",
        "        if i.isalpha() or i.isspace() or i == \"?\":\n",
        "           k += i\n",
        "    return k\n",
        "\n",
        "print(duplicate(\"Hello#$%@ how% are you?\"))"
      ]
    },
    {
      "cell_type": "code",
      "execution_count": null,
      "id": "9608cd6d-85f3-4654-a30d-10ca89262a05",
      "metadata": {
        "id": "9608cd6d-85f3-4654-a30d-10ca89262a05",
        "outputId": "3a4a4673-a128-4ba4-c96d-0cbd113ecada"
      },
      "outputs": [
        {
          "name": "stdout",
          "output_type": "stream",
          "text": [
            "Hello how are you\n"
          ]
        }
      ],
      "source": [
        "str = \"Hello#$%@ how% are you?\"\n",
        "spl = \"@#$%?\"\n",
        "for i in spl:\n",
        "    str = str.replace(i,\"\")\n",
        "print(str)"
      ]
    },
    {
      "cell_type": "code",
      "execution_count": null,
      "id": "6b9b7862-542c-4a7b-b4f7-3632c67a331a",
      "metadata": {
        "id": "6b9b7862-542c-4a7b-b4f7-3632c67a331a",
        "outputId": "ee72cb54-6e25-4651-d70f-0f2c5bbf3fb0"
      },
      "outputs": [
        {
          "name": "stdout",
          "output_type": "stream",
          "text": [
            "A B C D E F G H I J K L M N O P Q R S T U V W X Y Z \n",
            "\n",
            "a b c d e f g h i j k l m n o p q r s t u v w x y z "
          ]
        }
      ],
      "source": [
        "\"\"\"To print the alphabets\"\"\"\n",
        "for i in range(65,91):      # A->65 and Z->91\n",
        "    print(chr(i),end=\" \")      # chr denotes character\n",
        "print(\"\\n\") #next line\n",
        "for i in range(97,123):      # a->97 and z->123\n",
        "    print(chr(i),end=\" \")      # chr denotes character"
      ]
    },
    {
      "cell_type": "code",
      "execution_count": null,
      "id": "48a51dd9-fc25-477d-8fe9-9ef3752afaa9",
      "metadata": {
        "id": "48a51dd9-fc25-477d-8fe9-9ef3752afaa9",
        "outputId": "5522e18f-53f8-41b4-a27d-3683b3694782"
      },
      "outputs": [
        {
          "name": "stdout",
          "output_type": "stream",
          "text": [
            "How are you guys? Are u fine really! Subscribe Channel.\n"
          ]
        }
      ],
      "source": [
        "# \"\"\"To Remove extra spaces \"\"\"\n",
        "str = \"How   are    you  guys  ?  Are  u fine      really    ! Subscribe Channel .\"\n",
        "s = \"\"\n",
        "for i in range(len(str)):\n",
        "    if str[i].isspace()and (str[i+1].isspace() or str[i+1]=='?' or str[i+1]=='!' or str[i+1]=='.'):\n",
        "        pass\n",
        "    else:\n",
        "        s += str[i]\n",
        "print(s)"
      ]
    },
    {
      "cell_type": "code",
      "execution_count": null,
      "id": "b0584f00-13df-408e-a84a-8cfef77cc383",
      "metadata": {
        "id": "b0584f00-13df-408e-a84a-8cfef77cc383",
        "outputId": "12d7c161-f205-4ec7-daa8-db5e541fbe76"
      },
      "outputs": [
        {
          "name": "stdin",
          "output_type": "stream",
          "text": [
            "Enter chr to replace *\n"
          ]
        },
        {
          "name": "stdout",
          "output_type": "stream",
          "text": [
            "*\n"
          ]
        }
      ],
      "source": [
        "str = \"How are u\"\n",
        "char = input(\"Enter chr to replace\")\n",
        "l = \"aeiou\"\n",
        "for i in str:\n",
        "    if l in i:\n",
        "\n",
        "print(k)"
      ]
    },
    {
      "cell_type": "code",
      "execution_count": null,
      "id": "91558638-83c1-4553-b4ef-2c59636affd5",
      "metadata": {
        "id": "91558638-83c1-4553-b4ef-2c59636affd5",
        "outputId": "fe7b752e-40e0-4b8e-e4aa-4daa03e6c3a7"
      },
      "outputs": [
        {
          "name": "stdout",
          "output_type": "stream",
          "text": [
            "\n"
          ]
        }
      ],
      "source": [
        "str = \"abcabcbb\"\n",
        "p = \"\"\n",
        "for i in range(len(str)):\n",
        "    if str[i] in p:\n",
        "        i = i+1\n",
        "        p += str[i]\n",
        "print(p)"
      ]
    },
    {
      "cell_type": "code",
      "execution_count": null,
      "id": "9a9306fa-b9b9-4cf6-affd-ad1b9dc7becc",
      "metadata": {
        "id": "9a9306fa-b9b9-4cf6-affd-ad1b9dc7becc",
        "outputId": "bb0253ee-1b0d-42ff-fb31-0e0839f3a0c5"
      },
      "outputs": [
        {
          "name": "stdout",
          "output_type": "stream",
          "text": [
            "[1, 2, 3, 0, 5]\n"
          ]
        }
      ],
      "source": [
        "list = [1,2,3,4,5]\n",
        "for i in range(len(list)):\n",
        "    if list[i] == 4:\n",
        "        list[i] = 0\n",
        "print(list)"
      ]
    },
    {
      "cell_type": "code",
      "execution_count": null,
      "id": "ed8db388-29ed-4352-b434-912a6dfabc6c",
      "metadata": {
        "id": "ed8db388-29ed-4352-b434-912a6dfabc6c"
      },
      "outputs": [],
      "source": [
        "list = [1,2,3,4,5]\n",
        "for i in list:\n",
        "    if list[i] == 4:\n",
        "        list.replace(i,0)\n",
        "print(list)"
      ]
    },
    {
      "cell_type": "code",
      "source": [
        "text = \"leetcode is cool\"\n",
        "dictn = {}\n",
        "s = ''\n",
        "x = text.split()\n",
        "for i in x:\n",
        "    dictn[i] = len(i)\n",
        "sorted_dict = dict(sorted(dictn.items(), key = lambda item:item[1]))\n",
        "print(sorted_dict)\n",
        "for key in sorted_dict.keys():\n",
        "  s += key + \" \"\n",
        "print(s)"
      ],
      "metadata": {
        "colab": {
          "base_uri": "https://localhost:8080/"
        },
        "id": "a4ZlQJKLQNHc",
        "outputId": "7074b5c4-6bb5-40c2-f443-84a5cce22cd1"
      },
      "id": "a4ZlQJKLQNHc",
      "execution_count": null,
      "outputs": [
        {
          "output_type": "stream",
          "name": "stdout",
          "text": [
            "{'is': 2, 'cool': 4, 'leetcode': 8}\n",
            "is cool leetcode \n"
          ]
        }
      ]
    },
    {
      "cell_type": "code",
      "source": [
        "strs = \"heoll ar yu th frend of jon!\"\n",
        "s = strs.replace('heoll','hello').replace('yu','you').replace('frend','friend').replace('jon','john').replace('th','the').replace('ar','are')\n",
        "print(s)\n"
      ],
      "metadata": {
        "id": "ysldlmhIDIE_",
        "outputId": "0ab4a4ae-56ff-42b7-fe4d-697e049d35c4",
        "colab": {
          "base_uri": "https://localhost:8080/"
        }
      },
      "id": "ysldlmhIDIE_",
      "execution_count": null,
      "outputs": [
        {
          "output_type": "stream",
          "name": "stdout",
          "text": [
            "hello are you the friend of john!\n"
          ]
        }
      ]
    },
    {
      "cell_type": "code",
      "source": [
        "import random\n",
        "\n",
        "strs = \"heoll aer yuo teh firend of jhon !\"\n",
        "word_mapping = {\n",
        "    \"heoll\": \"hello\",\n",
        "    \"aer\": \"are\",\n",
        "    \"yuo\": \"you\",\n",
        "    \"teh\": \"the\",\n",
        "    \"firend\": \"friend\",\n",
        "    \"jhon\": \"john\"\n",
        "}\n",
        "\n",
        "k = strs.split()\n",
        "s = \"\"\n",
        "for i in k:\n",
        "  if i in word_mapping:\n",
        "    s += word_mapping[i] + \" \"\n",
        "  else:\n",
        "    s += i + \" \"\n",
        "print(s)"
      ],
      "metadata": {
        "id": "UkdQqGOhENQb",
        "outputId": "481709d6-3a40-4d23-d4db-1cc3f77bba27",
        "colab": {
          "base_uri": "https://localhost:8080/"
        }
      },
      "id": "UkdQqGOhENQb",
      "execution_count": null,
      "outputs": [
        {
          "output_type": "stream",
          "name": "stdout",
          "text": [
            "hello are you the friend of john ! \n"
          ]
        }
      ]
    },
    {
      "cell_type": "code",
      "source": [
        "#number of chars\n",
        "s = 'aassdkjkeeejkjktjhkkjkosjdhaiwead'\n",
        "dictn = {}\n",
        "for i in range(len(s)-1):\n",
        "    if s[i] in dictn:\n",
        "        dictn[s[i]] += 1\n",
        "    else:\n",
        "        dictn[s[i]] = 1\n",
        "print(dictn)"
      ],
      "metadata": {
        "id": "fB94b4I62jdz"
      },
      "id": "fB94b4I62jdz",
      "execution_count": null,
      "outputs": []
    },
    {
      "cell_type": "code",
      "source": [
        "#reverse the words in a sentence\n",
        "s = \"super cool python\"\n",
        "k = ''\n",
        "for i in s.split():\n",
        "    k += ''.join(reversed(i)) + \" \"\n",
        "print(k)"
      ],
      "metadata": {
        "id": "7Iw5LnoU2saU"
      },
      "id": "7Iw5LnoU2saU",
      "execution_count": null,
      "outputs": []
    },
    {
      "cell_type": "code",
      "source": [
        "#reverse the words in a sentence\n",
        "s = str(input(\"Enter a string: \"))\n",
        "print(''.join(reversed(s)))"
      ],
      "metadata": {
        "id": "2tUyCHpg23kr"
      },
      "id": "2tUyCHpg23kr",
      "execution_count": null,
      "outputs": []
    },
    {
      "cell_type": "code",
      "source": [
        "#reverse a string\n",
        "s = str(input(\"Enter a string: \"))\n",
        "answer = ''\n",
        "for i in range(len(s)-1,-1,-1):\n",
        "    answer += s[i]\n",
        "print(answer)"
      ],
      "metadata": {
        "id": "vlSVdXKG29vl"
      },
      "id": "vlSVdXKG29vl",
      "execution_count": null,
      "outputs": []
    },
    {
      "cell_type": "code",
      "source": [
        "#reverse a string\n",
        "s = str(input(\"Enter a string: \"))\n",
        "n = len(s)-1\n",
        "answer = ''\n",
        "while n>=0:\n",
        "    answer += s[n]\n",
        "    n -= 1\n",
        "print(answer)"
      ],
      "metadata": {
        "id": "Xg0x4GF72-6X"
      },
      "id": "Xg0x4GF72-6X",
      "execution_count": null,
      "outputs": []
    }
  ],
  "metadata": {
    "kernelspec": {
      "display_name": "Python 3 (ipykernel)",
      "language": "python",
      "name": "python3"
    },
    "language_info": {
      "codemirror_mode": {
        "name": "ipython",
        "version": 3
      },
      "file_extension": ".py",
      "mimetype": "text/x-python",
      "name": "python",
      "nbconvert_exporter": "python",
      "pygments_lexer": "ipython3",
      "version": "3.8.8"
    },
    "colab": {
      "provenance": [],
      "include_colab_link": true
    }
  },
  "nbformat": 4,
  "nbformat_minor": 5
}
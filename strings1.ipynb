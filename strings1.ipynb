{
 "cells": [
  {
   "cell_type": "code",
   "execution_count": 9,
   "id": "fce6488b-e540-4894-9253-7fc0187f84ad",
   "metadata": {},
   "outputs": [
    {
     "name": "stdin",
     "output_type": "stream",
     "text": [
      "Enter a string: hello how are you\n"
     ]
    },
    {
     "name": "stdout",
     "output_type": "stream",
     "text": [
      "HELLO HOW ARE YOU\n",
      "Hello How Are You\n",
      "True\n"
     ]
    }
   ],
   "source": [
    "n = input(\"Enter a string:\")\n",
    "k = n.capitalize()  #it would capitalize only first letter of the sentence\n",
    "j = n.title()  #it would capitalize all the first letter of the words in a sentence \n",
    "l = n.upper() #it would convert all the letters to upper case\n",
    "if k[0].isupper(): #it would check whether all the letters are capital or not , if any one is also smaller case it would return False\n",
    "    print(True)\n",
    "else:\n",
    "    print(False)\n"
   ]
  },
  {
   "cell_type": "code",
   "execution_count": 20,
   "id": "865ae15d-3e2c-48a8-ba3b-ab6a8fe6ecda",
   "metadata": {},
   "outputs": [
    {
     "name": "stdout",
     "output_type": "stream",
     "text": [
      "HellO HoW ArE YoU \n"
     ]
    }
   ],
   "source": [
    "\"\"\" To Capitalize the first and last letter of the word in a sentence\"\"\"\n",
    "def capital(n):\n",
    "    j = n.title()\n",
    "    k = j.split()\n",
    "    p = \"\"\n",
    "    for i in k:       \n",
    "        p += i[:-1]+i[-1].upper() +\" \"\n",
    "    return p\n",
    "\n",
    "\n",
    "print(capital(\"hello how are you\"))"
   ]
  },
  {
   "cell_type": "code",
   "execution_count": 6,
   "id": "e37eb6eb-8e1c-4cb0-af06-d82f713bbabb",
   "metadata": {},
   "outputs": [
    {
     "name": "stdout",
     "output_type": "stream",
     "text": [
      "$ how are you\n",
      "True\n",
      "True\n"
     ]
    }
   ],
   "source": [
    "def replace1(n):\n",
    "    k = n.replace(\"hello\",\"$\")  #will replace the word which we want to \n",
    "    return k\n",
    "\n",
    "# def translate1(n):\n",
    "    \n",
    "def isalpha1(n):\n",
    "    if n.isalpha(): #checks whether all the characters are alphabets or not . If yes it returns True or if it contains specials characters if will return False\n",
    "        return True\n",
    "    else:\n",
    "        return False\n",
    "    \n",
    "def isalnum1(n):\n",
    "    if n.isalnum():  # string contains either alphabet or number \n",
    "        return True\n",
    "    else:\n",
    "        return False\n",
    "    \n",
    "\n",
    "print(replace1(\"hello how are you\"))\n",
    "# print(translate1(\"hello how are you\"))\n",
    "print(isalpha1(\"hellohowareyou\"))\n",
    "print(isalnum1(\"hello1how2are3you\"))"
   ]
  },
  {
   "cell_type": "code",
   "execution_count": 15,
   "id": "a3c02577-16ad-47e2-b5ad-84282f982b04",
   "metadata": {},
   "outputs": [
    {
     "name": "stdout",
     "output_type": "stream",
     "text": [
      "Hello how are you?\n"
     ]
    }
   ],
   "source": [
    "def duplicate(n):   # to remove special characters\n",
    "    k = \"\"\n",
    "    for i in n:\n",
    "        if i.isalpha() or i.isspace() or i == \"?\":\n",
    "           k += i\n",
    "    return k\n",
    "    \n",
    "print(duplicate(\"Hello#$%@ how% are you?\"))"
   ]
  },
  {
   "cell_type": "code",
   "execution_count": 17,
   "id": "9608cd6d-85f3-4654-a30d-10ca89262a05",
   "metadata": {},
   "outputs": [
    {
     "name": "stdout",
     "output_type": "stream",
     "text": [
      "Hello how are you\n"
     ]
    }
   ],
   "source": [
    "str = \"Hello#$%@ how% are you?\"\n",
    "spl = \"@#$%?\"\n",
    "for i in spl:\n",
    "    str = str.replace(i,\"\")\n",
    "print(str)"
   ]
  },
  {
   "cell_type": "code",
   "execution_count": 22,
   "id": "6b9b7862-542c-4a7b-b4f7-3632c67a331a",
   "metadata": {},
   "outputs": [
    {
     "name": "stdout",
     "output_type": "stream",
     "text": [
      "A B C D E F G H I J K L M N O P Q R S T U V W X Y Z \n",
      "\n",
      "a b c d e f g h i j k l m n o p q r s t u v w x y z "
     ]
    }
   ],
   "source": [
    "\"\"\"To print the alphabets\"\"\"\n",
    "for i in range(65,91):      # A->65 and Z->91\n",
    "    print(chr(i),end=\" \")      # chr denotes character\n",
    "print(\"\\n\") #next line\n",
    "for i in range(97,123):      # a->97 and z->123\n",
    "    print(chr(i),end=\" \")      # chr denotes character"
   ]
  },
  {
   "cell_type": "code",
   "execution_count": 31,
   "id": "48a51dd9-fc25-477d-8fe9-9ef3752afaa9",
   "metadata": {},
   "outputs": [
    {
     "name": "stdout",
     "output_type": "stream",
     "text": [
      "How are you guys? Are u fine really! Subscribe Channel.\n"
     ]
    }
   ],
   "source": [
    "# \"\"\"To Remove extra spaces \"\"\"\n",
    "str = \"How   are    you  guys  ?  Are  u fine      really    ! Subscribe Channel .\"\n",
    "s = \"\"\n",
    "for i in range(len(str)):\n",
    "    if str[i].isspace()and (str[i+1].isspace() or str[i+1]=='?' or str[i+1]=='!' or str[i+1]=='.'):\n",
    "        pass\n",
    "    else:\n",
    "        s += str[i] \n",
    "print(s)"
   ]
  },
  {
   "cell_type": "code",
   "execution_count": 34,
   "id": "b0584f00-13df-408e-a84a-8cfef77cc383",
   "metadata": {},
   "outputs": [
    {
     "name": "stdin",
     "output_type": "stream",
     "text": [
      "Enter chr to replace *\n"
     ]
    },
    {
     "name": "stdout",
     "output_type": "stream",
     "text": [
      "*\n"
     ]
    }
   ],
   "source": [
    "str = \"How are u\"\n",
    "char = input(\"Enter chr to replace\")\n",
    "l = \"aeiou\"\n",
    "for i in str:\n",
    "    if l in i:\n",
    "    \n",
    "print(k)"
   ]
  },
  {
   "cell_type": "code",
   "execution_count": 5,
   "id": "91558638-83c1-4553-b4ef-2c59636affd5",
   "metadata": {},
   "outputs": [
    {
     "name": "stdout",
     "output_type": "stream",
     "text": [
      "\n"
     ]
    }
   ],
   "source": [
    "str = \"abcabcbb\"\n",
    "p = \"\"\n",
    "for i in range(len(str)):\n",
    "    if str[i] in p:\n",
    "        i = i+1\n",
    "        p += str[i]\n",
    "print(p)"
   ]
  },
  {
   "cell_type": "code",
   "execution_count": 5,
   "id": "9a9306fa-b9b9-4cf6-affd-ad1b9dc7becc",
   "metadata": {},
   "outputs": [
    {
     "name": "stdout",
     "output_type": "stream",
     "text": [
      "[1, 2, 3, 0, 5]\n"
     ]
    }
   ],
   "source": [
    "list = [1,2,3,4,5]\n",
    "for i in range(len(list)):\n",
    "    if list[i] == 4:\n",
    "        list[i] = 0\n",
    "print(list)"
   ]
  },
  {
   "cell_type": "code",
   "execution_count": null,
   "id": "ed8db388-29ed-4352-b434-912a6dfabc6c",
   "metadata": {},
   "outputs": [],
   "source": [
    "list = [1,2,3,4,5]\n",
    "for i in list:\n",
    "    if list[i] == 4:\n",
    "        list.replace(i,0)\n",
    "print(list)"
   ]
  }
 ],
 "metadata": {
  "kernelspec": {
   "display_name": "Python 3 (ipykernel)",
   "language": "python",
   "name": "python3"
  },
  "language_info": {
   "codemirror_mode": {
    "name": "ipython",
    "version": 3
   },
   "file_extension": ".py",
   "mimetype": "text/x-python",
   "name": "python",
   "nbconvert_exporter": "python",
   "pygments_lexer": "ipython3",
   "version": "3.8.8"
  }
 },
 "nbformat": 4,
 "nbformat_minor": 5
}

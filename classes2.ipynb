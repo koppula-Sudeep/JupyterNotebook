{
 "cells": [
  {
   "cell_type": "code",
   "execution_count": 4,
   "id": "466d58b8-a11b-4278-a00f-02ae585b21e0",
   "metadata": {},
   "outputs": [
    {
     "name": "stdout",
     "output_type": "stream",
     "text": [
      "10-5 = 5 for function substraction\n"
     ]
    }
   ],
   "source": [
    "def decor(func):\n",
    "    def inner(a,b):\n",
    "        return f\"{a}-{b} = {func(a,b)} for function {func.__name__}\"\n",
    "    return inner\n",
    "\n",
    "@decor\n",
    "def substraction(a,b):\n",
    "    return a-b\n",
    "\n",
    "print(substraction(10,5))"
   ]
  },
  {
   "cell_type": "code",
   "execution_count": 13,
   "id": "2bdd649e-8170-4716-a221-4651cffc228f",
   "metadata": {},
   "outputs": [
    {
     "name": "stdout",
     "output_type": "stream",
     "text": [
      "My name is koppula\n"
     ]
    }
   ],
   "source": [
    "class meta:\n",
    "    def __init__(self,name):\n",
    "        self.name = name\n",
    "\n",
    "    def display(self):\n",
    "        return f\"My name is {self.name}\"\n",
    "\n",
    "name = \"koppula\"\n",
    "obj = meta(name)\n",
    "print(obj.display())"
   ]
  },
  {
   "cell_type": "code",
   "execution_count": 19,
   "id": "fe89f7a5-1bd1-43c7-8c3a-73c543b22ee0",
   "metadata": {},
   "outputs": [
    {
     "name": "stdout",
     "output_type": "stream",
     "text": [
      "My name is koppula sudeep\n"
     ]
    }
   ],
   "source": [
    "class stack:\n",
    "    __name = \"sudeep\"\n",
    "    def __init__(self,name):\n",
    "        self.name = name\n",
    "\n",
    "    @classmethod\n",
    "    def test(cls,instance):\n",
    "        print(f\"My name is {instance.name} {cls.__name}\")\n",
    "\n",
    "first_name = \"koppula\"\n",
    "obj = stack(first_name)\n",
    "stack.test(obj)"
   ]
  },
  {
   "cell_type": "code",
   "execution_count": null,
   "id": "75151034-b73e-46ee-9744-851ce0ab2969",
   "metadata": {},
   "outputs": [],
   "source": []
  }
 ],
 "metadata": {
  "kernelspec": {
   "display_name": "Python 3 (ipykernel)",
   "language": "python",
   "name": "python3"
  },
  "language_info": {
   "codemirror_mode": {
    "name": "ipython",
    "version": 3
   },
   "file_extension": ".py",
   "mimetype": "text/x-python",
   "name": "python",
   "nbconvert_exporter": "python",
   "pygments_lexer": "ipython3",
   "version": "3.8.8"
  }
 },
 "nbformat": 4,
 "nbformat_minor": 5
}

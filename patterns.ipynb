{
 "cells": [
  {
   "cell_type": "code",
   "execution_count": 1,
   "id": "804b7827-d69a-44bb-8a3c-ae182513c82f",
   "metadata": {},
   "outputs": [
    {
     "name": "stdout",
     "output_type": "stream",
     "text": [
      "1\n",
      "22\n",
      "333\n",
      "4444\n",
      "55555\n"
     ]
    }
   ],
   "source": [
    "def number_triangle(n):\n",
    "    for i in range(1, n + 1):\n",
    "        print(str(i) * i)\n",
    "\n",
    "number_triangle(5)"
   ]
  },
  {
   "cell_type": "code",
   "execution_count": 2,
   "id": "466071b2-2c49-4359-9b67-2f97695bdc64",
   "metadata": {},
   "outputs": [
    {
     "name": "stdout",
     "output_type": "stream",
     "text": [
      "     1 \n",
      "    1 1 \n",
      "   1 2 1 \n",
      "  1 3 3 1 \n",
      " 1 4 6 4 1 \n"
     ]
    }
   ],
   "source": [
    "def pascals_triangle(n):\n",
    "    for i in range(n):\n",
    "        print(' ' * (n - i), end='')\n",
    "        C = 1\n",
    "        for j in range(1, i + 2):\n",
    "            print(C, end=' ')\n",
    "            C = C * (i - j + 1) // j\n",
    "        print()\n",
    "\n",
    "pascals_triangle(5)"
   ]
  },
  {
   "cell_type": "code",
   "execution_count": 3,
   "id": "98b5a73b-3975-46ab-b8ea-28828817cbbe",
   "metadata": {},
   "outputs": [
    {
     "name": "stdout",
     "output_type": "stream",
     "text": [
      "1 \n",
      "2 3 \n",
      "4 5 6 \n",
      "7 8 9 10 \n",
      "11 12 13 14 15 \n"
     ]
    }
   ],
   "source": [
    "def floyds_triangle(n):\n",
    "    num = 1\n",
    "    for i in range(1, n + 1):\n",
    "        for j in range(1, i + 1):\n",
    "            print(num, end=' ')\n",
    "            num += 1\n",
    "        print()\n",
    "\n",
    "floyds_triangle(5)"
   ]
  },
  {
   "cell_type": "code",
   "execution_count": 4,
   "id": "f2221ec1-612b-4a4c-b83c-46bc9c17474d",
   "metadata": {},
   "outputs": [
    {
     "name": "stdout",
     "output_type": "stream",
     "text": [
      "1\n",
      "2 15\n",
      "3 14 4\n",
      "5 13 6 12\n",
      "7 11 8 10 9\n"
     ]
    }
   ],
   "source": [
    "def custom_pattern(n):\n",
    "    smallest = 1  # Starting number\n",
    "    largest = n * (n + 1) // 2  # The largest number in the pattern\n",
    "\n",
    "    for i in range(1, n + 1):\n",
    "        line = []\n",
    "        for j in range(i):\n",
    "            if j % 2 == 0:\n",
    "                line.append(smallest)\n",
    "                smallest += 1\n",
    "            else:\n",
    "                line.append(largest)\n",
    "                largest -= 1\n",
    "        print(' '.join(map(str, line)))\n",
    "\n",
    "custom_pattern(5)"
   ]
  },
  {
   "cell_type": "code",
   "execution_count": 5,
   "id": "433ac118-fefa-41f2-a72d-14fee9525212",
   "metadata": {},
   "outputs": [
    {
     "name": "stdout",
     "output_type": "stream",
     "text": [
      "1 \n",
      "2 6 \n",
      "3 7 10 \n",
      "4 8 11 13 \n",
      "5 9 12 14 15 \n"
     ]
    }
   ],
   "source": [
    "def tech_pattern(n):\n",
    "    for i in range(1,n+1):\n",
    "        c = i\n",
    "        diff = n - 1 \n",
    "        for j in range(i):\n",
    "            print(c, end=\" \")\n",
    "            c += diff  \n",
    "            diff -= 1\n",
    "        print()\n",
    "\n",
    "n = 5\n",
    "tech_pattern(n)"
   ]
  },
  {
   "cell_type": "code",
   "execution_count": null,
   "id": "9c0c80e5-3ce0-469f-9ccd-8751727449c7",
   "metadata": {},
   "outputs": [],
   "source": []
  }
 ],
 "metadata": {
  "kernelspec": {
   "display_name": "Python 3 (ipykernel)",
   "language": "python",
   "name": "python3"
  },
  "language_info": {
   "codemirror_mode": {
    "name": "ipython",
    "version": 3
   },
   "file_extension": ".py",
   "mimetype": "text/x-python",
   "name": "python",
   "nbconvert_exporter": "python",
   "pygments_lexer": "ipython3",
   "version": "3.8.8"
  }
 },
 "nbformat": 4,
 "nbformat_minor": 5
}

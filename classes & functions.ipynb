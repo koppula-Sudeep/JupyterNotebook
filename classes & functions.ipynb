{
  "cells": [
    {
      "cell_type": "markdown",
      "metadata": {
        "id": "view-in-github",
        "colab_type": "text"
      },
      "source": [
        "<a href=\"https://colab.research.google.com/github/koppula-Sudeep/JupyterNotebook/blob/main/classes%20%26%20functions.ipynb\" target=\"_parent\"><img src=\"https://colab.research.google.com/assets/colab-badge.svg\" alt=\"Open In Colab\"/></a>"
      ]
    },
    {
      "cell_type": "code",
      "execution_count": null,
      "id": "466d58b8-a11b-4278-a00f-02ae585b21e0",
      "metadata": {
        "id": "466d58b8-a11b-4278-a00f-02ae585b21e0",
        "outputId": "64978133-407d-4b17-edff-17ec6be863b1"
      },
      "outputs": [
        {
          "name": "stdout",
          "output_type": "stream",
          "text": [
            "10-5 = 5 for function substraction\n"
          ]
        }
      ],
      "source": [
        "def decor(func):\n",
        "    def inner(a,b):\n",
        "        return f\"{a}-{b} = {func(a,b)} for function {func.__name__}\"\n",
        "    return inner\n",
        "\n",
        "@decor\n",
        "def substraction(a,b):\n",
        "    return a-b\n",
        "\n",
        "print(substraction(10,5))"
      ]
    },
    {
      "cell_type": "code",
      "execution_count": null,
      "id": "2bdd649e-8170-4716-a221-4651cffc228f",
      "metadata": {
        "id": "2bdd649e-8170-4716-a221-4651cffc228f",
        "outputId": "f3f88642-8c83-4815-ef46-f2e46dabe2ad"
      },
      "outputs": [
        {
          "name": "stdout",
          "output_type": "stream",
          "text": [
            "My name is koppula\n"
          ]
        }
      ],
      "source": [
        "class meta:\n",
        "    def __init__(self,name):\n",
        "        self.name = name\n",
        "\n",
        "    def display(self):\n",
        "        return f\"My name is {self.name}\"\n",
        "\n",
        "name = \"koppula\"\n",
        "obj = meta(name)\n",
        "print(obj.display())"
      ]
    },
    {
      "cell_type": "code",
      "execution_count": null,
      "id": "fe89f7a5-1bd1-43c7-8c3a-73c543b22ee0",
      "metadata": {
        "id": "fe89f7a5-1bd1-43c7-8c3a-73c543b22ee0",
        "outputId": "dbb1ed7b-5537-4208-ea20-52a9d2b9d13e"
      },
      "outputs": [
        {
          "name": "stdout",
          "output_type": "stream",
          "text": [
            "My name is koppula sudeep\n"
          ]
        }
      ],
      "source": [
        "class stack:\n",
        "    __name = \"sudeep\"\n",
        "    def __init__(self,name):\n",
        "        self.name = name\n",
        "\n",
        "    @classmethod\n",
        "    def test(cls,instance):\n",
        "        print(f\"My name is {instance.name} {cls.__name}\")\n",
        "\n",
        "first_name = \"koppula\"\n",
        "obj = stack(first_name)\n",
        "stack.test(obj)"
      ]
    },
    {
      "cell_type": "code",
      "execution_count": null,
      "id": "75151034-b73e-46ee-9744-851ce0ab2969",
      "metadata": {
        "id": "75151034-b73e-46ee-9744-851ce0ab2969",
        "outputId": "9980b676-f30e-46cc-ac37-0de23735bf2b",
        "colab": {
          "base_uri": "https://localhost:8080/"
        }
      },
      "outputs": [
        {
          "output_type": "stream",
          "name": "stdout",
          "text": [
            "123\n",
            "678\n",
            "123\n",
            "678\n",
            "123\n"
          ]
        }
      ],
      "source": [
        "x = 123\n",
        "\n",
        "def display():\n",
        "    x = 678\n",
        "    print(x)\n",
        "    print(globals()['x'])\n",
        "\n",
        "print(x)\n",
        "display()\n",
        "z = display #assigning to a variable\n",
        "z()"
      ]
    },
    {
      "cell_type": "code",
      "source": [
        "#inner function\n",
        "def display(name):\n",
        "  def inner():\n",
        "    return \"Hello\"\n",
        "  return inner() + \" \" + name\n",
        "\n",
        "print(display(\"sudeep\"))"
      ],
      "metadata": {
        "id": "hfAk7znr1bxz",
        "outputId": "19fb504a-8acd-4eda-cc49-922f1a9f12e8",
        "colab": {
          "base_uri": "https://localhost:8080/"
        }
      },
      "id": "hfAk7znr1bxz",
      "execution_count": 3,
      "outputs": [
        {
          "output_type": "stream",
          "name": "stdout",
          "text": [
            "Hello sudeep\n"
          ]
        }
      ]
    },
    {
      "cell_type": "code",
      "source": [
        "#returning function\n",
        "def display():\n",
        "  def inner():\n",
        "    return \"Hello\"\n",
        "  return inner\n",
        "\n",
        "obj = display()\n",
        "print(obj())"
      ],
      "metadata": {
        "id": "r2ZSJsMZ--3K"
      },
      "id": "r2ZSJsMZ--3K",
      "execution_count": null,
      "outputs": []
    },
    {
      "cell_type": "code",
      "source": [
        "def display(fun):\n",
        "    return \"Hello\"+\" \"+fun\n",
        "\n",
        "def name():\n",
        "    return \"sudeep\"\n",
        "\n",
        "print(display(name()))"
      ],
      "metadata": {
        "id": "CKEX5DsO77ri"
      },
      "id": "CKEX5DsO77ri",
      "execution_count": null,
      "outputs": []
    },
    {
      "cell_type": "code",
      "source": [],
      "metadata": {
        "id": "RBmTHizo_D1R"
      },
      "id": "RBmTHizo_D1R",
      "execution_count": null,
      "outputs": []
    }
  ],
  "metadata": {
    "kernelspec": {
      "display_name": "Python 3 (ipykernel)",
      "language": "python",
      "name": "python3"
    },
    "language_info": {
      "codemirror_mode": {
        "name": "ipython",
        "version": 3
      },
      "file_extension": ".py",
      "mimetype": "text/x-python",
      "name": "python",
      "nbconvert_exporter": "python",
      "pygments_lexer": "ipython3",
      "version": "3.8.8"
    },
    "colab": {
      "provenance": [],
      "include_colab_link": true
    }
  },
  "nbformat": 4,
  "nbformat_minor": 5
}
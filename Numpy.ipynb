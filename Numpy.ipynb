{
  "cells": [
    {
      "cell_type": "markdown",
      "metadata": {
        "id": "view-in-github",
        "colab_type": "text"
      },
      "source": [
        "<a href=\"https://colab.research.google.com/github/koppula-Sudeep/JupyterNotebook/blob/main/Numpy.ipynb\" target=\"_parent\"><img src=\"https://colab.research.google.com/assets/colab-badge.svg\" alt=\"Open In Colab\"/></a>"
      ]
    },
    {
      "cell_type": "code",
      "execution_count": null,
      "id": "741f674d-6c2d-4590-9b90-31d23d5c1209",
      "metadata": {
        "id": "741f674d-6c2d-4590-9b90-31d23d5c1209"
      },
      "outputs": [],
      "source": [
        "import numpy as np"
      ]
    },
    {
      "cell_type": "code",
      "execution_count": null,
      "id": "1c7445c2-6f96-4109-8a35-b3082c5c098e",
      "metadata": {
        "id": "1c7445c2-6f96-4109-8a35-b3082c5c098e",
        "outputId": "bf17e2cc-cf3f-44bf-c56c-391e8d982f6d"
      },
      "outputs": [
        {
          "name": "stdout",
          "output_type": "stream",
          "text": [
            "[1 2 3 4 5]\n",
            "int32\n",
            "<class 'numpy.ndarray'>\n"
          ]
        }
      ],
      "source": [
        "d1 = np.array([1,2,3,4,5])\n",
        "print(d1)\n",
        "print(d1.dtype) # type of data present in an array\n",
        "print(type(d1)) # type of data"
      ]
    },
    {
      "cell_type": "code",
      "execution_count": null,
      "id": "9e90a3fc-2c32-4205-9aaf-450d9ca4f6f1",
      "metadata": {
        "id": "9e90a3fc-2c32-4205-9aaf-450d9ca4f6f1",
        "outputId": "f5952c01-4c05-4601-a547-09fd455f241d"
      },
      "outputs": [
        {
          "name": "stdout",
          "output_type": "stream",
          "text": [
            "[[1 2 3 4 5]\n",
            " [5 6 7 8 9]]\n",
            "int32\n",
            "10\n"
          ]
        }
      ],
      "source": [
        "d2 = np.array([[1,2,3,4,5],[5,6,7,8,9]])\n",
        "print(d2)\n",
        "print(d2.dtype)\n",
        "print(d2.size) # number of elements"
      ]
    },
    {
      "cell_type": "code",
      "execution_count": null,
      "id": "263925cd-5522-4a10-b75e-646f8e83cba7",
      "metadata": {
        "id": "263925cd-5522-4a10-b75e-646f8e83cba7",
        "outputId": "c1cdca66-be9d-47f2-ea89-76ab8e29e560"
      },
      "outputs": [
        {
          "name": "stdout",
          "output_type": "stream",
          "text": [
            "(5,)\n",
            "(2, 5)\n"
          ]
        }
      ],
      "source": [
        "# shape = (rows,columns)\n",
        "print(d1.shape)\n",
        "print(d2.shape)"
      ]
    },
    {
      "cell_type": "code",
      "execution_count": null,
      "id": "b742d991-2956-4161-9d74-07f490149aa9",
      "metadata": {
        "id": "b742d991-2956-4161-9d74-07f490149aa9",
        "outputId": "482c80af-43e3-4267-d117-78687cf11f27"
      },
      "outputs": [
        {
          "name": "stdout",
          "output_type": "stream",
          "text": [
            "[[ 1.   2.   3.   4.2  5. ]\n",
            " [ 5.   6.   7.   8.   9. ]\n",
            " [11.  12.  13.  14.  15. ]]\n",
            "float64\n"
          ]
        }
      ],
      "source": [
        "d3 = np.array([[1,2,3,4.2,5],[5,6,7,8,9],[11,12,13,14,15]])\n",
        "print(d3)\n",
        "print(d3.dtype)"
      ]
    },
    {
      "cell_type": "code",
      "execution_count": null,
      "id": "876bdc41-86ae-4b1d-8953-22f8b2b564f7",
      "metadata": {
        "id": "876bdc41-86ae-4b1d-8953-22f8b2b564f7",
        "outputId": "f4606548-7bc2-400d-d1c3-efa21d076b45"
      },
      "outputs": [
        {
          "data": {
            "text/plain": [
              "array([[ 1. ,  5. , 11. ],\n",
              "       [ 2. ,  6. , 12. ],\n",
              "       [ 3. ,  7. , 13. ],\n",
              "       [ 4.2,  8. , 14. ],\n",
              "       [ 5. ,  9. , 15. ]])"
            ]
          },
          "execution_count": 18,
          "metadata": {},
          "output_type": "execute_result"
        }
      ],
      "source": [
        "d3.transpose() # CONVERT ROWS INTO COLUMNS AND VICE-VERSA"
      ]
    },
    {
      "cell_type": "code",
      "execution_count": null,
      "id": "0e304d96-4622-4d23-be65-603c6a0506dc",
      "metadata": {
        "id": "0e304d96-4622-4d23-be65-603c6a0506dc",
        "outputId": "62a191a0-0589-4188-f85b-f2009b6c8a8a"
      },
      "outputs": [
        {
          "data": {
            "text/plain": [
              "array([[4128860, 6029375, 3801155, 5570652],\n",
              "       [6619251, 7536754, 5439580, 4456533],\n",
              "       [4522053, 6029392, 7340097, 4456560],\n",
              "       [7602273, 6029409, 7274572, 6357091]])"
            ]
          },
          "execution_count": 19,
          "metadata": {},
          "output_type": "execute_result"
        }
      ],
      "source": [
        "# np.empty((rows,columns),dtype)\n",
        "np.empty((4,4),dtype = int)"
      ]
    },
    {
      "cell_type": "code",
      "execution_count": null,
      "id": "7dfa7abd-fdbd-496d-8e20-a5630c949f29",
      "metadata": {
        "id": "7dfa7abd-fdbd-496d-8e20-a5630c949f29",
        "outputId": "af28e681-3ba0-43fc-db8b-652aa2156e66"
      },
      "outputs": [
        {
          "data": {
            "text/plain": [
              "array([[6.23042070e-307, 4.67296746e-307, 1.69121096e-306,\n",
              "        2.22521816e-307],\n",
              "       [6.23047842e-307, 2.22522597e-306, 1.33511969e-306,\n",
              "        1.37962320e-306],\n",
              "       [9.34604358e-307, 9.79101082e-307, 1.78020576e-306,\n",
              "        1.69119873e-306],\n",
              "       [2.22522868e-306, 1.24611809e-306, 8.06632139e-308,\n",
              "        1.60221208e-306]])"
            ]
          },
          "execution_count": 20,
          "metadata": {},
          "output_type": "execute_result"
        }
      ],
      "source": [
        "np.empty((4,4),dtype = float)"
      ]
    },
    {
      "cell_type": "code",
      "execution_count": null,
      "id": "710f2595-5eda-4ed2-93e6-490d6bbe30ba",
      "metadata": {
        "id": "710f2595-5eda-4ed2-93e6-490d6bbe30ba",
        "outputId": "7e38a299-faf7-4bc5-f165-565ff7acf73b"
      },
      "outputs": [
        {
          "name": "stdout",
          "output_type": "stream",
          "text": [
            "[1. 1. 1. 1. 1. 1.]\n",
            "[[1. 1. 1. 1. 1.]\n",
            " [1. 1. 1. 1. 1.]\n",
            " [1. 1. 1. 1. 1.]]\n",
            "[[1 1 1 1]\n",
            " [1 1 1 1]\n",
            " [1 1 1 1]\n",
            " [1 1 1 1]]\n"
          ]
        }
      ],
      "source": [
        "x1 = np.ones(6)\n",
        "x2 = np.ones((3,5)) # WILL PRINT DEFAULT FLOAT VALUES\n",
        "x3 = np.ones((4,4), dtype = int)\n",
        "print(x1)\n",
        "print(x2)\n",
        "print(x3)"
      ]
    },
    {
      "cell_type": "code",
      "execution_count": null,
      "id": "e30f2583-51e0-40fc-8c04-ef244121b29b",
      "metadata": {
        "id": "e30f2583-51e0-40fc-8c04-ef244121b29b",
        "outputId": "2897f47c-c67e-4a8e-c229-6a417f690c88"
      },
      "outputs": [
        {
          "name": "stdout",
          "output_type": "stream",
          "text": [
            "[0. 0. 0. 0. 0. 0.]\n",
            "[[0. 0. 0. 0. 0.]\n",
            " [0. 0. 0. 0. 0.]\n",
            " [0. 0. 0. 0. 0.]]\n",
            "[[0 0 0 0]\n",
            " [0 0 0 0]\n",
            " [0 0 0 0]\n",
            " [0 0 0 0]]\n"
          ]
        }
      ],
      "source": [
        "y1 = np.zeros(6)\n",
        "y2 = np.zeros((3,5)) # WILL PRINT DEFAULT FLOAT VALUES\n",
        "y3 = np.zeros((4,4), dtype = int)\n",
        "print(y1)\n",
        "print(y2)\n",
        "print(y3)"
      ]
    },
    {
      "cell_type": "code",
      "execution_count": null,
      "id": "cfc79db5-ae6a-401a-8607-4379120e1ac4",
      "metadata": {
        "id": "cfc79db5-ae6a-401a-8607-4379120e1ac4",
        "outputId": "15efbd14-bb69-4da4-88f1-2caa7c42a93d"
      },
      "outputs": [
        {
          "name": "stdout",
          "output_type": "stream",
          "text": [
            "[['' '' '' '']\n",
            " ['' '' '' '']\n",
            " ['' '' '' '']\n",
            " ['' '' '' '']]\n",
            "[['1' '1' '1' '1']\n",
            " ['1' '1' '1' '1']\n",
            " ['1' '1' '1' '1']\n",
            " ['1' '1' '1' '1']]\n"
          ]
        }
      ],
      "source": [
        "z1 = np.zeros((4,4), dtype = str) # IT WILL GIVE EMPTY OUTPUT\n",
        "z2 = np.ones((4,4), dtype = str)\n",
        "print(z1)\n",
        "print(z2)"
      ]
    },
    {
      "cell_type": "code",
      "execution_count": null,
      "id": "45a7ca59-4e39-4b7d-8123-356049357ffd",
      "metadata": {
        "id": "45a7ca59-4e39-4b7d-8123-356049357ffd",
        "outputId": "0eeab6f0-00e8-4c1a-adf2-878124509f71"
      },
      "outputs": [
        {
          "name": "stdout",
          "output_type": "stream",
          "text": [
            "[[False False False False]\n",
            " [False False False False]\n",
            " [False False False False]\n",
            " [False False False False]]\n",
            "[[ True  True  True  True]\n",
            " [ True  True  True  True]\n",
            " [ True  True  True  True]\n",
            " [ True  True  True  True]]\n"
          ]
        }
      ],
      "source": [
        "P1 = np.zeros((4,4), dtype = bool) # IT WILL GIVE FALSE as an OUTPUT\n",
        "P2 = np.ones((4,4), dtype = bool)\n",
        "print(P1)\n",
        "print(P2)"
      ]
    },
    {
      "cell_type": "code",
      "execution_count": null,
      "id": "a13317c5-d748-4bc1-b858-9c0f72b767a9",
      "metadata": {
        "colab": {
          "base_uri": "https://localhost:8080/"
        },
        "id": "a13317c5-d748-4bc1-b858-9c0f72b767a9",
        "outputId": "3ac0dcb7-6914-4a31-ce19-d293dbabbbdf"
      },
      "outputs": [
        {
          "output_type": "stream",
          "name": "stdout",
          "text": [
            "[ 1  2  3  4  5  6  7  8  9 10 11 12 13 14 15 16 17 18 19]\n",
            "[ 1  3  5  7  9 11 13 15 17 19]\n",
            "[ 2  4  6  8 10 12 14 16 18]\n",
            "[ 2  5  8 11 14 17]\n"
          ]
        }
      ],
      "source": [
        "# np.arange(start,end,shape)\n",
        "import numpy as np\n",
        "\n",
        "a1 = np.arange(1,20)\n",
        "a2 = np.arange(1,20,2)\n",
        "a3 = np.arange(2,20,2)\n",
        "a4 = np.arange(2,20,3)\n",
        "print(a1)\n",
        "print(a2)\n",
        "print(a3)\n",
        "print(a4)"
      ]
    },
    {
      "cell_type": "code",
      "source": [
        "a3.reshape((3,3))"
      ],
      "metadata": {
        "colab": {
          "base_uri": "https://localhost:8080/"
        },
        "id": "UTJQzVwDsQAs",
        "outputId": "b6674895-927a-446e-c802-6eb685d7954b"
      },
      "id": "UTJQzVwDsQAs",
      "execution_count": null,
      "outputs": [
        {
          "output_type": "execute_result",
          "data": {
            "text/plain": [
              "array([[ 2,  4,  6],\n",
              "       [ 8, 10, 12],\n",
              "       [14, 16, 18]])"
            ]
          },
          "metadata": {},
          "execution_count": 2
        }
      ]
    },
    {
      "cell_type": "code",
      "source": [
        "b1 = np.arange(1,100,2)\n",
        "b1.reshape((10,5))"
      ],
      "metadata": {
        "colab": {
          "base_uri": "https://localhost:8080/"
        },
        "id": "DQr9Z3eLsRxX",
        "outputId": "4dac3ec9-419a-4205-9159-1d26d8986743"
      },
      "id": "DQr9Z3eLsRxX",
      "execution_count": null,
      "outputs": [
        {
          "output_type": "execute_result",
          "data": {
            "text/plain": [
              "array([[ 1,  3,  5,  7,  9],\n",
              "       [11, 13, 15, 17, 19],\n",
              "       [21, 23, 25, 27, 29],\n",
              "       [31, 33, 35, 37, 39],\n",
              "       [41, 43, 45, 47, 49],\n",
              "       [51, 53, 55, 57, 59],\n",
              "       [61, 63, 65, 67, 69],\n",
              "       [71, 73, 75, 77, 79],\n",
              "       [81, 83, 85, 87, 89],\n",
              "       [91, 93, 95, 97, 99]])"
            ]
          },
          "metadata": {},
          "execution_count": 3
        }
      ]
    },
    {
      "cell_type": "markdown",
      "source": [
        "a.ravel:\n",
        "\n",
        "1. Return only reference/view of original array\n",
        "2. if you modify the array you would notice that the value of original array also changes\n",
        "3. ravel is faster than flatten\n",
        "4. also it does not occupies memory\n",
        "5. ravel is a library level function\n",
        "\n",
        "a.flatten:\n",
        "\n",
        "1. return copy of original value\n",
        "2. if you modify any value of this array value of original array is not affected\n",
        "3. it is slower than ravel as it occupies memory\n",
        "4. flatten is a method of an array object"
      ],
      "metadata": {
        "id": "xg_-fFKLsmhY"
      },
      "id": "xg_-fFKLsmhY"
    },
    {
      "cell_type": "code",
      "source": [
        "z = b1.flatten()\n",
        "print(z)"
      ],
      "metadata": {
        "colab": {
          "base_uri": "https://localhost:8080/"
        },
        "id": "4a_Yt6hwsWZq",
        "outputId": "a5b7bd28-267b-48ff-a99c-7dfe05f595ae"
      },
      "id": "4a_Yt6hwsWZq",
      "execution_count": null,
      "outputs": [
        {
          "output_type": "stream",
          "name": "stdout",
          "text": [
            "[ 1  3  5  7  9 11 13 15 17 19 21 23 25 27 29 31 33 35 37 39 41 43 45 47\n",
            " 49 51 53 55 57 59 61 63 65 67 69 71 73 75 77 79 81 83 85 87 89 91 93 95\n",
            " 97 99]\n"
          ]
        }
      ]
    },
    {
      "cell_type": "code",
      "source": [
        "b1.flatten()"
      ],
      "metadata": {
        "colab": {
          "base_uri": "https://localhost:8080/"
        },
        "id": "gnCiTnaXsbt0",
        "outputId": "70f96010-b232-4823-a330-b96790ea96f7"
      },
      "id": "gnCiTnaXsbt0",
      "execution_count": null,
      "outputs": [
        {
          "output_type": "execute_result",
          "data": {
            "text/plain": [
              "array([ 1,  3,  5,  7,  9, 11, 13, 15, 17, 19, 21, 23, 25, 27, 29, 31, 33,\n",
              "       35, 37, 39, 41, 43, 45, 47, 49, 51, 53, 55, 57, 59, 61, 63, 65, 67,\n",
              "       69, 71, 73, 75, 77, 79, 81, 83, 85, 87, 89, 91, 93, 95, 97, 99])"
            ]
          },
          "metadata": {},
          "execution_count": 6
        }
      ]
    },
    {
      "cell_type": "code",
      "source": [
        "b1.ravel()"
      ],
      "metadata": {
        "colab": {
          "base_uri": "https://localhost:8080/"
        },
        "id": "A7P6s65Ksc43",
        "outputId": "691f00b0-24a8-48d2-a8bb-e3abfebe486e"
      },
      "id": "A7P6s65Ksc43",
      "execution_count": null,
      "outputs": [
        {
          "output_type": "execute_result",
          "data": {
            "text/plain": [
              "array([ 1,  3,  5,  7,  9, 11, 13, 15, 17, 19, 21, 23, 25, 27, 29, 31, 33,\n",
              "       35, 37, 39, 41, 43, 45, 47, 49, 51, 53, 55, 57, 59, 61, 63, 65, 67,\n",
              "       69, 71, 73, 75, 77, 79, 81, 83, 85, 87, 89, 91, 93, 95, 97, 99])"
            ]
          },
          "metadata": {},
          "execution_count": 5
        }
      ]
    },
    {
      "cell_type": "code",
      "source": [
        "y = b1.ravel()   # flatten and ravel inverse the changes in reshape\n",
        "print(y)"
      ],
      "metadata": {
        "colab": {
          "base_uri": "https://localhost:8080/"
        },
        "id": "NFIGRPmMsgqw",
        "outputId": "3c6aa263-8cbd-4b30-b95f-573022abc251"
      },
      "id": "NFIGRPmMsgqw",
      "execution_count": null,
      "outputs": [
        {
          "output_type": "stream",
          "name": "stdout",
          "text": [
            "[ 1  3  5  7  9 11 13 15 17 19 21 23 25 27 29 31 33 35 37 39 41 43 45 47\n",
            " 49 51 53 55 57 59 61 63 65 67 69 71 73 75 77 79 81 83 85 87 89 91 93 95\n",
            " 97 99]\n"
          ]
        }
      ]
    },
    {
      "cell_type": "code",
      "source": [
        "import numpy as np\n",
        "b1 = np.arange(1,51)\n",
        "a = b1.reshape(10,5)\n",
        "a"
      ],
      "metadata": {
        "colab": {
          "base_uri": "https://localhost:8080/"
        },
        "id": "O09TmtbDtZ_a",
        "outputId": "4624cc30-7807-4213-f51e-345a67a22abc"
      },
      "id": "O09TmtbDtZ_a",
      "execution_count": null,
      "outputs": [
        {
          "output_type": "execute_result",
          "data": {
            "text/plain": [
              "array([[ 1,  2,  3,  4,  5],\n",
              "       [ 6,  7,  8,  9, 10],\n",
              "       [11, 12, 13, 14, 15],\n",
              "       [16, 17, 18, 19, 20],\n",
              "       [21, 22, 23, 24, 25],\n",
              "       [26, 27, 28, 29, 30],\n",
              "       [31, 32, 33, 34, 35],\n",
              "       [36, 37, 38, 39, 40],\n",
              "       [41, 42, 43, 44, 45],\n",
              "       [46, 47, 48, 49, 50]])"
            ]
          },
          "metadata": {},
          "execution_count": 8
        }
      ]
    },
    {
      "cell_type": "code",
      "source": [
        "a[1]"
      ],
      "metadata": {
        "colab": {
          "base_uri": "https://localhost:8080/"
        },
        "id": "RozGmo2yuVtO",
        "outputId": "bf0bf5e5-d2b1-466e-d94f-da310ee407fb"
      },
      "id": "RozGmo2yuVtO",
      "execution_count": null,
      "outputs": [
        {
          "output_type": "execute_result",
          "data": {
            "text/plain": [
              "array([ 6,  7,  8,  9, 10])"
            ]
          },
          "metadata": {},
          "execution_count": 9
        }
      ]
    },
    {
      "cell_type": "code",
      "source": [
        "a[3,4]"
      ],
      "metadata": {
        "colab": {
          "base_uri": "https://localhost:8080/"
        },
        "id": "s8t0yAEquYYW",
        "outputId": "18d329ed-e26d-47a6-852d-d9b3f6a96071"
      },
      "id": "s8t0yAEquYYW",
      "execution_count": null,
      "outputs": [
        {
          "output_type": "execute_result",
          "data": {
            "text/plain": [
              "20"
            ]
          },
          "metadata": {},
          "execution_count": 10
        }
      ]
    },
    {
      "cell_type": "code",
      "source": [
        "a[2:7]"
      ],
      "metadata": {
        "colab": {
          "base_uri": "https://localhost:8080/"
        },
        "id": "QEhDk-5dub7h",
        "outputId": "6f4d4519-0e6c-42e3-c107-72433ff03c8a"
      },
      "id": "QEhDk-5dub7h",
      "execution_count": null,
      "outputs": [
        {
          "output_type": "execute_result",
          "data": {
            "text/plain": [
              "array([[11, 12, 13, 14, 15],\n",
              "       [16, 17, 18, 19, 20],\n",
              "       [21, 22, 23, 24, 25],\n",
              "       [26, 27, 28, 29, 30],\n",
              "       [31, 32, 33, 34, 35]])"
            ]
          },
          "metadata": {},
          "execution_count": 11
        }
      ]
    },
    {
      "cell_type": "code",
      "source": [
        "a[0:100]"
      ],
      "metadata": {
        "id": "lfH4OovluhXy"
      },
      "id": "lfH4OovluhXy",
      "execution_count": null,
      "outputs": []
    },
    {
      "cell_type": "code",
      "source": [
        "a[2:,1] #[rows,column]"
      ],
      "metadata": {
        "id": "ma-56XHiujkD"
      },
      "id": "ma-56XHiujkD",
      "execution_count": null,
      "outputs": []
    },
    {
      "cell_type": "code",
      "source": [
        "a[2:,2:5].dtype"
      ],
      "metadata": {
        "id": "YYvIIh2yultP"
      },
      "id": "YYvIIh2yultP",
      "execution_count": null,
      "outputs": []
    },
    {
      "cell_type": "code",
      "source": [
        "a[:,:] #[all rows,all columns]"
      ],
      "metadata": {
        "id": "LJoF8YmwuoRj"
      },
      "id": "LJoF8YmwuoRj",
      "execution_count": null,
      "outputs": []
    }
  ],
  "metadata": {
    "kernelspec": {
      "display_name": "Python 3 (ipykernel)",
      "language": "python",
      "name": "python3"
    },
    "language_info": {
      "codemirror_mode": {
        "name": "ipython",
        "version": 3
      },
      "file_extension": ".py",
      "mimetype": "text/x-python",
      "name": "python",
      "nbconvert_exporter": "python",
      "pygments_lexer": "ipython3",
      "version": "3.8.8"
    },
    "colab": {
      "provenance": [],
      "include_colab_link": true
    }
  },
  "nbformat": 4,
  "nbformat_minor": 5
}
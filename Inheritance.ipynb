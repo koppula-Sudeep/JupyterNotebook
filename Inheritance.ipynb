{
 "cells": [
  {
   "cell_type": "code",
   "execution_count": 1,
   "id": "699db5f1-417f-412d-8beb-cb24ffb967cf",
   "metadata": {},
   "outputs": [
    {
     "name": "stdout",
     "output_type": "stream",
     "text": [
      "Parent Name: Alice\n",
      "Child Age: 10\n"
     ]
    }
   ],
   "source": [
    "class Parent:\n",
    "    def __init__(self, name):\n",
    "        self.name = name\n",
    "\n",
    "    def display(self):\n",
    "        print(f\"Parent Name: {self.name}\")\n",
    "\n",
    "class Child(Parent):\n",
    "    def __init__(self, name, age):\n",
    "        super().__init__(name)\n",
    "        self.age = age\n",
    "\n",
    "    def display(self):\n",
    "        super().display()\n",
    "        print(f\"Child Age: {self.age}\")\n",
    "\n",
    "c = Child(\"Alice\", 10)\n",
    "c.display()"
   ]
  },
  {
   "cell_type": "code",
   "execution_count": null,
   "id": "341e40a6-b5c3-4bef-b93c-ea4374d941d1",
   "metadata": {},
   "outputs": [],
   "source": []
  }
 ],
 "metadata": {
  "kernelspec": {
   "display_name": "Python 3 (ipykernel)",
   "language": "python",
   "name": "python3"
  },
  "language_info": {
   "codemirror_mode": {
    "name": "ipython",
    "version": 3
   },
   "file_extension": ".py",
   "mimetype": "text/x-python",
   "name": "python",
   "nbconvert_exporter": "python",
   "pygments_lexer": "ipython3",
   "version": "3.8.8"
  }
 },
 "nbformat": 4,
 "nbformat_minor": 5
}

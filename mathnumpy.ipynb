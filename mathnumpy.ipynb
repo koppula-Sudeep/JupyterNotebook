{
 "cells": [
  {
   "cell_type": "code",
   "execution_count": 5,
   "id": "419bc389-99a9-4488-9ace-a248eba4207e",
   "metadata": {},
   "outputs": [
    {
     "data": {
      "text/plain": [
       "array([[ 51,  52,  53,  54,  55],\n",
       "       [ 56,  57,  58,  59,  60],\n",
       "       [ 61,  62,  63,  64,  65],\n",
       "       [ 66,  67,  68,  69,  70],\n",
       "       [ 71,  72,  73,  74,  75],\n",
       "       [ 76,  77,  78,  79,  80],\n",
       "       [ 81,  82,  83,  84,  85],\n",
       "       [ 86,  87,  88,  89,  90],\n",
       "       [ 91,  92,  93,  94,  95],\n",
       "       [ 96,  97,  98,  99, 100]])"
      ]
     },
     "execution_count": 5,
     "metadata": {},
     "output_type": "execute_result"
    }
   ],
   "source": [
    "import numpy as np\n",
    "a = np.arange(1,51).reshape(10,5)\n",
    "b = np.arange(51,101).reshape(10,5)\n",
    "a\n",
    "b"
   ]
  },
  {
   "cell_type": "code",
   "execution_count": 4,
   "id": "b5c4ce31-ac4b-4cd4-b591-0c1083ee3383",
   "metadata": {},
   "outputs": [
    {
     "data": {
      "text/plain": [
       "array([ 6,  7,  8,  9, 10])"
      ]
     },
     "execution_count": 4,
     "metadata": {},
     "output_type": "execute_result"
    }
   ],
   "source": [
    "a[1]"
   ]
  },
  {
   "cell_type": "code",
   "execution_count": 6,
   "id": "dbe3b700-2b09-4a82-82de-67e25c6c506b",
   "metadata": {},
   "outputs": [
    {
     "data": {
      "text/plain": [
       "array([[ 52,  54,  56,  58,  60],\n",
       "       [ 62,  64,  66,  68,  70],\n",
       "       [ 72,  74,  76,  78,  80],\n",
       "       [ 82,  84,  86,  88,  90],\n",
       "       [ 92,  94,  96,  98, 100],\n",
       "       [102, 104, 106, 108, 110],\n",
       "       [112, 114, 116, 118, 120],\n",
       "       [122, 124, 126, 128, 130],\n",
       "       [132, 134, 136, 138, 140],\n",
       "       [142, 144, 146, 148, 150]])"
      ]
     },
     "execution_count": 6,
     "metadata": {},
     "output_type": "execute_result"
    }
   ],
   "source": [
    "a+b"
   ]
  },
  {
   "cell_type": "code",
   "execution_count": 7,
   "id": "fdf19e97-032a-48f5-a455-e1acaf502837",
   "metadata": {},
   "outputs": [
    {
     "data": {
      "text/plain": [
       "array([[ 52,  54,  56,  58,  60],\n",
       "       [ 62,  64,  66,  68,  70],\n",
       "       [ 72,  74,  76,  78,  80],\n",
       "       [ 82,  84,  86,  88,  90],\n",
       "       [ 92,  94,  96,  98, 100],\n",
       "       [102, 104, 106, 108, 110],\n",
       "       [112, 114, 116, 118, 120],\n",
       "       [122, 124, 126, 128, 130],\n",
       "       [132, 134, 136, 138, 140],\n",
       "       [142, 144, 146, 148, 150]])"
      ]
     },
     "execution_count": 7,
     "metadata": {},
     "output_type": "execute_result"
    }
   ],
   "source": [
    "np.add(a,b)"
   ]
  },
  {
   "cell_type": "code",
   "execution_count": 8,
   "id": "e60f396a-e09a-46f1-ad7c-22f565902647",
   "metadata": {},
   "outputs": [
    {
     "data": {
      "text/plain": [
       "array([[-50, -50, -50, -50, -50],\n",
       "       [-50, -50, -50, -50, -50],\n",
       "       [-50, -50, -50, -50, -50],\n",
       "       [-50, -50, -50, -50, -50],\n",
       "       [-50, -50, -50, -50, -50],\n",
       "       [-50, -50, -50, -50, -50],\n",
       "       [-50, -50, -50, -50, -50],\n",
       "       [-50, -50, -50, -50, -50],\n",
       "       [-50, -50, -50, -50, -50],\n",
       "       [-50, -50, -50, -50, -50]])"
      ]
     },
     "execution_count": 8,
     "metadata": {},
     "output_type": "execute_result"
    }
   ],
   "source": [
    "a-b"
   ]
  },
  {
   "cell_type": "code",
   "execution_count": 9,
   "id": "6ca153ce-3f5d-4aeb-970b-6f41e6ac5834",
   "metadata": {},
   "outputs": [
    {
     "data": {
      "text/plain": [
       "array([[-50, -50, -50, -50, -50],\n",
       "       [-50, -50, -50, -50, -50],\n",
       "       [-50, -50, -50, -50, -50],\n",
       "       [-50, -50, -50, -50, -50],\n",
       "       [-50, -50, -50, -50, -50],\n",
       "       [-50, -50, -50, -50, -50],\n",
       "       [-50, -50, -50, -50, -50],\n",
       "       [-50, -50, -50, -50, -50],\n",
       "       [-50, -50, -50, -50, -50],\n",
       "       [-50, -50, -50, -50, -50]])"
      ]
     },
     "execution_count": 9,
     "metadata": {},
     "output_type": "execute_result"
    }
   ],
   "source": [
    "np.subtract(a,b)"
   ]
  },
  {
   "cell_type": "code",
   "execution_count": 10,
   "id": "3458fa67-20be-43bc-832a-b1e6d456938d",
   "metadata": {},
   "outputs": [
    {
     "data": {
      "text/plain": [
       "array([[  51,  104,  159,  216,  275],\n",
       "       [ 336,  399,  464,  531,  600],\n",
       "       [ 671,  744,  819,  896,  975],\n",
       "       [1056, 1139, 1224, 1311, 1400],\n",
       "       [1491, 1584, 1679, 1776, 1875],\n",
       "       [1976, 2079, 2184, 2291, 2400],\n",
       "       [2511, 2624, 2739, 2856, 2975],\n",
       "       [3096, 3219, 3344, 3471, 3600],\n",
       "       [3731, 3864, 3999, 4136, 4275],\n",
       "       [4416, 4559, 4704, 4851, 5000]])"
      ]
     },
     "execution_count": 10,
     "metadata": {},
     "output_type": "execute_result"
    }
   ],
   "source": [
    "a*b"
   ]
  },
  {
   "cell_type": "code",
   "execution_count": 12,
   "id": "0113d61b-2ae8-4bc7-891d-3fa47e081b3b",
   "metadata": {},
   "outputs": [
    {
     "data": {
      "text/plain": [
       "array([[  51,  104,  159,  216,  275],\n",
       "       [ 336,  399,  464,  531,  600],\n",
       "       [ 671,  744,  819,  896,  975],\n",
       "       [1056, 1139, 1224, 1311, 1400],\n",
       "       [1491, 1584, 1679, 1776, 1875],\n",
       "       [1976, 2079, 2184, 2291, 2400],\n",
       "       [2511, 2624, 2739, 2856, 2975],\n",
       "       [3096, 3219, 3344, 3471, 3600],\n",
       "       [3731, 3864, 3999, 4136, 4275],\n",
       "       [4416, 4559, 4704, 4851, 5000]])"
      ]
     },
     "execution_count": 12,
     "metadata": {},
     "output_type": "execute_result"
    }
   ],
   "source": [
    "np.multiply(a,b)"
   ]
  },
  {
   "cell_type": "code",
   "execution_count": 13,
   "id": "8b5c19ee-fbfb-49f4-befd-32166756c3d2",
   "metadata": {},
   "outputs": [
    {
     "data": {
      "text/plain": [
       "array([[0.01960784, 0.03846154, 0.05660377, 0.07407407, 0.09090909],\n",
       "       [0.10714286, 0.12280702, 0.13793103, 0.15254237, 0.16666667],\n",
       "       [0.18032787, 0.19354839, 0.20634921, 0.21875   , 0.23076923],\n",
       "       [0.24242424, 0.25373134, 0.26470588, 0.27536232, 0.28571429],\n",
       "       [0.29577465, 0.30555556, 0.31506849, 0.32432432, 0.33333333],\n",
       "       [0.34210526, 0.35064935, 0.35897436, 0.36708861, 0.375     ],\n",
       "       [0.38271605, 0.3902439 , 0.39759036, 0.4047619 , 0.41176471],\n",
       "       [0.41860465, 0.42528736, 0.43181818, 0.43820225, 0.44444444],\n",
       "       [0.45054945, 0.45652174, 0.46236559, 0.46808511, 0.47368421],\n",
       "       [0.47916667, 0.48453608, 0.48979592, 0.49494949, 0.5       ]])"
      ]
     },
     "execution_count": 13,
     "metadata": {},
     "output_type": "execute_result"
    }
   ],
   "source": [
    "a/b"
   ]
  },
  {
   "cell_type": "code",
   "execution_count": 14,
   "id": "3ad3d557-c314-4a37-8d1a-34e563159eee",
   "metadata": {},
   "outputs": [
    {
     "data": {
      "text/plain": [
       "array([[0.01960784, 0.03846154, 0.05660377, 0.07407407, 0.09090909],\n",
       "       [0.10714286, 0.12280702, 0.13793103, 0.15254237, 0.16666667],\n",
       "       [0.18032787, 0.19354839, 0.20634921, 0.21875   , 0.23076923],\n",
       "       [0.24242424, 0.25373134, 0.26470588, 0.27536232, 0.28571429],\n",
       "       [0.29577465, 0.30555556, 0.31506849, 0.32432432, 0.33333333],\n",
       "       [0.34210526, 0.35064935, 0.35897436, 0.36708861, 0.375     ],\n",
       "       [0.38271605, 0.3902439 , 0.39759036, 0.4047619 , 0.41176471],\n",
       "       [0.41860465, 0.42528736, 0.43181818, 0.43820225, 0.44444444],\n",
       "       [0.45054945, 0.45652174, 0.46236559, 0.46808511, 0.47368421],\n",
       "       [0.47916667, 0.48453608, 0.48979592, 0.49494949, 0.5       ]])"
      ]
     },
     "execution_count": 14,
     "metadata": {},
     "output_type": "execute_result"
    }
   ],
   "source": [
    "np.divide(a,b)"
   ]
  },
  {
   "cell_type": "code",
   "execution_count": 27,
   "id": "d6a4e577-da8e-4fcd-a6e9-cd95ca0aa5de",
   "metadata": {},
   "outputs": [
    {
     "name": "stdout",
     "output_type": "stream",
     "text": [
      "[[ 51  52  53  54  55]\n",
      " [ 56  57  58  59  60]\n",
      " [ 61  62  63  64  65]\n",
      " [ 66  67  68  69  70]\n",
      " [ 71  72  73  74  75]\n",
      " [ 76  77  78  79  80]\n",
      " [ 81  82  83  84  85]\n",
      " [ 86  87  88  89  90]\n",
      " [ 91  92  93  94  95]\n",
      " [ 96  97  98  99 100]]\n",
      "[[ 1  2  3  4  5  6  7  8  9 10]\n",
      " [11 12 13 14 15 16 17 18 19 20]\n",
      " [21 22 23 24 25 26 27 28 29 30]\n",
      " [31 32 33 34 35 36 37 38 39 40]\n",
      " [41 42 43 44 45 46 47 48 49 50]]\n"
     ]
    }
   ],
   "source": [
    "a = a.reshape(5,10)\n",
    "b = b.reshape(10,5)\n",
    "print(b)\n",
    "print(a)"
   ]
  },
  {
   "cell_type": "code",
   "execution_count": 28,
   "id": "b4740544-803b-41f7-adce-02080ff57ffb",
   "metadata": {},
   "outputs": [
    {
     "name": "stdout",
     "output_type": "stream",
     "text": [
      "(5, 10)\n",
      "(10, 5)\n"
     ]
    }
   ],
   "source": [
    "print(a.shape)\n",
    "print(b.shape)"
   ]
  },
  {
   "cell_type": "code",
   "execution_count": 29,
   "id": "1a55d584-b66d-4326-a892-c283f04412ab",
   "metadata": {},
   "outputs": [
    {
     "data": {
      "text/plain": [
       "array([[ 4455,  4510,  4565,  4620,  4675],\n",
       "       [11805, 11960, 12115, 12270, 12425],\n",
       "       [19155, 19410, 19665, 19920, 20175],\n",
       "       [26505, 26860, 27215, 27570, 27925],\n",
       "       [33855, 34310, 34765, 35220, 35675]])"
      ]
     },
     "execution_count": 29,
     "metadata": {},
     "output_type": "execute_result"
    }
   ],
   "source": [
    "a@b"
   ]
  },
  {
   "cell_type": "code",
   "execution_count": 30,
   "id": "88922375-71b6-4589-bf30-86570fc7d944",
   "metadata": {},
   "outputs": [
    {
     "data": {
      "text/plain": [
       "array([[ 4455,  4510,  4565,  4620,  4675],\n",
       "       [11805, 11960, 12115, 12270, 12425],\n",
       "       [19155, 19410, 19665, 19920, 20175],\n",
       "       [26505, 26860, 27215, 27570, 27925],\n",
       "       [33855, 34310, 34765, 35220, 35675]])"
      ]
     },
     "execution_count": 30,
     "metadata": {},
     "output_type": "execute_result"
    }
   ],
   "source": [
    "a.dot(b)"
   ]
  },
  {
   "cell_type": "code",
   "execution_count": 31,
   "id": "424986f4-4083-4e74-9b11-c7e4a589aaed",
   "metadata": {},
   "outputs": [
    {
     "data": {
      "text/plain": [
       "100"
      ]
     },
     "execution_count": 31,
     "metadata": {},
     "output_type": "execute_result"
    }
   ],
   "source": [
    "b.max()"
   ]
  },
  {
   "cell_type": "code",
   "execution_count": 32,
   "id": "2bc76dd8-32e5-4075-859a-bb9b6550c901",
   "metadata": {},
   "outputs": [
    {
     "data": {
      "text/plain": [
       "51"
      ]
     },
     "execution_count": 32,
     "metadata": {},
     "output_type": "execute_result"
    }
   ],
   "source": [
    "b.min()"
   ]
  },
  {
   "cell_type": "code",
   "execution_count": 34,
   "id": "db1ba3e4-6857-4bb4-8301-f3d90796618b",
   "metadata": {},
   "outputs": [
    {
     "data": {
      "text/plain": [
       "49"
      ]
     },
     "execution_count": 34,
     "metadata": {},
     "output_type": "execute_result"
    }
   ],
   "source": [
    "b.argmax()    # index of the max value"
   ]
  },
  {
   "cell_type": "code",
   "execution_count": 35,
   "id": "1f785502-f25e-4166-aa9d-0f08c5f4a588",
   "metadata": {},
   "outputs": [
    {
     "data": {
      "text/plain": [
       "3775"
      ]
     },
     "execution_count": 35,
     "metadata": {},
     "output_type": "execute_result"
    }
   ],
   "source": [
    "np.sum(b)"
   ]
  },
  {
   "cell_type": "code",
   "execution_count": 36,
   "id": "c4fbf8df-1e70-4ff1-a303-9a3597ea2cf6",
   "metadata": {},
   "outputs": [
    {
     "data": {
      "text/plain": [
       "array([265, 290, 315, 340, 365, 390, 415, 440, 465, 490])"
      ]
     },
     "execution_count": 36,
     "metadata": {},
     "output_type": "execute_result"
    }
   ],
   "source": [
    "np.sum(b, axis= 1)  # rows"
   ]
  },
  {
   "cell_type": "code",
   "execution_count": 37,
   "id": "56ddfd9b-cce2-4a52-a86d-3d38264d103e",
   "metadata": {},
   "outputs": [
    {
     "data": {
      "text/plain": [
       "array([735, 745, 755, 765, 775])"
      ]
     },
     "execution_count": 37,
     "metadata": {},
     "output_type": "execute_result"
    }
   ],
   "source": [
    "np.sum(b, axis=0)"
   ]
  },
  {
   "cell_type": "code",
   "execution_count": 38,
   "id": "5bb1732a-5238-4454-8b4b-0652aa0833d0",
   "metadata": {},
   "outputs": [
    {
     "data": {
      "text/plain": [
       "75.5"
      ]
     },
     "execution_count": 38,
     "metadata": {},
     "output_type": "execute_result"
    }
   ],
   "source": [
    "np.mean(b)"
   ]
  },
  {
   "cell_type": "code",
   "execution_count": 39,
   "id": "29db6a18-05cd-47b1-b403-aa88e1efc53f",
   "metadata": {},
   "outputs": [
    {
     "data": {
      "text/plain": [
       "array([[ 7.14142843,  7.21110255,  7.28010989,  7.34846923,  7.41619849],\n",
       "       [ 7.48331477,  7.54983444,  7.61577311,  7.68114575,  7.74596669],\n",
       "       [ 7.81024968,  7.87400787,  7.93725393,  8.        ,  8.06225775],\n",
       "       [ 8.1240384 ,  8.18535277,  8.24621125,  8.30662386,  8.36660027],\n",
       "       [ 8.42614977,  8.48528137,  8.54400375,  8.60232527,  8.66025404],\n",
       "       [ 8.71779789,  8.77496439,  8.83176087,  8.88819442,  8.94427191],\n",
       "       [ 9.        ,  9.05538514,  9.11043358,  9.16515139,  9.21954446],\n",
       "       [ 9.2736185 ,  9.32737905,  9.38083152,  9.43398113,  9.48683298],\n",
       "       [ 9.53939201,  9.59166305,  9.64365076,  9.69535971,  9.74679434],\n",
       "       [ 9.79795897,  9.8488578 ,  9.89949494,  9.94987437, 10.        ]])"
      ]
     },
     "execution_count": 39,
     "metadata": {},
     "output_type": "execute_result"
    }
   ],
   "source": [
    "np.sqrt(b)"
   ]
  },
  {
   "cell_type": "code",
   "execution_count": 40,
   "id": "68d68acc-5925-440d-992d-c417482e5ddf",
   "metadata": {},
   "outputs": [
    {
     "data": {
      "text/plain": [
       "14.430869689661812"
      ]
     },
     "execution_count": 40,
     "metadata": {},
     "output_type": "execute_result"
    }
   ],
   "source": [
    "np.std(b)"
   ]
  },
  {
   "cell_type": "code",
   "execution_count": 41,
   "id": "0a1fc8a1-9058-4e10-bb58-d4476926a3ca",
   "metadata": {},
   "outputs": [
    {
     "data": {
      "text/plain": [
       "array([[3.93182563, 3.95124372, 3.97029191, 3.98898405, 4.00733319],\n",
       "       [4.02535169, 4.04305127, 4.06044301, 4.07753744, 4.09434456],\n",
       "       [4.11087386, 4.12713439, 4.14313473, 4.15888308, 4.17438727],\n",
       "       [4.18965474, 4.20469262, 4.21950771, 4.2341065 , 4.24849524],\n",
       "       [4.26267988, 4.27666612, 4.29045944, 4.30406509, 4.31748811],\n",
       "       [4.33073334, 4.34380542, 4.35670883, 4.36944785, 4.38202663],\n",
       "       [4.39444915, 4.40671925, 4.41884061, 4.4308168 , 4.44265126],\n",
       "       [4.4543473 , 4.46590812, 4.47733681, 4.48863637, 4.49980967],\n",
       "       [4.51085951, 4.52178858, 4.53259949, 4.54329478, 4.55387689],\n",
       "       [4.56434819, 4.57471098, 4.58496748, 4.59511985, 4.60517019]])"
      ]
     },
     "execution_count": 41,
     "metadata": {},
     "output_type": "execute_result"
    }
   ],
   "source": [
    "np.log(b)"
   ]
  },
  {
   "cell_type": "code",
   "execution_count": null,
   "id": "cdc60e5f-507f-451d-a333-6b6d9ae6f8aa",
   "metadata": {},
   "outputs": [],
   "source": []
  }
 ],
 "metadata": {
  "kernelspec": {
   "display_name": "Python 3 (ipykernel)",
   "language": "python",
   "name": "python3"
  },
  "language_info": {
   "codemirror_mode": {
    "name": "ipython",
    "version": 3
   },
   "file_extension": ".py",
   "mimetype": "text/x-python",
   "name": "python",
   "nbconvert_exporter": "python",
   "pygments_lexer": "ipython3",
   "version": "3.8.8"
  }
 },
 "nbformat": 4,
 "nbformat_minor": 5
}

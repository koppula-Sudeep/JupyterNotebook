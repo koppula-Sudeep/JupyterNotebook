{
  "cells": [
    {
      "cell_type": "markdown",
      "metadata": {
        "id": "view-in-github",
        "colab_type": "text"
      },
      "source": [
        "<a href=\"https://colab.research.google.com/github/koppula-Sudeep/JupyterNotebook/blob/main/Pandas.ipynb\" target=\"_parent\"><img src=\"https://colab.research.google.com/assets/colab-badge.svg\" alt=\"Open In Colab\"/></a>"
      ]
    },
    {
      "cell_type": "code",
      "execution_count": null,
      "id": "67d8260f-f11e-4da5-8824-91f8e3a126e4",
      "metadata": {
        "id": "67d8260f-f11e-4da5-8824-91f8e3a126e4"
      },
      "outputs": [],
      "source": [
        "import pandas as pd"
      ]
    },
    {
      "cell_type": "code",
      "execution_count": null,
      "id": "362f85c0-9b84-4575-9bf9-d1b9c582fdd3",
      "metadata": {
        "id": "362f85c0-9b84-4575-9bf9-d1b9c582fdd3",
        "outputId": "18a223c6-4a9d-4f69-db33-f119ecc09c9e",
        "colab": {
          "base_uri": "https://localhost:8080/"
        }
      },
      "outputs": [
        {
          "output_type": "stream",
          "name": "stdout",
          "text": [
            "[1, 2, 3, 4, 5]\n"
          ]
        }
      ],
      "source": [
        "lst = [1,2,3,4,5]\n",
        "print(lst)"
      ]
    },
    {
      "cell_type": "code",
      "execution_count": null,
      "id": "d27eacc7-56fb-4f17-a2b2-0310b55f392f",
      "metadata": {
        "id": "d27eacc7-56fb-4f17-a2b2-0310b55f392f",
        "outputId": "2771c2e7-cf1c-4ad1-fd8e-247a6af0b426",
        "colab": {
          "base_uri": "https://localhost:8080/"
        }
      },
      "outputs": [
        {
          "output_type": "stream",
          "name": "stdout",
          "text": [
            "0    1\n",
            "1    2\n",
            "2    3\n",
            "3    4\n",
            "4    5\n",
            "dtype: int64\n",
            "int64\n",
            "<class 'pandas.core.series.Series'>\n",
            "5\n",
            "3.0\n",
            "1\n",
            "5\n",
            "3.0\n",
            "1.5811388300841898\n",
            "count    5.000000\n",
            "mean     3.000000\n",
            "std      1.581139\n",
            "min      1.000000\n",
            "25%      2.000000\n",
            "50%      3.000000\n",
            "75%      4.000000\n",
            "max      5.000000\n",
            "dtype: float64\n",
            "[1 2 3 4 5]\n",
            "RangeIndex(start=0, stop=5, step=1)\n"
          ]
        }
      ],
      "source": [
        "series = pd.Series(lst)\n",
        "print(series)\n",
        "print(series.dtype)\n",
        "print(type(series))\n",
        "print(series.count())\n",
        "print(series.mean())\n",
        "print(series.min())\n",
        "print(series.max())\n",
        "print(series.median())\n",
        "print(series.std())\n",
        "print(series.describe())\n",
        "print(series.values)\n",
        "print(series.index)"
      ]
    },
    {
      "cell_type": "code",
      "execution_count": null,
      "id": "26d6418b-3e51-4736-81a1-1c90c3a6ea97",
      "metadata": {
        "id": "26d6418b-3e51-4736-81a1-1c90c3a6ea97",
        "outputId": "41293491-afd7-43fa-e75c-c5841e0f04f7"
      },
      "outputs": [
        {
          "name": "stderr",
          "output_type": "stream",
          "text": [
            "C:\\Users\\SUDEEP\\AppData\\Local\\Temp\\ipykernel_9892\\3069909210.py:1: DeprecationWarning: The default dtype for empty Series will be 'object' instead of 'float64' in a future version. Specify a dtype explicitly to silence this warning.\n",
            "  empty = pd.Series([])\n"
          ]
        },
        {
          "data": {
            "text/plain": [
              "Series([], dtype: float64)"
            ]
          },
          "execution_count": 8,
          "metadata": {},
          "output_type": "execute_result"
        }
      ],
      "source": [
        "empty = pd.Series([])\n",
        "empty"
      ]
    },
    {
      "cell_type": "code",
      "execution_count": null,
      "id": "a3c41208-862e-47e2-92fe-444c6d78ece5",
      "metadata": {
        "id": "a3c41208-862e-47e2-92fe-444c6d78ece5",
        "outputId": "f6d2c213-9694-4a8e-ad9b-8579ab2008d0"
      },
      "outputs": [
        {
          "data": {
            "text/plain": [
              "10    p\n",
              "11    q\n",
              "12    r\n",
              "13    s\n",
              "14    t\n",
              "dtype: object"
            ]
          },
          "execution_count": 9,
          "metadata": {},
          "output_type": "execute_result"
        }
      ],
      "source": [
        "a = pd.Series(['p','q','r','s','t'], index =[10,11,12,13,14])\n",
        "a"
      ]
    },
    {
      "cell_type": "code",
      "execution_count": null,
      "id": "ba77d6fa-1401-4a7e-a836-1e7c83e5d6a6",
      "metadata": {
        "id": "ba77d6fa-1401-4a7e-a836-1e7c83e5d6a6",
        "outputId": "b8941f32-d266-48f0-dfa3-ee71446f7a97"
      },
      "outputs": [
        {
          "data": {
            "text/plain": [
              "10    p\n",
              "11    q\n",
              "12    r\n",
              "13    s\n",
              "14    t\n",
              "Name: alphabets, dtype: object"
            ]
          },
          "execution_count": 10,
          "metadata": {},
          "output_type": "execute_result"
        }
      ],
      "source": [
        "b = pd.Series(['p','q','r','s','t'], index =[10,11,12,13,14], name = 'alphabets')\n",
        "b"
      ]
    },
    {
      "cell_type": "code",
      "execution_count": null,
      "id": "e28cd226-431d-4022-9cbe-099121f13c53",
      "metadata": {
        "id": "e28cd226-431d-4022-9cbe-099121f13c53",
        "outputId": "3ae303d2-f203-4f5b-e5fd-a80bae5b8984"
      },
      "outputs": [
        {
          "data": {
            "text/plain": [
              "p    [1, 4, 5]\n",
              "q    [2, 7, 4]\n",
              "r    [1, 8, 4]\n",
              "s    [0, 4, 3]\n",
              "dtype: object"
            ]
          },
          "execution_count": 12,
          "metadata": {},
          "output_type": "execute_result"
        }
      ],
      "source": [
        "dict_series = pd.Series({'p':[1,4,5], 'q':[2,7,4], 'r':[1,8,4], 's':[0,4,3]})\n",
        "dict_series"
      ]
    },
    {
      "cell_type": "code",
      "source": [
        "courses = pd.Series(['java', 'AWS', 'python', 'Golang'])\n",
        "courses\n",
        "print(courses.str.upper())\n",
        "print(courses.str.lower())\n",
        "print(courses.str.len())\n",
        "print(courses.str.cat(sep = ','))\n",
        "print(courses.str.contains('a'))"
      ],
      "metadata": {
        "id": "rNFiQQf6yGfX",
        "outputId": "c8a96221-712a-40a9-872c-c29a1e419b71",
        "colab": {
          "base_uri": "https://localhost:8080/"
        }
      },
      "id": "rNFiQQf6yGfX",
      "execution_count": null,
      "outputs": [
        {
          "output_type": "stream",
          "name": "stdout",
          "text": [
            "0      JAVA\n",
            "1       AWS\n",
            "2    PYTHON\n",
            "3    GOLANG\n",
            "dtype: object\n",
            "0      java\n",
            "1       aws\n",
            "2    python\n",
            "3    golang\n",
            "dtype: object\n",
            "0    4\n",
            "1    3\n",
            "2    6\n",
            "3    6\n",
            "dtype: int64\n",
            "java,AWS,python,Golang\n",
            "0     True\n",
            "1    False\n",
            "2    False\n",
            "3     True\n",
            "dtype: bool\n"
          ]
        }
      ]
    },
    {
      "cell_type": "code",
      "execution_count": null,
      "id": "cf03be51-e76f-4811-9fd7-208ab5b61924",
      "metadata": {
        "id": "cf03be51-e76f-4811-9fd7-208ab5b61924"
      },
      "outputs": [],
      "source": [
        "import pandas as pd"
      ]
    },
    {
      "cell_type": "code",
      "execution_count": null,
      "id": "33816995-7979-4b40-a9bc-e53119279d19",
      "metadata": {
        "id": "33816995-7979-4b40-a9bc-e53119279d19",
        "outputId": "4fc12e27-beab-4ddd-f752-77dfa5ba9977"
      },
      "outputs": [
        {
          "name": "stdout",
          "output_type": "stream",
          "text": [
            "Empty DataFrame\n",
            "Columns: []\n",
            "Index: []\n"
          ]
        }
      ],
      "source": [
        "pf = pd.DataFrame()\n",
        "print(pf)"
      ]
    },
    {
      "cell_type": "code",
      "execution_count": null,
      "id": "755b8893-51bb-47e7-a5e0-fe6fb288af74",
      "metadata": {
        "id": "755b8893-51bb-47e7-a5e0-fe6fb288af74",
        "outputId": "04ff4503-5477-461f-ebb1-c53b201c1ef6"
      },
      "outputs": [
        {
          "data": {
            "text/html": [
              "<div>\n",
              "<style scoped>\n",
              "    .dataframe tbody tr th:only-of-type {\n",
              "        vertical-align: middle;\n",
              "    }\n",
              "\n",
              "    .dataframe tbody tr th {\n",
              "        vertical-align: top;\n",
              "    }\n",
              "\n",
              "    .dataframe thead th {\n",
              "        text-align: right;\n",
              "    }\n",
              "</style>\n",
              "<table border=\"1\" class=\"dataframe\">\n",
              "  <thead>\n",
              "    <tr style=\"text-align: right;\">\n",
              "      <th></th>\n",
              "      <th>0</th>\n",
              "      <th>1</th>\n",
              "      <th>2</th>\n",
              "      <th>3</th>\n",
              "      <th>4</th>\n",
              "    </tr>\n",
              "  </thead>\n",
              "  <tbody>\n",
              "    <tr>\n",
              "      <th>0</th>\n",
              "      <td>1</td>\n",
              "      <td>2</td>\n",
              "      <td>3</td>\n",
              "      <td>4</td>\n",
              "      <td>5</td>\n",
              "    </tr>\n",
              "    <tr>\n",
              "      <th>1</th>\n",
              "      <td>5</td>\n",
              "      <td>6</td>\n",
              "      <td>7</td>\n",
              "      <td>8</td>\n",
              "      <td>9</td>\n",
              "    </tr>\n",
              "  </tbody>\n",
              "</table>\n",
              "</div>"
            ],
            "text/plain": [
              "   0  1  2  3  4\n",
              "0  1  2  3  4  5\n",
              "1  5  6  7  8  9"
            ]
          },
          "execution_count": 8,
          "metadata": {},
          "output_type": "execute_result"
        }
      ],
      "source": [
        "lst = [[1,2,3,4,5],[5,6,7,8,9]]\n",
        "q = pd.DataFrame(lst)\n",
        "q"
      ]
    },
    {
      "cell_type": "code",
      "execution_count": null,
      "id": "9d63814f-b8c2-4e60-b8bc-1d59c69c0445",
      "metadata": {
        "id": "9d63814f-b8c2-4e60-b8bc-1d59c69c0445",
        "outputId": "a7a3e53c-2332-4819-aabe-f60ec91fcd2a"
      },
      "outputs": [
        {
          "data": {
            "text/html": [
              "<div>\n",
              "<style scoped>\n",
              "    .dataframe tbody tr th:only-of-type {\n",
              "        vertical-align: middle;\n",
              "    }\n",
              "\n",
              "    .dataframe tbody tr th {\n",
              "        vertical-align: top;\n",
              "    }\n",
              "\n",
              "    .dataframe thead th {\n",
              "        text-align: right;\n",
              "    }\n",
              "</style>\n",
              "<table border=\"1\" class=\"dataframe\">\n",
              "  <thead>\n",
              "    <tr style=\"text-align: right;\">\n",
              "      <th></th>\n",
              "      <th>a</th>\n",
              "      <th>b</th>\n",
              "      <th>c</th>\n",
              "      <th>d</th>\n",
              "    </tr>\n",
              "  </thead>\n",
              "  <tbody>\n",
              "    <tr>\n",
              "      <th>0</th>\n",
              "      <td>1</td>\n",
              "      <td>2</td>\n",
              "      <td>3</td>\n",
              "      <td>4</td>\n",
              "    </tr>\n",
              "    <tr>\n",
              "      <th>1</th>\n",
              "      <td>5</td>\n",
              "      <td>6</td>\n",
              "      <td>7</td>\n",
              "      <td>8</td>\n",
              "    </tr>\n",
              "  </tbody>\n",
              "</table>\n",
              "</div>"
            ],
            "text/plain": [
              "   a  b  c  d\n",
              "0  1  2  3  4\n",
              "1  5  6  7  8"
            ]
          },
          "execution_count": 9,
          "metadata": {},
          "output_type": "execute_result"
        }
      ],
      "source": [
        "dict = [{'a':1,'b':2,'c':3,'d':4},{'a':5,'b':6,'c':7,'d':8}]#dictionary has key value pair and keys represent column names\n",
        "w = pd.DataFrame(dict)\n",
        "w"
      ]
    },
    {
      "cell_type": "code",
      "execution_count": null,
      "id": "c28fdcaf-b586-4e33-88fb-d03e85835a27",
      "metadata": {
        "id": "c28fdcaf-b586-4e33-88fb-d03e85835a27",
        "outputId": "ea267168-7326-44f2-d77c-52039c56238b"
      },
      "outputs": [
        {
          "data": {
            "text/html": [
              "<div>\n",
              "<style scoped>\n",
              "    .dataframe tbody tr th:only-of-type {\n",
              "        vertical-align: middle;\n",
              "    }\n",
              "\n",
              "    .dataframe tbody tr th {\n",
              "        vertical-align: top;\n",
              "    }\n",
              "\n",
              "    .dataframe thead th {\n",
              "        text-align: right;\n",
              "    }\n",
              "</style>\n",
              "<table border=\"1\" class=\"dataframe\">\n",
              "  <thead>\n",
              "    <tr style=\"text-align: right;\">\n",
              "      <th></th>\n",
              "      <th>Rollno</th>\n",
              "      <th>physics</th>\n",
              "      <th>maths</th>\n",
              "    </tr>\n",
              "  </thead>\n",
              "  <tbody>\n",
              "    <tr>\n",
              "      <th>0</th>\n",
              "      <td>1</td>\n",
              "      <td>61</td>\n",
              "      <td>71</td>\n",
              "    </tr>\n",
              "    <tr>\n",
              "      <th>1</th>\n",
              "      <td>2</td>\n",
              "      <td>62</td>\n",
              "      <td>72</td>\n",
              "    </tr>\n",
              "    <tr>\n",
              "      <th>2</th>\n",
              "      <td>3</td>\n",
              "      <td>63</td>\n",
              "      <td>73</td>\n",
              "    </tr>\n",
              "    <tr>\n",
              "      <th>3</th>\n",
              "      <td>4</td>\n",
              "      <td>64</td>\n",
              "      <td>74</td>\n",
              "    </tr>\n",
              "    <tr>\n",
              "      <th>4</th>\n",
              "      <td>5</td>\n",
              "      <td>65</td>\n",
              "      <td>75</td>\n",
              "    </tr>\n",
              "  </tbody>\n",
              "</table>\n",
              "</div>"
            ],
            "text/plain": [
              "   Rollno  physics  maths\n",
              "0       1       61     71\n",
              "1       2       62     72\n",
              "2       3       63     73\n",
              "3       4       64     74\n",
              "4       5       65     75"
            ]
          },
          "execution_count": 12,
          "metadata": {},
          "output_type": "execute_result"
        }
      ],
      "source": [
        "b = {'Rollno':pd.Series([1,2,3,4,5]),\n",
        "    'physics':pd.Series([61,62,63,64,65]),\n",
        "    'maths':pd.Series([71,72,73,74,75])}\n",
        "e = pd.DataFrame(b)\n",
        "e"
      ]
    },
    {
      "cell_type": "code",
      "execution_count": null,
      "id": "06a51760-7fe4-4e8e-b6ca-3420cf56fd59",
      "metadata": {
        "id": "06a51760-7fe4-4e8e-b6ca-3420cf56fd59",
        "outputId": "d9575a0f-73d6-4c42-e3d8-b02873d8c6a8"
      },
      "outputs": [
        {
          "data": {
            "text/html": [
              "<div>\n",
              "<style scoped>\n",
              "    .dataframe tbody tr th:only-of-type {\n",
              "        vertical-align: middle;\n",
              "    }\n",
              "\n",
              "    .dataframe tbody tr th {\n",
              "        vertical-align: top;\n",
              "    }\n",
              "\n",
              "    .dataframe thead th {\n",
              "        text-align: right;\n",
              "    }\n",
              "</style>\n",
              "<table border=\"1\" class=\"dataframe\">\n",
              "  <thead>\n",
              "    <tr style=\"text-align: right;\">\n",
              "      <th></th>\n",
              "      <th>firstname</th>\n",
              "      <th>lastname</th>\n",
              "      <th>email</th>\n",
              "      <th>age</th>\n",
              "    </tr>\n",
              "  </thead>\n",
              "  <tbody>\n",
              "    <tr>\n",
              "      <th>0</th>\n",
              "      <td>Cam</td>\n",
              "      <td>Ingra</td>\n",
              "      <td>Cam.Ingra@outlook.com</td>\n",
              "      <td>40</td>\n",
              "    </tr>\n",
              "    <tr>\n",
              "      <th>1</th>\n",
              "      <td>Robbi</td>\n",
              "      <td>Hourigan</td>\n",
              "      <td>Robbi.Hourigan@yahoo.com</td>\n",
              "      <td>50</td>\n",
              "    </tr>\n",
              "    <tr>\n",
              "      <th>2</th>\n",
              "      <td>Florie</td>\n",
              "      <td>Pattin</td>\n",
              "      <td>Florie.Pattin@outlook.com</td>\n",
              "      <td>44</td>\n",
              "    </tr>\n",
              "    <tr>\n",
              "      <th>3</th>\n",
              "      <td>Cindelyn</td>\n",
              "      <td>Brunell</td>\n",
              "      <td>Cindelyn.Brunell@gmail.com</td>\n",
              "      <td>60</td>\n",
              "    </tr>\n",
              "    <tr>\n",
              "      <th>4</th>\n",
              "      <td>Danny</td>\n",
              "      <td>Goldina</td>\n",
              "      <td>Danny.Goldina@yahoo.com</td>\n",
              "      <td>30</td>\n",
              "    </tr>\n",
              "    <tr>\n",
              "      <th>...</th>\n",
              "      <td>...</td>\n",
              "      <td>...</td>\n",
              "      <td>...</td>\n",
              "      <td>...</td>\n",
              "    </tr>\n",
              "    <tr>\n",
              "      <th>992</th>\n",
              "      <td>Julieta</td>\n",
              "      <td>Weinreb</td>\n",
              "      <td>Julieta.Weinreb@yahoo.com</td>\n",
              "      <td>19</td>\n",
              "    </tr>\n",
              "    <tr>\n",
              "      <th>993</th>\n",
              "      <td>Danika</td>\n",
              "      <td>Germann</td>\n",
              "      <td>Danika.Germann@outlook.com</td>\n",
              "      <td>24</td>\n",
              "    </tr>\n",
              "    <tr>\n",
              "      <th>994</th>\n",
              "      <td>Dorene</td>\n",
              "      <td>Erminia</td>\n",
              "      <td>Dorene.Erminia@outlook.com</td>\n",
              "      <td>34</td>\n",
              "    </tr>\n",
              "    <tr>\n",
              "      <th>995</th>\n",
              "      <td>Sidoney</td>\n",
              "      <td>Suzetta</td>\n",
              "      <td>Sidoney.Suzetta@yahoo.com</td>\n",
              "      <td>49</td>\n",
              "    </tr>\n",
              "    <tr>\n",
              "      <th>996</th>\n",
              "      <td>Phylis</td>\n",
              "      <td>Dorine</td>\n",
              "      <td>Phylis.Dorine@outlook.com</td>\n",
              "      <td>33</td>\n",
              "    </tr>\n",
              "  </tbody>\n",
              "</table>\n",
              "<p>997 rows × 4 columns</p>\n",
              "</div>"
            ],
            "text/plain": [
              "    firstname  lastname                       email  age\n",
              "0         Cam     Ingra       Cam.Ingra@outlook.com   40\n",
              "1       Robbi  Hourigan    Robbi.Hourigan@yahoo.com   50\n",
              "2      Florie    Pattin   Florie.Pattin@outlook.com   44\n",
              "3    Cindelyn   Brunell  Cindelyn.Brunell@gmail.com   60\n",
              "4       Danny   Goldina     Danny.Goldina@yahoo.com   30\n",
              "..        ...       ...                         ...  ...\n",
              "992   Julieta   Weinreb   Julieta.Weinreb@yahoo.com   19\n",
              "993    Danika   Germann  Danika.Germann@outlook.com   24\n",
              "994    Dorene   Erminia  Dorene.Erminia@outlook.com   34\n",
              "995   Sidoney   Suzetta   Sidoney.Suzetta@yahoo.com   49\n",
              "996    Phylis    Dorine   Phylis.Dorine@outlook.com   33\n",
              "\n",
              "[997 rows x 4 columns]"
            ]
          },
          "execution_count": 18,
          "metadata": {},
          "output_type": "execute_result"
        }
      ],
      "source": [
        "df = pd.read_csv(r'C:/Users/SUDEEP/Downloads/data.csv')\n",
        "df"
      ]
    },
    {
      "cell_type": "code",
      "execution_count": null,
      "id": "65866e6e-6e61-4141-8dd4-e9d3d0d747c7",
      "metadata": {
        "id": "65866e6e-6e61-4141-8dd4-e9d3d0d747c7",
        "outputId": "dd5ba489-9f2e-4dbd-b9a1-ce7ce459c467"
      },
      "outputs": [
        {
          "data": {
            "text/plain": [
              "Index(['firstname', 'lastname', 'email', 'age'], dtype='object')"
            ]
          },
          "execution_count": 19,
          "metadata": {},
          "output_type": "execute_result"
        }
      ],
      "source": [
        "df.columns"
      ]
    },
    {
      "cell_type": "code",
      "execution_count": null,
      "id": "30fba73f-99b0-47d1-91e4-4244cdd42321",
      "metadata": {
        "id": "30fba73f-99b0-47d1-91e4-4244cdd42321",
        "outputId": "f1781438-77d2-46ec-baab-2e6272dbcb60"
      },
      "outputs": [
        {
          "data": {
            "text/plain": [
              "(997, 4)"
            ]
          },
          "execution_count": 20,
          "metadata": {},
          "output_type": "execute_result"
        }
      ],
      "source": [
        "df.shape                 # giving (rows,columns)"
      ]
    },
    {
      "cell_type": "code",
      "execution_count": null,
      "id": "5df839ac-34bf-4c58-9fcc-1e98c9f759bf",
      "metadata": {
        "id": "5df839ac-34bf-4c58-9fcc-1e98c9f759bf",
        "outputId": "bc0bd449-1f5c-4d12-ad5b-82b3b2def2c4"
      },
      "outputs": [
        {
          "data": {
            "text/plain": [
              "3988"
            ]
          },
          "execution_count": 21,
          "metadata": {},
          "output_type": "execute_result"
        }
      ],
      "source": [
        "df.size                # number of cells"
      ]
    },
    {
      "cell_type": "code",
      "execution_count": null,
      "id": "7fd794f3-b037-4f8e-a7c8-b22db0f238e4",
      "metadata": {
        "id": "7fd794f3-b037-4f8e-a7c8-b22db0f238e4",
        "outputId": "3f0ddc93-7be8-4836-e917-8891b23a6b5d"
      },
      "outputs": [
        {
          "data": {
            "text/html": [
              "<div>\n",
              "<style scoped>\n",
              "    .dataframe tbody tr th:only-of-type {\n",
              "        vertical-align: middle;\n",
              "    }\n",
              "\n",
              "    .dataframe tbody tr th {\n",
              "        vertical-align: top;\n",
              "    }\n",
              "\n",
              "    .dataframe thead th {\n",
              "        text-align: right;\n",
              "    }\n",
              "</style>\n",
              "<table border=\"1\" class=\"dataframe\">\n",
              "  <thead>\n",
              "    <tr style=\"text-align: right;\">\n",
              "      <th></th>\n",
              "      <th>firstname</th>\n",
              "      <th>lastname</th>\n",
              "      <th>email</th>\n",
              "      <th>age</th>\n",
              "    </tr>\n",
              "  </thead>\n",
              "  <tbody>\n",
              "    <tr>\n",
              "      <th>0</th>\n",
              "      <td>Cam</td>\n",
              "      <td>Ingra</td>\n",
              "      <td>Cam.Ingra@outlook.com</td>\n",
              "      <td>40</td>\n",
              "    </tr>\n",
              "    <tr>\n",
              "      <th>1</th>\n",
              "      <td>Robbi</td>\n",
              "      <td>Hourigan</td>\n",
              "      <td>Robbi.Hourigan@yahoo.com</td>\n",
              "      <td>50</td>\n",
              "    </tr>\n",
              "    <tr>\n",
              "      <th>2</th>\n",
              "      <td>Florie</td>\n",
              "      <td>Pattin</td>\n",
              "      <td>Florie.Pattin@outlook.com</td>\n",
              "      <td>44</td>\n",
              "    </tr>\n",
              "    <tr>\n",
              "      <th>3</th>\n",
              "      <td>Cindelyn</td>\n",
              "      <td>Brunell</td>\n",
              "      <td>Cindelyn.Brunell@gmail.com</td>\n",
              "      <td>60</td>\n",
              "    </tr>\n",
              "    <tr>\n",
              "      <th>4</th>\n",
              "      <td>Danny</td>\n",
              "      <td>Goldina</td>\n",
              "      <td>Danny.Goldina@yahoo.com</td>\n",
              "      <td>30</td>\n",
              "    </tr>\n",
              "  </tbody>\n",
              "</table>\n",
              "</div>"
            ],
            "text/plain": [
              "  firstname  lastname                       email  age\n",
              "0       Cam     Ingra       Cam.Ingra@outlook.com   40\n",
              "1     Robbi  Hourigan    Robbi.Hourigan@yahoo.com   50\n",
              "2    Florie    Pattin   Florie.Pattin@outlook.com   44\n",
              "3  Cindelyn   Brunell  Cindelyn.Brunell@gmail.com   60\n",
              "4     Danny   Goldina     Danny.Goldina@yahoo.com   30"
            ]
          },
          "execution_count": 22,
          "metadata": {},
          "output_type": "execute_result"
        }
      ],
      "source": [
        "df.head()             # first 5 rows"
      ]
    },
    {
      "cell_type": "code",
      "execution_count": null,
      "id": "6caa1da7-2837-4f7e-a8f3-acdee90234e1",
      "metadata": {
        "id": "6caa1da7-2837-4f7e-a8f3-acdee90234e1",
        "outputId": "dd54144c-81d3-4780-dc5d-aaabfe531846"
      },
      "outputs": [
        {
          "data": {
            "text/html": [
              "<div>\n",
              "<style scoped>\n",
              "    .dataframe tbody tr th:only-of-type {\n",
              "        vertical-align: middle;\n",
              "    }\n",
              "\n",
              "    .dataframe tbody tr th {\n",
              "        vertical-align: top;\n",
              "    }\n",
              "\n",
              "    .dataframe thead th {\n",
              "        text-align: right;\n",
              "    }\n",
              "</style>\n",
              "<table border=\"1\" class=\"dataframe\">\n",
              "  <thead>\n",
              "    <tr style=\"text-align: right;\">\n",
              "      <th></th>\n",
              "      <th>firstname</th>\n",
              "      <th>lastname</th>\n",
              "      <th>email</th>\n",
              "      <th>age</th>\n",
              "    </tr>\n",
              "  </thead>\n",
              "  <tbody>\n",
              "    <tr>\n",
              "      <th>992</th>\n",
              "      <td>Julieta</td>\n",
              "      <td>Weinreb</td>\n",
              "      <td>Julieta.Weinreb@yahoo.com</td>\n",
              "      <td>19</td>\n",
              "    </tr>\n",
              "    <tr>\n",
              "      <th>993</th>\n",
              "      <td>Danika</td>\n",
              "      <td>Germann</td>\n",
              "      <td>Danika.Germann@outlook.com</td>\n",
              "      <td>24</td>\n",
              "    </tr>\n",
              "    <tr>\n",
              "      <th>994</th>\n",
              "      <td>Dorene</td>\n",
              "      <td>Erminia</td>\n",
              "      <td>Dorene.Erminia@outlook.com</td>\n",
              "      <td>34</td>\n",
              "    </tr>\n",
              "    <tr>\n",
              "      <th>995</th>\n",
              "      <td>Sidoney</td>\n",
              "      <td>Suzetta</td>\n",
              "      <td>Sidoney.Suzetta@yahoo.com</td>\n",
              "      <td>49</td>\n",
              "    </tr>\n",
              "    <tr>\n",
              "      <th>996</th>\n",
              "      <td>Phylis</td>\n",
              "      <td>Dorine</td>\n",
              "      <td>Phylis.Dorine@outlook.com</td>\n",
              "      <td>33</td>\n",
              "    </tr>\n",
              "  </tbody>\n",
              "</table>\n",
              "</div>"
            ],
            "text/plain": [
              "    firstname lastname                       email  age\n",
              "992   Julieta  Weinreb   Julieta.Weinreb@yahoo.com   19\n",
              "993    Danika  Germann  Danika.Germann@outlook.com   24\n",
              "994    Dorene  Erminia  Dorene.Erminia@outlook.com   34\n",
              "995   Sidoney  Suzetta   Sidoney.Suzetta@yahoo.com   49\n",
              "996    Phylis   Dorine   Phylis.Dorine@outlook.com   33"
            ]
          },
          "execution_count": 23,
          "metadata": {},
          "output_type": "execute_result"
        }
      ],
      "source": [
        "df.tail()           # last 5 rows"
      ]
    },
    {
      "cell_type": "code",
      "execution_count": null,
      "id": "17788495-b68d-4d92-ba28-f80b6c494af3",
      "metadata": {
        "id": "17788495-b68d-4d92-ba28-f80b6c494af3",
        "outputId": "e51ea1bb-00e2-4d87-ca7a-240a23363298"
      },
      "outputs": [
        {
          "data": {
            "text/html": [
              "<div>\n",
              "<style scoped>\n",
              "    .dataframe tbody tr th:only-of-type {\n",
              "        vertical-align: middle;\n",
              "    }\n",
              "\n",
              "    .dataframe tbody tr th {\n",
              "        vertical-align: top;\n",
              "    }\n",
              "\n",
              "    .dataframe thead th {\n",
              "        text-align: right;\n",
              "    }\n",
              "</style>\n",
              "<table border=\"1\" class=\"dataframe\">\n",
              "  <thead>\n",
              "    <tr style=\"text-align: right;\">\n",
              "      <th></th>\n",
              "      <th>age</th>\n",
              "    </tr>\n",
              "  </thead>\n",
              "  <tbody>\n",
              "    <tr>\n",
              "      <th>count</th>\n",
              "      <td>997.000000</td>\n",
              "    </tr>\n",
              "    <tr>\n",
              "      <th>mean</th>\n",
              "      <td>39.373119</td>\n",
              "    </tr>\n",
              "    <tr>\n",
              "      <th>std</th>\n",
              "      <td>12.536741</td>\n",
              "    </tr>\n",
              "    <tr>\n",
              "      <th>min</th>\n",
              "      <td>18.000000</td>\n",
              "    </tr>\n",
              "    <tr>\n",
              "      <th>25%</th>\n",
              "      <td>29.000000</td>\n",
              "    </tr>\n",
              "    <tr>\n",
              "      <th>50%</th>\n",
              "      <td>39.000000</td>\n",
              "    </tr>\n",
              "    <tr>\n",
              "      <th>75%</th>\n",
              "      <td>50.000000</td>\n",
              "    </tr>\n",
              "    <tr>\n",
              "      <th>max</th>\n",
              "      <td>60.000000</td>\n",
              "    </tr>\n",
              "  </tbody>\n",
              "</table>\n",
              "</div>"
            ],
            "text/plain": [
              "              age\n",
              "count  997.000000\n",
              "mean    39.373119\n",
              "std     12.536741\n",
              "min     18.000000\n",
              "25%     29.000000\n",
              "50%     39.000000\n",
              "75%     50.000000\n",
              "max     60.000000"
            ]
          },
          "execution_count": 24,
          "metadata": {},
          "output_type": "execute_result"
        }
      ],
      "source": [
        "df.describe()"
      ]
    },
    {
      "cell_type": "code",
      "execution_count": null,
      "id": "a27142e1-d0c5-467f-8c1d-83247a112ade",
      "metadata": {
        "id": "a27142e1-d0c5-467f-8c1d-83247a112ade",
        "outputId": "adaa2c2a-d614-406f-9b13-69920d93b5e9"
      },
      "outputs": [
        {
          "name": "stdout",
          "output_type": "stream",
          "text": [
            "<class 'pandas.core.frame.DataFrame'>\n",
            "RangeIndex: 997 entries, 0 to 996\n",
            "Data columns (total 4 columns):\n",
            " #   Column     Non-Null Count  Dtype \n",
            "---  ------     --------------  ----- \n",
            " 0   firstname  997 non-null    object\n",
            " 1   lastname   997 non-null    object\n",
            " 2   email      997 non-null    object\n",
            " 3   age        997 non-null    int64 \n",
            "dtypes: int64(1), object(3)\n",
            "memory usage: 31.3+ KB\n"
          ]
        }
      ],
      "source": [
        "df.info()"
      ]
    },
    {
      "cell_type": "code",
      "execution_count": null,
      "id": "0231bf98-3670-4ca6-ab09-2247bdce16ea",
      "metadata": {
        "id": "0231bf98-3670-4ca6-ab09-2247bdce16ea",
        "outputId": "d65ac4e2-f614-449c-ee0d-06d873b72a0a"
      },
      "outputs": [
        {
          "name": "stdout",
          "output_type": "stream",
          "text": [
            "<class 'pandas.core.frame.DataFrame'>\n",
            "RangeIndex: 997 entries, 0 to 996\n",
            "Data columns (total 4 columns):\n",
            " #   Column     Non-Null Count  Dtype \n",
            "---  ------     --------------  ----- \n",
            " 0   firstname  997 non-null    object\n",
            " 1   lastname   997 non-null    object\n",
            " 2   email      997 non-null    object\n",
            " 3   age        997 non-null    int64 \n",
            "dtypes: int64(1), object(3)\n",
            "memory usage: 31.3+ KB\n"
          ]
        }
      ],
      "source": [
        "df.info()"
      ]
    },
    {
      "cell_type": "markdown",
      "source": [
        "1. print(score.mean()) # by default it will give the 6 decimal places\n",
        "2. pd.set_option('display.precision', 2) # it will set to 2 decimal places\n",
        "3. print(score.T) # it will transpose\n",
        "4. print(score.sort_index(ascending = False))\n",
        "5. print(score.sort_index(axis = 1, ascending = False)) #it will sort with column\n",
        "6. print(score.sort_values(by = 'I1', axis = 1)) # it will sort according to the values in the I1\n"
      ],
      "metadata": {
        "id": "tbWLaM9n7hcc"
      },
      "id": "tbWLaM9n7hcc"
    },
    {
      "cell_type": "code",
      "source": [
        "import pandas as pd\n",
        "df = pd.read_csv(r'C:/Users/SUDEEP/Downloads/data.csv')\n",
        "df"
      ],
      "metadata": {
        "id": "_fzjQkrA7V89"
      },
      "id": "_fzjQkrA7V89",
      "execution_count": null,
      "outputs": []
    },
    {
      "cell_type": "code",
      "source": [
        "df.isnull()"
      ],
      "metadata": {
        "id": "b_EQNXxd7bmr"
      },
      "id": "b_EQNXxd7bmr",
      "execution_count": null,
      "outputs": []
    },
    {
      "cell_type": "code",
      "source": [
        "df.isnull().sum()\n",
        "df.dropna()    # drop all the rows which are consisting null values\n",
        "               # by default axis = 0 means all rows\n",
        "               # if axis = 1 means it will check for null values in columns and if columns consists null values then it will remove columns\n",
        ""
      ],
      "metadata": {
        "id": "8NdEYZ-77dkL"
      },
      "id": "8NdEYZ-77dkL",
      "execution_count": null,
      "outputs": []
    },
    {
      "cell_type": "code",
      "source": [
        "df.dropna(how = 'any')        # if any row value is null then remove that row\n",
        "df.dropna(how = 'all')        # if all row vales are null then remove that row\n",
        "df.dropna(inplace = True)     # replaces the null values and creates a new DataFrame\n",
        "df.fillna(0)         # to fill up all the null values with defined integer\n",
        "df.fillna({'physics':'none','chemistry':30,'maths':65}) # keys are the column name values will replace the null values with the defined interger\n",
        "df.fillna(method = 'ffill') # ffill is a forward fill\n",
        "                            # fill the null values with the previous row values\n",
        "df.fillna(method = 'ffill', axis = 1)  #values of the previous column\n",
        "df['physics'].fillna(value=df['physics'].mean())\n",
        "df.fillna(method = 'bfill')"
      ],
      "metadata": {
        "id": "GmtfnzOf7hAR"
      },
      "id": "GmtfnzOf7hAR",
      "execution_count": null,
      "outputs": []
    },
    {
      "cell_type": "code",
      "source": [
        "df.replace(to_replace = 26 , value = 30)\n",
        "df.replace(34,1000)\n",
        "df.replace(to_replace=[3,4,5,6,7,8,8,12], value='A')\n",
        "df.replace(to_replace=[3,4,5,6], value=['A','B','C','D'])"
      ],
      "metadata": {
        "id": "r6JjVFwb7xJw"
      },
      "id": "r6JjVFwb7xJw",
      "execution_count": null,
      "outputs": []
    },
    {
      "cell_type": "code",
      "source": [
        "df['physics'].replace(to_replace=[3,4,5,6], value=['A','B','C','D'], inplace = True)\n",
        "df.replace('[A-Za-z]',0, regex = True)  #string literals will be replaced by zero"
      ],
      "metadata": {
        "id": "0-SQ9oQL7yjE"
      },
      "id": "0-SQ9oQL7yjE",
      "execution_count": null,
      "outputs": []
    }
  ],
  "metadata": {
    "kernelspec": {
      "display_name": "Python 3 (ipykernel)",
      "language": "python",
      "name": "python3"
    },
    "language_info": {
      "codemirror_mode": {
        "name": "ipython",
        "version": 3
      },
      "file_extension": ".py",
      "mimetype": "text/x-python",
      "name": "python",
      "nbconvert_exporter": "python",
      "pygments_lexer": "ipython3",
      "version": "3.8.8"
    },
    "colab": {
      "provenance": [],
      "include_colab_link": true
    }
  },
  "nbformat": 4,
  "nbformat_minor": 5
}
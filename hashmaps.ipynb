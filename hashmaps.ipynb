{
  "cells": [
    {
      "cell_type": "markdown",
      "metadata": {
        "id": "view-in-github",
        "colab_type": "text"
      },
      "source": [
        "<a href=\"https://colab.research.google.com/github/koppula-Sudeep/JupyterNotebook/blob/main/hashmaps.ipynb\" target=\"_parent\"><img src=\"https://colab.research.google.com/assets/colab-badge.svg\" alt=\"Open In Colab\"/></a>"
      ]
    },
    {
      "cell_type": "code",
      "execution_count": null,
      "id": "b6d96e46-909e-41f5-9fb5-b2c7ae776f7e",
      "metadata": {
        "id": "b6d96e46-909e-41f5-9fb5-b2c7ae776f7e",
        "outputId": "e4f11113-1f8d-4719-85ca-9d8bcb12ad35"
      },
      "outputs": [
        {
          "name": "stdout",
          "output_type": "stream",
          "text": [
            "[0, 1]\n"
          ]
        }
      ],
      "source": [
        "def twoSums(nums,target):\n",
        "    hashmaps = {}\n",
        "    for i in range(len(nums)):\n",
        "        complement = target-nums[i]\n",
        "        if complement in hashmaps:\n",
        "            return [hashmaps[complement],i]\n",
        "            pass\n",
        "        else:\n",
        "            hashmaps[nums[i]] = i\n",
        "    print(hashmaps)\n",
        "    # return []\n",
        "\n",
        "nums = [2,7,11,13]\n",
        "target = 9\n",
        "print(twoSums(nums,target))"
      ]
    },
    {
      "cell_type": "code",
      "execution_count": null,
      "id": "c8631ab4-d42d-4a2a-aa67-955b4fe7bbb1",
      "metadata": {
        "id": "c8631ab4-d42d-4a2a-aa67-955b4fe7bbb1",
        "outputId": "9860fe83-79fe-495f-8c4b-2fc7b32c7ee0"
      },
      "outputs": [
        {
          "name": "stdout",
          "output_type": "stream",
          "text": [
            "{2: 0, 7: 1, 11: 2, 13: 3}\n",
            "[0, 1]\n"
          ]
        }
      ],
      "source": [
        "def twoSums(nums,target):\n",
        "    hashmaps = {}\n",
        "    for i in range(len(nums)):\n",
        "        hashmaps[nums[i]] = i\n",
        "    print(hashmaps)\n",
        "\n",
        "    for key,val in hashmaps.items():\n",
        "        complement = target - key\n",
        "        if complement in hashmaps:\n",
        "            return [val,hashmaps[complement]]\n",
        "    return []\n",
        "\n",
        "nums = [2,7,11,13]\n",
        "target = 9\n",
        "print(twoSums(nums,target))"
      ]
    },
    {
      "cell_type": "code",
      "execution_count": 1,
      "id": "1515e46e-985e-46a4-8360-14d913d59425",
      "metadata": {
        "id": "1515e46e-985e-46a4-8360-14d913d59425",
        "outputId": "3ffa25ac-c5da-46a2-922f-5b173a060517",
        "colab": {
          "base_uri": "https://localhost:8080/"
        }
      },
      "outputs": [
        {
          "output_type": "stream",
          "name": "stdout",
          "text": [
            "Enter a word:sudeep\n",
            "{'u': 1, 'e': 2}\n"
          ]
        }
      ],
      "source": [
        "words = str(input(\"Enter a word:\"))\n",
        "dictn = {}\n",
        "vowels = 'aeiou'\n",
        "for char in words:\n",
        "    if char in vowels:\n",
        "        dictn[char] = dictn.get(char,0)+1\n",
        "print(dictn)"
      ]
    }
  ],
  "metadata": {
    "kernelspec": {
      "display_name": "Python 3 (ipykernel)",
      "language": "python",
      "name": "python3"
    },
    "language_info": {
      "codemirror_mode": {
        "name": "ipython",
        "version": 3
      },
      "file_extension": ".py",
      "mimetype": "text/x-python",
      "name": "python",
      "nbconvert_exporter": "python",
      "pygments_lexer": "ipython3",
      "version": "3.8.8"
    },
    "colab": {
      "provenance": [],
      "include_colab_link": true
    }
  },
  "nbformat": 4,
  "nbformat_minor": 5
}
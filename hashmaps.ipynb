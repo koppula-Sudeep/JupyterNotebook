{
 "cells": [
  {
   "cell_type": "code",
   "execution_count": 12,
   "id": "b6d96e46-909e-41f5-9fb5-b2c7ae776f7e",
   "metadata": {},
   "outputs": [
    {
     "name": "stdout",
     "output_type": "stream",
     "text": [
      "[0, 1]\n"
     ]
    }
   ],
   "source": [
    "def twoSums(nums,target):\n",
    "    hashmaps = {}\n",
    "    for i in range(len(nums)):\n",
    "        complement = target-nums[i]\n",
    "        if complement in hashmaps:\n",
    "            return [hashmaps[complement],i]\n",
    "            pass\n",
    "        else:\n",
    "            hashmaps[nums[i]] = i\n",
    "    print(hashmaps)\n",
    "    # return []\n",
    "\n",
    "nums = [2,7,11,13]\n",
    "target = 9\n",
    "print(twoSums(nums,target))"
   ]
  },
  {
   "cell_type": "code",
   "execution_count": 15,
   "id": "c8631ab4-d42d-4a2a-aa67-955b4fe7bbb1",
   "metadata": {},
   "outputs": [
    {
     "name": "stdout",
     "output_type": "stream",
     "text": [
      "{2: 0, 7: 1, 11: 2, 13: 3}\n",
      "[0, 1]\n"
     ]
    }
   ],
   "source": [
    "def twoSums(nums,target):\n",
    "    hashmaps = {}\n",
    "    for i in range(len(nums)):\n",
    "        hashmaps[nums[i]] = i\n",
    "    print(hashmaps)\n",
    "\n",
    "    for key,val in hashmaps.items():\n",
    "        complement = target - key\n",
    "        if complement in hashmaps:\n",
    "            return [val,hashmaps[complement]]\n",
    "    return []\n",
    "\n",
    "nums = [2,7,11,13]\n",
    "target = 9\n",
    "print(twoSums(nums,target))"
   ]
  },
  {
   "cell_type": "code",
   "execution_count": null,
   "id": "1515e46e-985e-46a4-8360-14d913d59425",
   "metadata": {},
   "outputs": [],
   "source": []
  }
 ],
 "metadata": {
  "kernelspec": {
   "display_name": "Python 3 (ipykernel)",
   "language": "python",
   "name": "python3"
  },
  "language_info": {
   "codemirror_mode": {
    "name": "ipython",
    "version": 3
   },
   "file_extension": ".py",
   "mimetype": "text/x-python",
   "name": "python",
   "nbconvert_exporter": "python",
   "pygments_lexer": "ipython3",
   "version": "3.8.8"
  }
 },
 "nbformat": 4,
 "nbformat_minor": 5
}

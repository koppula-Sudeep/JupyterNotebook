{
  "cells": [
    {
      "cell_type": "markdown",
      "metadata": {
        "id": "view-in-github",
        "colab_type": "text"
      },
      "source": [
        "<a href=\"https://colab.research.google.com/github/koppula-Sudeep/JupyterNotebook/blob/main/classes%2C%20decorators%20and%20generator.ipynb\" target=\"_parent\"><img src=\"https://colab.research.google.com/assets/colab-badge.svg\" alt=\"Open In Colab\"/></a>"
      ]
    },
    {
      "cell_type": "code",
      "execution_count": null,
      "id": "e56b2257-b89f-42bc-9714-4f5b39b81f22",
      "metadata": {
        "id": "e56b2257-b89f-42bc-9714-4f5b39b81f22",
        "outputId": "16be5677-5332-442f-a395-7d98123fa936"
      },
      "outputs": [
        {
          "name": "stdout",
          "output_type": "stream",
          "text": [
            "20\n"
          ]
        }
      ],
      "source": [
        "li = [1,2,3,4,5,6,7,8]\n",
        "x = sum(k+i for i in li if i%2 == 0)\n",
        "print(x)"
      ]
    },
    {
      "cell_type": "code",
      "execution_count": null,
      "id": "8519ac0d-3755-482a-b821-ff8f45284dfc",
      "metadata": {
        "id": "8519ac0d-3755-482a-b821-ff8f45284dfc",
        "outputId": "bafa5d10-066e-4559-870f-ee1520c104e1"
      },
      "outputs": [
        {
          "name": "stdout",
          "output_type": "stream",
          "text": [
            "1\n",
            "2\n",
            "3\n",
            "4\n"
          ]
        }
      ],
      "source": [
        "def gen():\n",
        "    n = 1\n",
        "    while True:\n",
        "        try:\n",
        "            if n<=10:\n",
        "                yield n\n",
        "                n += 1\n",
        "        except Exception as e:\n",
        "            break\n",
        "\n",
        "x = gen()\n",
        "print(next(x))\n",
        "print(next(x))\n",
        "print(next(x))\n",
        "print(next(x))"
      ]
    },
    {
      "cell_type": "code",
      "execution_count": null,
      "id": "0d6a4a0c-5fb0-4128-9cac-0aa06037c16d",
      "metadata": {
        "id": "0d6a4a0c-5fb0-4128-9cac-0aa06037c16d",
        "outputId": "c51220d6-0151-4a06-cf68-718876eaa1b2"
      },
      "outputs": [
        {
          "name": "stdout",
          "output_type": "stream",
          "text": [
            "1\n",
            "2\n",
            "3\n",
            "4\n",
            "5\n",
            "6\n",
            "7\n"
          ]
        }
      ],
      "source": [
        "data = [1,2,3,4,5,6,7]\n",
        "k = iter(data)\n",
        "while True:\n",
        "    try:\n",
        "        print(next(k))\n",
        "    except Exception as e:\n",
        "        break"
      ]
    },
    {
      "cell_type": "code",
      "execution_count": null,
      "id": "0170c89b-8dc7-4d23-8ac0-550f6eb676e0",
      "metadata": {
        "id": "0170c89b-8dc7-4d23-8ac0-550f6eb676e0",
        "outputId": "479a23e0-1ddc-4c58-bbf3-61ab1110bc3d"
      },
      "outputs": [
        {
          "name": "stdout",
          "output_type": "stream",
          "text": [
            "2.0\n",
            "The division value of a:2 and b:4 is 2.0 for the function div\n"
          ]
        }
      ],
      "source": [
        "class smartdivision:\n",
        "    def __init__(self,func):\n",
        "        self.func = func\n",
        "\n",
        "    def __call__(self,a,b):\n",
        "        if a<b:\n",
        "            a,b = b,a\n",
        "        return self.func(a,b)\n",
        "\n",
        "    def __display__(self,a,b):\n",
        "        return f\"The division value of a:{a} and b:{b} is {self.__call__(a,b)} for the function {self.func.__name__}\"\n",
        "\n",
        "@smartdivision\n",
        "def div(a,b):\n",
        "    return a/b\n",
        "\n",
        "print(div(2,4))\n",
        "print(div.__display__(2, 4))"
      ]
    },
    {
      "cell_type": "code",
      "execution_count": null,
      "id": "82752c3a-3c1d-4dfe-9cf6-aab38a3bda13",
      "metadata": {
        "id": "82752c3a-3c1d-4dfe-9cf6-aab38a3bda13",
        "outputId": "5cb0c817-2c85-4762-ca15-1798ab3d6494"
      },
      "outputs": [
        {
          "name": "stdout",
          "output_type": "stream",
          "text": [
            "6\n"
          ]
        }
      ],
      "source": [
        "def multiply(a,b):\n",
        "    yield a*b\n",
        "\n",
        "x = multiply(2,3)\n",
        "print(next(x))"
      ]
    },
    {
      "cell_type": "code",
      "execution_count": null,
      "id": "38a4ffbd-9a4c-4629-9778-c6fed50d1713",
      "metadata": {
        "id": "38a4ffbd-9a4c-4629-9778-c6fed50d1713",
        "outputId": "bcd5922a-b890-4e46-cdab-cbddab93448a"
      },
      "outputs": [
        {
          "name": "stdout",
          "output_type": "stream",
          "text": [
            "1\n",
            "2\n",
            "3\n",
            "4\n",
            "5\n"
          ]
        }
      ],
      "source": [
        "def iters(a):\n",
        "    for i in a:\n",
        "        print(i)\n",
        "\n",
        "iters([1,2,3,4,5])"
      ]
    },
    {
      "cell_type": "code",
      "execution_count": null,
      "id": "26437af5-bbc1-40bf-a319-2bd15ab29dac",
      "metadata": {
        "id": "26437af5-bbc1-40bf-a319-2bd15ab29dac",
        "outputId": "de4adb15-9795-40c6-a6f6-01c0524c84e8"
      },
      "outputs": [
        {
          "name": "stdout",
          "output_type": "stream",
          "text": [
            "names\n",
            "None\n",
            "software\n",
            "None\n"
          ]
        }
      ],
      "source": [
        "class A:\n",
        "    def display():\n",
        "        print(\"cars\")\n",
        "    def show():\n",
        "        print(\"kings\")\n",
        "class B:\n",
        "    def show():\n",
        "        print(\"bikes\")\n",
        "    def display():\n",
        "        print(\"names\")\n",
        "class C(B,A):\n",
        "    def clean():\n",
        "        print(\"software\")\n",
        "\n",
        "obj = C\n",
        "print(C.display())\n",
        "print(C.clean())"
      ]
    },
    {
      "cell_type": "code",
      "execution_count": null,
      "id": "f6eb1e0e-f1b4-4770-a9c1-c125f1080815",
      "metadata": {
        "id": "f6eb1e0e-f1b4-4770-a9c1-c125f1080815",
        "outputId": "ab8ee981-72bd-4ba1-84b1-f99c455db18c"
      },
      "outputs": [
        {
          "name": "stdin",
          "output_type": "stream",
          "text": [
            "Enter the radius of a circle: 12\n"
          ]
        },
        {
          "name": "stdout",
          "output_type": "stream",
          "text": [
            "75.39822368615503\n",
            "452.3893421169302\n"
          ]
        }
      ],
      "source": [
        "#1\n",
        "import math\n",
        "class circle:\n",
        "    def __init__(self,radius):\n",
        "        self.radius = radius\n",
        "\n",
        "    def perimeter(self):\n",
        "        return 2*math.pi*self.radius\n",
        "\n",
        "    def area(self):\n",
        "        return math.pi*self.radius**2\n",
        "\n",
        "r = float(input(\"Enter the radius of a circle:\"))\n",
        "obj = circle(r)\n",
        "print(obj.perimeter())\n",
        "print(obj.area())"
      ]
    },
    {
      "cell_type": "code",
      "execution_count": null,
      "id": "aac2c71b-3c8f-4e75-9b4b-2669e9e02983",
      "metadata": {
        "id": "aac2c71b-3c8f-4e75-9b4b-2669e9e02983",
        "outputId": "3e3db408-0770-4167-903e-aac0d79ba8a7"
      },
      "outputs": [
        {
          "name": "stdout",
          "output_type": "stream",
          "text": [
            "The age of sudeep for india is 28\n"
          ]
        }
      ],
      "source": [
        "#2\n",
        "from datetime import datetime\n",
        "class person:\n",
        "    def __init__(self,name,country,dob):\n",
        "        self.name = name\n",
        "        self.country = country\n",
        "        self.dob = dob\n",
        "\n",
        "    def age(self):\n",
        "        # Parse the date of birth string into a datetime object\n",
        "        dob_date = datetime.strptime(self.dob, \"%d/%m/%Y\")\n",
        "\n",
        "        # Get the current date\n",
        "        current_date = datetime.now()\n",
        "\n",
        "        age = current_date.year - dob_date.year\n",
        "\n",
        "        return f\"The age of {self.name} for {self.country} is {age}\"\n",
        "\n",
        "dob = \"1/10/1996\"\n",
        "name = \"sudeep\"\n",
        "country = \"india\"\n",
        "obj = person(name,country,dob)\n",
        "\n",
        "# details = [\"1/10/1996\", \"sudeep\", \"india\"]\n",
        "# obj = person(details)\n",
        "print(obj.age())"
      ]
    },
    {
      "cell_type": "code",
      "execution_count": null,
      "id": "9e5667a3-ab5f-400e-87ef-b44073406e3d",
      "metadata": {
        "id": "9e5667a3-ab5f-400e-87ef-b44073406e3d",
        "outputId": "7a7282e0-2d65-464a-8f0e-206f88a1b275"
      },
      "outputs": [
        {
          "name": "stdout",
          "output_type": "stream",
          "text": [
            "30\n"
          ]
        }
      ],
      "source": [
        "#3\n",
        "class calculator:\n",
        "    def __init__(self,a,b):\n",
        "        self.a = a\n",
        "        self.b = b\n",
        "\n",
        "    def add(self):\n",
        "        return self.a+self.b\n",
        "\n",
        "    def substract(self):\n",
        "        return self.a-self.b\n",
        "\n",
        "    def multiply(self):\n",
        "        return self.a*self.b\n",
        "\n",
        "a = 10\n",
        "b = 20\n",
        "obj = calculator(a,b)\n",
        "print(obj.add())"
      ]
    },
    {
      "cell_type": "code",
      "execution_count": null,
      "id": "b2897a2e-6fbf-4007-b82f-aa744bef8f21",
      "metadata": {
        "id": "b2897a2e-6fbf-4007-b82f-aa744bef8f21",
        "outputId": "50e72f4c-8b01-4ab7-da78-f0fd3a6f58d2"
      },
      "outputs": [
        {
          "name": "stdout",
          "output_type": "stream",
          "text": [
            "[1, 2, 3, 4, 5, 6, 7, 9]\n",
            "[1, 2, 3, 5, 6, 7, 9]\n",
            "list is not empty\n",
            "The list elements are [1, 2, 3, 5, 6, 7, 9]\n"
          ]
        }
      ],
      "source": [
        "#6,9\n",
        "class stack:\n",
        "    def __init__(self,nli):\n",
        "        self.nli = nli\n",
        "\n",
        "    def pushing(self,n):\n",
        "        self.nli.append(n)\n",
        "        print(self.nli)\n",
        "\n",
        "    def poping(self,n):\n",
        "        if len(self.nli) != 0:\n",
        "            self.nli.pop(n)\n",
        "            print(self.nli)\n",
        "        else:\n",
        "            print(\"cannot pop in a empty list\")\n",
        "\n",
        "    # Check if the queue is empty\n",
        "    def is_empty(self):\n",
        "        if len(self.nli) == 0:\n",
        "            print(\"list is empty\")\n",
        "        print(\"list is not empty\")\n",
        "\n",
        "    def display(self):\n",
        "        print(f\"The list elements are {self.nli}\")\n",
        "\n",
        "nli = [1,2,3,4,5,6,7]\n",
        "obj = stack(nli)\n",
        "obj.pushing(9)\n",
        "obj.poping(3)\n",
        "obj.is_empty()\n",
        "obj.display()"
      ]
    },
    {
      "cell_type": "code",
      "execution_count": null,
      "id": "cdfdc188-e52b-4f89-bb82-595dab0a5d18",
      "metadata": {
        "id": "cdfdc188-e52b-4f89-bb82-595dab0a5d18",
        "outputId": "672a912b-60eb-4605-f418-4a107b1e5dde"
      },
      "outputs": [
        {
          "name": "stdout",
          "output_type": "stream",
          "text": [
            "Total price: 0.8\n",
            "Total price after removing the apple: 0.8\n",
            "Items in the cart:\n",
            "Apple: $0.5\n",
            "Banana: $0.3\n"
          ]
        }
      ],
      "source": [
        "class ShoppingCart:\n",
        "    def __init__(self):\n",
        "        self.items = []  # List to store tuples of (item, price)\n",
        "\n",
        "    def add_item(self, item, price):\n",
        "        self.items.append((item, price))\n",
        "\n",
        "    # def remove_item(self, item):\n",
        "    #     for i in range(len(self.items)):\n",
        "    #         if self.items[i][0] == item:\n",
        "    #             del self.items[i]\n",
        "    #             break\n",
        "\n",
        "    def calculate_total(self):\n",
        "        total = sum(item[1] for item in self.items)\n",
        "        return total\n",
        "\n",
        "    def display_items(self):\n",
        "        if self.items:\n",
        "            print(\"Items in the cart:\")\n",
        "            for item, price in self.items:\n",
        "                print(f\"{item}: ${price}\")\n",
        "        else:\n",
        "            print(\"The cart is empty.\")\n",
        "\n",
        "# Example usage:\n",
        "cart = ShoppingCart()\n",
        "cart.add_item(\"Apple\", 0.5)  # Add an apple at $0.5\n",
        "cart.add_item(\"Banana\", 0.3)  # Add a banana at $0.3\n",
        "print(\"Total price:\", cart.calculate_total())  # Output the total price\n",
        "# cart.remove_item(\"Apple\")  # Remove the apple\n",
        "print(\"Total price after removing the apple:\", cart.calculate_total())  # Output the total price again\n",
        "cart.display_items()"
      ]
    },
    {
      "cell_type": "code",
      "execution_count": null,
      "id": "9a9f9ad1-0f87-4d6a-ab79-053984d2c858",
      "metadata": {
        "id": "9a9f9ad1-0f87-4d6a-ab79-053984d2c858",
        "outputId": "d049b4a6-4370-484e-8127-238fe4da57f0"
      },
      "outputs": [
        {
          "name": "stdout",
          "output_type": "stream",
          "text": [
            "[{'items': 'salt', 'price': 20}]\n",
            "[{'items': 'salt', 'price': 20}, {'items': 'masala', 'price': 30}]\n",
            "[{'items': 'salt', 'price': 20}, {'items': 'masala', 'price': 30}, {'items': 'oil', 'price': 50}]\n",
            "100\n",
            "[{'items': 'masala', 'price': 30}, {'items': 'oil', 'price': 50}]\n",
            "80\n"
          ]
        }
      ],
      "source": [
        "class shoppingcart:\n",
        "    def __init__(self):\n",
        "        self.items = []\n",
        "\n",
        "    def adding(self,items,price):\n",
        "        data = {'items':items,'price':price}\n",
        "        self.items.append(data)\n",
        "        return self.items\n",
        "\n",
        "    def remove(self,item):\n",
        "        for products in self.items:\n",
        "            if products['items'] == item:\n",
        "                self.items.remove(products)\n",
        "        return self.items\n",
        "\n",
        "    def total(self):\n",
        "        total = 0\n",
        "        for items in self.items:\n",
        "            total += items['price']\n",
        "        return total\n",
        "\n",
        "obj = shoppingcart()\n",
        "print(obj.adding(\"salt\",20))\n",
        "print(obj.adding(\"masala\",30))\n",
        "print(obj.adding(\"oil\",50))\n",
        "print(obj.total())\n",
        "print(obj.remove(\"salt\"))\n",
        "print(obj.total())"
      ]
    },
    {
      "cell_type": "code",
      "execution_count": null,
      "id": "d8033c8b-8371-4696-bb3f-e1815389ceea",
      "metadata": {
        "id": "d8033c8b-8371-4696-bb3f-e1815389ceea",
        "outputId": "219c06ff-9953-4493-ed7f-d43288805e44"
      },
      "outputs": [
        {
          "name": "stdout",
          "output_type": "stream",
          "text": [
            "the multiplication valu of a:10 and b:5 and result is 50 for function multiplier\n"
          ]
        }
      ],
      "source": [
        "def decor(func):\n",
        "    def inner(a,b):\n",
        "        return f\"The multiplication valu of a:{a} and b:{b} and result is {func(a,b)} for function {func.__name__}\"\n",
        "    return inner\n",
        "@decor\n",
        "def multiplier(a,b):\n",
        "    return a*b\n",
        "print(multiplier(10,5))"
      ]
    },
    {
      "cell_type": "code",
      "execution_count": null,
      "id": "4ccb1586-69ab-4c08-a9e2-492172fe2eeb",
      "metadata": {
        "id": "4ccb1586-69ab-4c08-a9e2-492172fe2eeb",
        "outputId": "2672086e-deea-441f-904b-3e0b14a3a0b9"
      },
      "outputs": [
        {
          "name": "stdout",
          "output_type": "stream",
          "text": [
            "Function multiplier took 0.0 to execute\n",
            "21\n"
          ]
        }
      ],
      "source": [
        "import time\n",
        "def decor(func):\n",
        "    def inner(list_new):\n",
        "        start = time.time()\n",
        "        result = func(list_new)\n",
        "        end = time.time()\n",
        "        elapsed = end-start\n",
        "        print(f\"Function {func.__name__} took {elapsed} to execute\")\n",
        "        return result\n",
        "    return inner\n",
        "\n",
        "@decor\n",
        "def multiplier(list_new):\n",
        "    total = 0\n",
        "    for i in list_new:\n",
        "        total += i\n",
        "    return total\n",
        "list_new = [1,2,3,4,5,6]\n",
        "obj = multiplier(list_new)\n",
        "print(obj)"
      ]
    },
    {
      "cell_type": "code",
      "execution_count": null,
      "id": "5d4e8f10-3c56-46f6-840b-c6147b7a6d8f",
      "metadata": {
        "id": "5d4e8f10-3c56-46f6-840b-c6147b7a6d8f",
        "outputId": "2517054b-4295-41d0-e434-d55ffa501032"
      },
      "outputs": [
        {
          "name": "stdout",
          "output_type": "stream",
          "text": [
            "The data type of a result is <class 'int'> and converted into <class 'str'>\n"
          ]
        }
      ],
      "source": [
        "import time\n",
        "def decor(func):\n",
        "    def inner(list_new):\n",
        "        result = func(list_new)\n",
        "        k = str(result)\n",
        "        return f\"The data type of a result is {type(result)} and converted into {type(k)}\"\n",
        "    return inner\n",
        "@decor\n",
        "def multiplier(list_new):\n",
        "    total = 0\n",
        "    for i in list_new:\n",
        "        total += i\n",
        "    return total\n",
        "list_new = [1,2,3,4,5,6]\n",
        "obj = multiplier(list_new)\n",
        "print(obj)"
      ]
    },
    {
      "cell_type": "code",
      "execution_count": null,
      "id": "34f7455c-402e-49f2-a970-75391c8a95fa",
      "metadata": {
        "id": "34f7455c-402e-49f2-a970-75391c8a95fa",
        "outputId": "2407124c-7410-4c3d-9830-1c6c9c33c35e"
      },
      "outputs": [
        {
          "name": "stdout",
          "output_type": "stream",
          "text": [
            "The area of a circle: 153.93804002589985\n",
            "The perimeter of a circle: 43.982297150257104\n",
            "The area of a rectangle: 56\n",
            "The perimeter of a rectangle: 30\n"
          ]
        }
      ],
      "source": [
        "import math\n",
        "class shape:\n",
        "\n",
        "    def calculate_area():\n",
        "        pass\n",
        "\n",
        "    def calculate_perimeter():\n",
        "        pass\n",
        "\n",
        "class circle(shape):\n",
        "    def __init__(self,radius):\n",
        "        self.radius = radius\n",
        "\n",
        "    def calculate_area(self):\n",
        "        return math.pi*self.radius**2\n",
        "\n",
        "    def calculate_perimeter(self):\n",
        "        return 2*math.pi*self.radius\n",
        "\n",
        "class rectangle:\n",
        "    def __init__(self,length,breath):\n",
        "        self.length = length\n",
        "        self.breath = breadth\n",
        "\n",
        "    def calculate_area(self):\n",
        "        return self.length*breadth\n",
        "\n",
        "    def calculate_perimeter(self):\n",
        "        return 2*(length+breadth)\n",
        "\n",
        "radius = 7\n",
        "obj = circle(radius)\n",
        "print(\"The area of a circle:\",obj.calculate_area())\n",
        "print(\"The perimeter of a circle:\",obj.calculate_perimeter())\n",
        "length = 7\n",
        "breadth = 8\n",
        "obj = rectangle(length, breadth)\n",
        "print(\"The area of a rectangle:\",obj.calculate_area())\n",
        "print(\"The perimeter of a rectangle:\",obj.calculate_perimeter())"
      ]
    },
    {
      "cell_type": "code",
      "execution_count": null,
      "id": "a987ff0a-44e7-48da-90ee-55f06b1f778f",
      "metadata": {
        "id": "a987ff0a-44e7-48da-90ee-55f06b1f778f",
        "outputId": "59072749-0363-47d7-a3bd-bc92d9f427e2"
      },
      "outputs": [
        {
          "name": "stdout",
          "output_type": "stream",
          "text": [
            "27\n"
          ]
        }
      ],
      "source": [
        "def validation(conditions):\n",
        "    def decor(func):\n",
        "        def inner(x):\n",
        "            if conditions(x):\n",
        "                return func(x)\n",
        "            else:\n",
        "                raise ValueError(\"negative value\")\n",
        "        return inner\n",
        "    return decor\n",
        "\n",
        "@validation(lambda x:x>0)\n",
        "def calculate_cube(x):\n",
        "    return x**3;\n",
        "\n",
        "print(calculate_cube(3))"
      ]
    },
    {
      "cell_type": "code",
      "execution_count": null,
      "id": "7f13d002-baeb-4733-accf-c5c2d0c55d0d",
      "metadata": {
        "id": "7f13d002-baeb-4733-accf-c5c2d0c55d0d"
      },
      "outputs": [],
      "source": [
        "def gen(n):\n",
        "    while n>0:\n",
        "        yield n\n",
        "        n -= 1\n",
        "n = 5\n",
        "obj = gen(5)\n",
        "print(next(obj))\n",
        "print(next(obj))\n",
        "print(next(obj))"
      ]
    },
    {
      "cell_type": "code",
      "source": [
        "def decor(fun):\n",
        "    def inner():\n",
        "        x = fun()\n",
        "        return x**2\n",
        "    return inner\n",
        "\n",
        "def num():\n",
        "    return 5\n",
        "\n",
        "obj = decor(num)\n",
        "print(obj())"
      ],
      "metadata": {
        "id": "jwBnhZTyxQPc"
      },
      "id": "jwBnhZTyxQPc",
      "execution_count": null,
      "outputs": []
    }
  ],
  "metadata": {
    "kernelspec": {
      "display_name": "Python 3 (ipykernel)",
      "language": "python",
      "name": "python3"
    },
    "language_info": {
      "codemirror_mode": {
        "name": "ipython",
        "version": 3
      },
      "file_extension": ".py",
      "mimetype": "text/x-python",
      "name": "python",
      "nbconvert_exporter": "python",
      "pygments_lexer": "ipython3",
      "version": "3.8.8"
    },
    "colab": {
      "provenance": [],
      "include_colab_link": true
    }
  },
  "nbformat": 4,
  "nbformat_minor": 5
}
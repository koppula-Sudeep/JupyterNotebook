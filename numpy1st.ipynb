{
 "cells": [
  {
   "cell_type": "code",
   "execution_count": 1,
   "id": "741f674d-6c2d-4590-9b90-31d23d5c1209",
   "metadata": {},
   "outputs": [],
   "source": [
    "import numpy as np"
   ]
  },
  {
   "cell_type": "code",
   "execution_count": 11,
   "id": "1c7445c2-6f96-4109-8a35-b3082c5c098e",
   "metadata": {},
   "outputs": [
    {
     "name": "stdout",
     "output_type": "stream",
     "text": [
      "[1 2 3 4 5]\n",
      "int32\n",
      "<class 'numpy.ndarray'>\n"
     ]
    }
   ],
   "source": [
    "d1 = np.array([1,2,3,4,5])\n",
    "print(d1)\n",
    "print(d1.dtype) # type of data present in an array\n",
    "print(type(d1)) # type of data"
   ]
  },
  {
   "cell_type": "code",
   "execution_count": 14,
   "id": "9e90a3fc-2c32-4205-9aaf-450d9ca4f6f1",
   "metadata": {},
   "outputs": [
    {
     "name": "stdout",
     "output_type": "stream",
     "text": [
      "[[1 2 3 4 5]\n",
      " [5 6 7 8 9]]\n",
      "int32\n",
      "10\n"
     ]
    }
   ],
   "source": [
    "d2 = np.array([[1,2,3,4,5],[5,6,7,8,9]])\n",
    "print(d2)\n",
    "print(d2.dtype)\n",
    "print(d2.size) # number of elements"
   ]
  },
  {
   "cell_type": "code",
   "execution_count": 13,
   "id": "263925cd-5522-4a10-b75e-646f8e83cba7",
   "metadata": {},
   "outputs": [
    {
     "name": "stdout",
     "output_type": "stream",
     "text": [
      "(5,)\n",
      "(2, 5)\n"
     ]
    }
   ],
   "source": [
    "# shape = (rows,columns)\n",
    "print(d1.shape)\n",
    "print(d2.shape)"
   ]
  },
  {
   "cell_type": "code",
   "execution_count": 16,
   "id": "b742d991-2956-4161-9d74-07f490149aa9",
   "metadata": {},
   "outputs": [
    {
     "name": "stdout",
     "output_type": "stream",
     "text": [
      "[[ 1.   2.   3.   4.2  5. ]\n",
      " [ 5.   6.   7.   8.   9. ]\n",
      " [11.  12.  13.  14.  15. ]]\n",
      "float64\n"
     ]
    }
   ],
   "source": [
    "d3 = np.array([[1,2,3,4.2,5],[5,6,7,8,9],[11,12,13,14,15]])\n",
    "print(d3)\n",
    "print(d3.dtype)"
   ]
  },
  {
   "cell_type": "code",
   "execution_count": 18,
   "id": "876bdc41-86ae-4b1d-8953-22f8b2b564f7",
   "metadata": {},
   "outputs": [
    {
     "data": {
      "text/plain": [
       "array([[ 1. ,  5. , 11. ],\n",
       "       [ 2. ,  6. , 12. ],\n",
       "       [ 3. ,  7. , 13. ],\n",
       "       [ 4.2,  8. , 14. ],\n",
       "       [ 5. ,  9. , 15. ]])"
      ]
     },
     "execution_count": 18,
     "metadata": {},
     "output_type": "execute_result"
    }
   ],
   "source": [
    "d3.transpose() # CONVERT ROWS INTO COLUMNS AND VICE-VERSA"
   ]
  },
  {
   "cell_type": "code",
   "execution_count": 19,
   "id": "0e304d96-4622-4d23-be65-603c6a0506dc",
   "metadata": {},
   "outputs": [
    {
     "data": {
      "text/plain": [
       "array([[4128860, 6029375, 3801155, 5570652],\n",
       "       [6619251, 7536754, 5439580, 4456533],\n",
       "       [4522053, 6029392, 7340097, 4456560],\n",
       "       [7602273, 6029409, 7274572, 6357091]])"
      ]
     },
     "execution_count": 19,
     "metadata": {},
     "output_type": "execute_result"
    }
   ],
   "source": [
    "# np.empty((rows,columns),dtype)\n",
    "np.empty((4,4),dtype = int)"
   ]
  },
  {
   "cell_type": "code",
   "execution_count": 20,
   "id": "7dfa7abd-fdbd-496d-8e20-a5630c949f29",
   "metadata": {},
   "outputs": [
    {
     "data": {
      "text/plain": [
       "array([[6.23042070e-307, 4.67296746e-307, 1.69121096e-306,\n",
       "        2.22521816e-307],\n",
       "       [6.23047842e-307, 2.22522597e-306, 1.33511969e-306,\n",
       "        1.37962320e-306],\n",
       "       [9.34604358e-307, 9.79101082e-307, 1.78020576e-306,\n",
       "        1.69119873e-306],\n",
       "       [2.22522868e-306, 1.24611809e-306, 8.06632139e-308,\n",
       "        1.60221208e-306]])"
      ]
     },
     "execution_count": 20,
     "metadata": {},
     "output_type": "execute_result"
    }
   ],
   "source": [
    "np.empty((4,4),dtype = float)"
   ]
  },
  {
   "cell_type": "code",
   "execution_count": 25,
   "id": "710f2595-5eda-4ed2-93e6-490d6bbe30ba",
   "metadata": {},
   "outputs": [
    {
     "name": "stdout",
     "output_type": "stream",
     "text": [
      "[1. 1. 1. 1. 1. 1.]\n",
      "[[1. 1. 1. 1. 1.]\n",
      " [1. 1. 1. 1. 1.]\n",
      " [1. 1. 1. 1. 1.]]\n",
      "[[1 1 1 1]\n",
      " [1 1 1 1]\n",
      " [1 1 1 1]\n",
      " [1 1 1 1]]\n"
     ]
    }
   ],
   "source": [
    "x1 = np.ones(6) \n",
    "x2 = np.ones((3,5)) # WILL PRINT DEFAULT FLOAT VALUES\n",
    "x3 = np.ones((4,4), dtype = int)\n",
    "print(x1)\n",
    "print(x2)\n",
    "print(x3)"
   ]
  },
  {
   "cell_type": "code",
   "execution_count": 27,
   "id": "e30f2583-51e0-40fc-8c04-ef244121b29b",
   "metadata": {},
   "outputs": [
    {
     "name": "stdout",
     "output_type": "stream",
     "text": [
      "[0. 0. 0. 0. 0. 0.]\n",
      "[[0. 0. 0. 0. 0.]\n",
      " [0. 0. 0. 0. 0.]\n",
      " [0. 0. 0. 0. 0.]]\n",
      "[[0 0 0 0]\n",
      " [0 0 0 0]\n",
      " [0 0 0 0]\n",
      " [0 0 0 0]]\n"
     ]
    }
   ],
   "source": [
    "y1 = np.zeros(6) \n",
    "y2 = np.zeros((3,5)) # WILL PRINT DEFAULT FLOAT VALUES\n",
    "y3 = np.zeros((4,4), dtype = int)\n",
    "print(y1)\n",
    "print(y2)\n",
    "print(y3)"
   ]
  },
  {
   "cell_type": "code",
   "execution_count": 28,
   "id": "cfc79db5-ae6a-401a-8607-4379120e1ac4",
   "metadata": {},
   "outputs": [
    {
     "name": "stdout",
     "output_type": "stream",
     "text": [
      "[['' '' '' '']\n",
      " ['' '' '' '']\n",
      " ['' '' '' '']\n",
      " ['' '' '' '']]\n",
      "[['1' '1' '1' '1']\n",
      " ['1' '1' '1' '1']\n",
      " ['1' '1' '1' '1']\n",
      " ['1' '1' '1' '1']]\n"
     ]
    }
   ],
   "source": [
    "z1 = np.zeros((4,4), dtype = str) # IT WILL GIVE EMPTY OUTPUT\n",
    "z2 = np.ones((4,4), dtype = str)\n",
    "print(z1)\n",
    "print(z2)"
   ]
  },
  {
   "cell_type": "code",
   "execution_count": 30,
   "id": "45a7ca59-4e39-4b7d-8123-356049357ffd",
   "metadata": {},
   "outputs": [
    {
     "name": "stdout",
     "output_type": "stream",
     "text": [
      "[[False False False False]\n",
      " [False False False False]\n",
      " [False False False False]\n",
      " [False False False False]]\n",
      "[[ True  True  True  True]\n",
      " [ True  True  True  True]\n",
      " [ True  True  True  True]\n",
      " [ True  True  True  True]]\n"
     ]
    }
   ],
   "source": [
    "P1 = np.zeros((4,4), dtype = bool) # IT WILL GIVE FALSE as an OUTPUT\n",
    "P2 = np.ones((4,4), dtype = bool)\n",
    "print(P1)\n",
    "print(P2)"
   ]
  },
  {
   "cell_type": "code",
   "execution_count": null,
   "id": "a13317c5-d748-4bc1-b858-9c0f72b767a9",
   "metadata": {},
   "outputs": [],
   "source": []
  }
 ],
 "metadata": {
  "kernelspec": {
   "display_name": "Python 3 (ipykernel)",
   "language": "python",
   "name": "python3"
  },
  "language_info": {
   "codemirror_mode": {
    "name": "ipython",
    "version": 3
   },
   "file_extension": ".py",
   "mimetype": "text/x-python",
   "name": "python",
   "nbconvert_exporter": "python",
   "pygments_lexer": "ipython3",
   "version": "3.8.8"
  }
 },
 "nbformat": 4,
 "nbformat_minor": 5
}

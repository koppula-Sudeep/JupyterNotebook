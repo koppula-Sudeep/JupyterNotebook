{
  "cells": [
    {
      "cell_type": "markdown",
      "metadata": {
        "id": "view-in-github",
        "colab_type": "text"
      },
      "source": [
        "<a href=\"https://colab.research.google.com/github/koppula-Sudeep/JupyterNotebook/blob/main/Two%20Pointers%20CSES.ipynb\" target=\"_parent\"><img src=\"https://colab.research.google.com/assets/colab-badge.svg\" alt=\"Open In Colab\"/></a>"
      ]
    },
    {
      "cell_type": "code",
      "source": [
        "# Input: N = 5, arr[] = {2, 2, 3, 3, 2}\n",
        "# Output: 2\n",
        "def distinct_numbers(arr):\n",
        "  seq = []\n",
        "  count = 0\n",
        "  for i in arr:\n",
        "    if i not in seq:\n",
        "      count += 1\n",
        "      seq.append(i)\n",
        "    else:\n",
        "      pass\n",
        "  return count\n",
        "\n",
        "arr1 = [2,2,3,3,2]\n",
        "obj1 = distinct_numbers(arr1)\n",
        "print(obj1)\n",
        "arr2 = [1, 1, 2, 2, 3, 4]\n",
        "obj2 = distinct_numbers(arr)\n",
        "print(obj2)"
      ],
      "metadata": {
        "id": "GIc_VBps_LsK",
        "outputId": "fc03aaa9-e709-47dd-de67-39ecfed3a8d2",
        "colab": {
          "base_uri": "https://localhost:8080/"
        }
      },
      "id": "GIc_VBps_LsK",
      "execution_count": 5,
      "outputs": [
        {
          "output_type": "stream",
          "name": "stdout",
          "text": [
            "2\n",
            "4\n"
          ]
        }
      ]
    },
    {
      "cell_type": "code",
      "source": [
        "def ferris_wheel(arr,X):\n",
        "  charset = []\n",
        "  arr.sort()\n",
        "  l = 0\n",
        "  r = len(arr)-1\n",
        "  while l<r:\n",
        "    if arr[l] + arr[r] <= X:\n",
        "      charset.append((arr[l],arr[r]))\n",
        "      l += 1\n",
        "      r -= 1\n",
        "    else:\n",
        "      charset.append(arr[r])\n",
        "      r -= 1\n",
        "  charset.append(arr[r])\n",
        "  return charset\n",
        "\n",
        "print(ferris_wheel([7,2,3,9],10))"
      ],
      "metadata": {
        "id": "w4M2BMI2HOW7",
        "outputId": "079c7e85-5240-437a-9adc-95424e97ab34",
        "colab": {
          "base_uri": "https://localhost:8080/"
        }
      },
      "id": "w4M2BMI2HOW7",
      "execution_count": 10,
      "outputs": [
        {
          "output_type": "stream",
          "name": "stdout",
          "text": [
            "[9, (2, 7), 3]\n"
          ]
        }
      ]
    }
  ],
  "metadata": {
    "kernelspec": {
      "display_name": "Python 3 (ipykernel)",
      "language": "python",
      "name": "python3"
    },
    "language_info": {
      "codemirror_mode": {
        "name": "ipython",
        "version": 3
      },
      "file_extension": ".py",
      "mimetype": "text/x-python",
      "name": "python",
      "nbconvert_exporter": "python",
      "pygments_lexer": "ipython3",
      "version": "3.8.8"
    },
    "colab": {
      "provenance": [],
      "include_colab_link": true
    }
  },
  "nbformat": 4,
  "nbformat_minor": 5
}
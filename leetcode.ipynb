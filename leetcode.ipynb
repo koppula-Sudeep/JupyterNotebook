{
 "cells": [
  {
   "cell_type": "code",
   "execution_count": 7,
   "id": "fe356f4c-17e2-4e42-be0d-9503e5656812",
   "metadata": {},
   "outputs": [
    {
     "name": "stdout",
     "output_type": "stream",
     "text": [
      "(0, 1)\n"
     ]
    }
   ],
   "source": [
    "def two_sums(nums,target):\n",
    "    hashmaps ={}\n",
    "    for i in range(len(nums)):\n",
    "        hashmaps[nums[i]] = i\n",
    "    \n",
    "    for key,val in hashmaps.items():\n",
    "        complement = target-key\n",
    "        if complement in hashmaps.keys():\n",
    "            return val,hashmaps[complement]\n",
    "    return []\n",
    "                \n",
    "nums = [2,7,11,15]\n",
    "target = 9\n",
    "print(two_sums(nums,target))"
   ]
  },
  {
   "cell_type": "code",
   "execution_count": 1,
   "id": "1474f43b-bd4b-4b62-83d6-97fd84d51e56",
   "metadata": {},
   "outputs": [
    {
     "name": "stdout",
     "output_type": "stream",
     "text": [
      "(1, 0)\n"
     ]
    }
   ],
   "source": [
    "def two_sums(nums,target):\n",
    "    hashmaps ={}\n",
    "    for i in range(len(nums)):\n",
    "        complement = target - nums[i]\n",
    "        if complement in hashmaps:\n",
    "            return i,hashmaps[complement]\n",
    "        else:\n",
    "            hashmaps[nums[i]] = i\n",
    "    return []\n",
    "                \n",
    "nums = [2,7,11,15]\n",
    "target = 9\n",
    "print(two_sums(nums,target))"
   ]
  },
  {
   "cell_type": "code",
   "execution_count": 6,
   "id": "db00727a-a5f4-4fe5-8d1c-79d331196a08",
   "metadata": {},
   "outputs": [
    {
     "name": "stdout",
     "output_type": "stream",
     "text": [
      "(0, 1)\n"
     ]
    }
   ],
   "source": [
    "def two_sums(nums,target):\n",
    "    for i in range(len(nums)-1):\n",
    "        for j in range(i+1,len(nums)):\n",
    "            if nums[i]+nums[j]==target:\n",
    "                return i,j\n",
    "                \n",
    "nums = [2,7,11,15]\n",
    "target = 9\n",
    "print(two_sums(nums,target))"
   ]
  },
  {
   "cell_type": "code",
   "execution_count": 8,
   "id": "59cc048d-19fd-44b0-8b58-8fe5c4d6b4b2",
   "metadata": {},
   "outputs": [
    {
     "name": "stdout",
     "output_type": "stream",
     "text": [
      "5\n"
     ]
    }
   ],
   "source": [
    "def buy_sell_stocks(nums):\n",
    "    max_profit = 0\n",
    "    for i in range(len(nums)-1):\n",
    "        for j in range(i+1,len(nums)):\n",
    "            element = nums[j]-nums[i]\n",
    "            max_profit = max(element,max_profit)\n",
    "    return max_profit\n",
    "                \n",
    "nums = [7,1,5,3,6,4]\n",
    "print(buy_sell_stocks(nums))"
   ]
  },
  {
   "cell_type": "code",
   "execution_count": 10,
   "id": "35622134-b7d2-4d9f-a698-63b461f34c9f",
   "metadata": {},
   "outputs": [
    {
     "name": "stdout",
     "output_type": "stream",
     "text": [
      "5\n"
     ]
    }
   ],
   "source": [
    "def buy_sell_stocks(nums):\n",
    "    min_price = nums[0]\n",
    "    max_profit = 0\n",
    "    for i in range(1,len(nums)):\n",
    "        max_profit = max(max_profit,nums[i]-min_price)\n",
    "        min_price = min(min_price,nums[i])\n",
    "    return max_profit\n",
    "                \n",
    "nums = [7,1,5,3,6,4]\n",
    "print(buy_sell_stocks(nums))"
   ]
  },
  {
   "cell_type": "code",
   "execution_count": 12,
   "id": "9db2cd8c-194c-4deb-bdc6-0b09539ec809",
   "metadata": {},
   "outputs": [
    {
     "name": "stdout",
     "output_type": "stream",
     "text": [
      "False\n"
     ]
    }
   ],
   "source": [
    "def duplicate(nums):\n",
    "    list_new = []\n",
    "    for i in nums:\n",
    "        if i in list_new:\n",
    "            return True\n",
    "        else:\n",
    "            list_new.append(i)\n",
    "    return False\n",
    "                \n",
    "nums = [1,2,3,4]\n",
    "print(duplicate(nums))"
   ]
  },
  {
   "cell_type": "code",
   "execution_count": 13,
   "id": "f9daddec-28eb-4411-bdf0-0e83e95d8fb7",
   "metadata": {},
   "outputs": [
    {
     "name": "stdout",
     "output_type": "stream",
     "text": [
      "True\n"
     ]
    }
   ],
   "source": [
    "def duplicate(nums):\n",
    "    nums.sort()\n",
    "    for i in range(1,len(nums)):\n",
    "        if nums[i-1] == nums[i]: \n",
    "            return True\n",
    "    return False\n",
    "                \n",
    "nums = [1,2,3,1]\n",
    "print(duplicate(nums))"
   ]
  },
  {
   "cell_type": "code",
   "execution_count": 14,
   "id": "c84079a4-2e7e-443f-880a-ddd46fad9966",
   "metadata": {},
   "outputs": [
    {
     "name": "stdout",
     "output_type": "stream",
     "text": [
      "1\n"
     ]
    }
   ],
   "source": [
    "def min_rotated_array(nums):\n",
    "    left = 0\n",
    "    right = len(nums)-1\n",
    "    while left<=right:\n",
    "        if nums[left]>nums[right]:\n",
    "            left += 1\n",
    "        else:\n",
    "            right -= 1\n",
    "    return nums[left]\n",
    "        \n",
    "nums = [3,4,5,1,2]\n",
    "print(min_rotated_array(nums))"
   ]
  },
  {
   "cell_type": "code",
   "execution_count": 16,
   "id": "6346d7a5-a6cb-417a-8a1e-5b45f77b7266",
   "metadata": {},
   "outputs": [
    {
     "name": "stdout",
     "output_type": "stream",
     "text": [
      "1\n"
     ]
    }
   ],
   "source": [
    "def min_rotated_array(nums):\n",
    "    min_num = float(\"inf\")\n",
    "    left = 0\n",
    "    right = len(nums)-1\n",
    "    while left<=right:\n",
    "        if nums[left]>nums[right]:\n",
    "            min_num = min(min_num,nums[left])\n",
    "            left += 1\n",
    "        else:\n",
    "            min_num = min(min_num,nums[right])\n",
    "            right -= 1\n",
    "    return min_num\n",
    "        \n",
    "nums = [3,4,5,1,2]\n",
    "print(min_rotated_array(nums))"
   ]
  },
  {
   "cell_type": "code",
   "execution_count": 4,
   "id": "e32497a0-b814-448f-8be1-e8ce62583f49",
   "metadata": {},
   "outputs": [
    {
     "name": "stdout",
     "output_type": "stream",
     "text": [
      "6\n",
      "0\n"
     ]
    }
   ],
   "source": [
    "def maxProduct(nums):\n",
    "    n = len(nums)\n",
    "    left_product = 1\n",
    "    right_product = 1\n",
    "    ans = nums[0]\n",
    "\n",
    "    for i in range(n):\n",
    "        # if any of left_product or right_product become 0 then update it to 1\n",
    "        left_product = 1 if left_product == 0 else left_product\n",
    "        right_product = 1 if right_product == 0 else right_product\n",
    "\n",
    "        # prefix product\n",
    "        left_product *= nums[i]\n",
    "\n",
    "        # suffix product\n",
    "        right_product *= nums[n - 1 - i]\n",
    "        # print(n - 1 - i)\n",
    "\n",
    "        ans = max(ans, max(left_product, right_product))\n",
    "\n",
    "    return ans\n",
    "\n",
    "# Test cases\n",
    "print(maxProduct([2, 3, -2, 4]))  # Output: 6\n",
    "print(maxProduct([-2, 0, -1]))    # Output: 0"
   ]
  },
  {
   "cell_type": "code",
   "execution_count": null,
   "id": "c3c037a6-9c9e-4a4a-817f-cd080ed2daaf",
   "metadata": {},
   "outputs": [],
   "source": [
    "def maxProduct(nums):\n",
    "    n = len(nums)\n",
    "    maxsum = nums[0]\n",
    "    cursum = 0\n",
    "    for i in range(n):\n",
    "        if cursum<0:\n",
    "            cursum = 0 \n",
    "        cursum += nums[i]\n",
    "        maxsum = max(maxsum,cursum)\n",
    "    return maxsum\n",
    "\n",
    "nums = [-2,1,-3,4,-1,2,1,-5,4]\n",
    "print(maxProduct(nums))  "
   ]
  },
  {
   "cell_type": "code",
   "execution_count": 11,
   "id": "26604180-3cc3-4ade-9820-719b02f2c871",
   "metadata": {},
   "outputs": [
    {
     "name": "stdout",
     "output_type": "stream",
     "text": [
      "[1, 1, 2, 6]\n",
      "[24, 12, 4, 1]\n",
      "[24, 12, 8, 6]\n"
     ]
    }
   ],
   "source": [
    "def productExceptSelf(nums):\n",
    "    n = len(nums)\n",
    "\n",
    "    # Array to store all left multiplication\n",
    "    left = [0]*n\n",
    "\n",
    "    # Array to store all right multiplication\n",
    "    right = [0]*n \n",
    "\n",
    "    left[0] = 1\n",
    "    for i in range(1, n):\n",
    "        left[i] = left[i - 1] * nums[i - 1]\n",
    "    print(left)\n",
    "\n",
    "    right[n - 1] = 1\n",
    "    for i in range(n - 2, -1, -1):\n",
    "        right[i] = right[i + 1] * nums[i + 1]\n",
    "    print(right)\n",
    "\n",
    "    ans = [0] * n\n",
    "    for i in range(n):\n",
    "        ans[i] = left[i] * right[i]\n",
    "\n",
    "    return ans\n",
    "\n",
    "# Test case\n",
    "nums = [1, 2, 3, 4]\n",
    "print(productExceptSelf(nums))  # Output: [24, 12, 8, 6]"
   ]
  },
  {
   "cell_type": "code",
   "execution_count": 2,
   "id": "a57b1e10-f5b0-4b23-9357-7cc772a966c9",
   "metadata": {},
   "outputs": [
    {
     "name": "stdout",
     "output_type": "stream",
     "text": [
      "3\n"
     ]
    }
   ],
   "source": [
    "def maxVowels(s, k):\n",
    "        max_vowels = 0\n",
    "        window_vowels = 0\n",
    "\n",
    "        vowels = set(['a', 'e', 'i', 'o', 'u'])\n",
    "\n",
    "        # Count the number of vowels in the first window\n",
    "        for i in range(k):\n",
    "            if s[i] in vowels:\n",
    "                window_vowels += 1\n",
    "\n",
    "        max_vowels = window_vowels\n",
    "\n",
    "        # Slide the window and update the maximum number of vowels\n",
    "        for i in range(k, len(s)):\n",
    "            if s[i - k] in vowels:\n",
    "                window_vowels -= 1\n",
    "\n",
    "            if s[i] in vowels:\n",
    "                window_vowels += 1\n",
    "\n",
    "            max_vowels = max(max_vowels, window_vowels)\n",
    "\n",
    "        return max_vowels\n",
    "\n",
    "# Test case\n",
    "s = \"abciiidef\"\n",
    "k = 3\n",
    "print(maxVowels(s, k))  # Output: 3"
   ]
  },
  {
   "cell_type": "code",
   "execution_count": 3,
   "id": "dc689ed5-5cba-4340-aa44-3a109d7d0a3f",
   "metadata": {},
   "outputs": [
    {
     "name": "stdout",
     "output_type": "stream",
     "text": [
      "4\n"
     ]
    }
   ],
   "source": [
    "s = \"ABAB\"\n",
    "k = 2\n",
    "count = {}\n",
    "l = 0\n",
    "res = 0\n",
    "for r in range(len(s)):\n",
    "    count[s[r]] = 1+count.get(s[r],0)\n",
    "\n",
    "    while (r-l+1)-max(count.values())>k:\n",
    "        count[s[l]] -= 1\n",
    "        l += 1\n",
    "    res = max(res,(r-l+1))\n",
    "print(res)"
   ]
  },
  {
   "cell_type": "code",
   "execution_count": 8,
   "id": "0fb48b37-7339-4585-87ec-0949b800a1cc",
   "metadata": {},
   "outputs": [
    {
     "name": "stdout",
     "output_type": "stream",
     "text": [
      "3\n"
     ]
    }
   ],
   "source": [
    "s = \"abcabcbb\"\n",
    "charset = set()\n",
    "l = 0\n",
    "res = 0\n",
    "for r in range(len(s)):\n",
    "    while s[r] in charset:\n",
    "        charset.remove(s[l])\n",
    "        l += 1\n",
    "    charset.add(s[r])\n",
    "    res = max(res,(r-l+1))\n",
    "print(res)"
   ]
  },
  {
   "cell_type": "code",
   "execution_count": 27,
   "id": "87e94f1b-a0cc-4798-9c2f-88aa967144dc",
   "metadata": {},
   "outputs": [
    {
     "name": "stdout",
     "output_type": "stream",
     "text": [
      "\n"
     ]
    }
   ],
   "source": [
    "def longestpalindrome(s):\n",
    "    r = ''\n",
    "    for i in range(len(s)):\n",
    "        for j in range(i+1,len(s)+1):\n",
    "            palindrome = s[i:j]\n",
    "            if palindrome == palindrome[::-1] and len(palindrome)>1:\n",
    "                # r = palidrome\n",
    "                return palidrome\n",
    "\n",
    "s = \"babad\"\n",
    "k = longestpalindrome(s)\n",
    "print(k)"
   ]
  },
  {
   "cell_type": "code",
   "execution_count": 5,
   "id": "c67ce0f5-a328-4ab1-8706-3f88e4aaacf3",
   "metadata": {},
   "outputs": [
    {
     "name": "stdout",
     "output_type": "stream",
     "text": [
      "(3, 4)\n"
     ]
    }
   ],
   "source": [
    "def last_first(nums,target):\n",
    "    if len(nums)==0 and target not in nums:\n",
    "        return [-1,-1]\n",
    "    left = 0\n",
    "    right = len(nums)-1\n",
    "    while left<right:\n",
    "        if nums[left] == target and nums[right] == target:\n",
    "            return left,right\n",
    "        elif nums[left] == target and nums[right]!= target:\n",
    "            right -= 1\n",
    "        elif nums[right] == target and nums[left]!= target:\n",
    "            left += 1\n",
    "        else:\n",
    "            right -= 1\n",
    "            left += 1\n",
    "    return [-1,-1]        \n",
    "            \n",
    "\n",
    "nums = [5,7,7,8,8,10]\n",
    "target = 8\n",
    "print(last_first(nums,target))"
   ]
  },
  {
   "cell_type": "code",
   "execution_count": null,
   "id": "016a314c-367c-4c04-a57f-b54b36343686",
   "metadata": {},
   "outputs": [],
   "source": []
  }
 ],
 "metadata": {
  "kernelspec": {
   "display_name": "Python 3 (ipykernel)",
   "language": "python",
   "name": "python3"
  },
  "language_info": {
   "codemirror_mode": {
    "name": "ipython",
    "version": 3
   },
   "file_extension": ".py",
   "mimetype": "text/x-python",
   "name": "python",
   "nbconvert_exporter": "python",
   "pygments_lexer": "ipython3",
   "version": "3.8.8"
  }
 },
 "nbformat": 4,
 "nbformat_minor": 5
}

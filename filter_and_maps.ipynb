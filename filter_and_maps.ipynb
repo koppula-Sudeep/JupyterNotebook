{
  "cells": [
    {
      "cell_type": "markdown",
      "metadata": {
        "id": "view-in-github",
        "colab_type": "text"
      },
      "source": [
        "<a href=\"https://colab.research.google.com/github/koppula-Sudeep/JupyterNotebook/blob/main/filter_and_maps.ipynb\" target=\"_parent\"><img src=\"https://colab.research.google.com/assets/colab-badge.svg\" alt=\"Open In Colab\"/></a>"
      ]
    },
    {
      "cell_type": "code",
      "execution_count": null,
      "id": "4bd18279-bccb-41d4-82f9-6fadd651565c",
      "metadata": {
        "id": "4bd18279-bccb-41d4-82f9-6fadd651565c"
      },
      "outputs": [],
      "source": [
        "vowels = ['a', 'e', 'i', 'o', 'u']\n",
        "strings = 'Hello name is sudeep'\n",
        "\n",
        "# Step 1: Use filter to keep only the vowels\n",
        "filtered_vowels = filter(lambda char: char.lower() in vowels, strings)\n",
        "\n",
        "# Step 2: Convert the filter object to a list to see the individual vowels\n",
        "vowel_list = list(filtered_vowels)\n",
        "\n",
        "print(vowel_list)"
      ]
    },
    {
      "cell_type": "code",
      "execution_count": null,
      "id": "a06ae0fa-decc-4b97-812f-7b00d73cb47d",
      "metadata": {
        "id": "a06ae0fa-decc-4b97-812f-7b00d73cb47d",
        "outputId": "e7a82ced-1666-4b76-a1e9-048d88b9bb90"
      },
      "outputs": [
        {
          "name": "stdout",
          "output_type": "stream",
          "text": [
            "45\n"
          ]
        }
      ],
      "source": [
        "num = 123456789\n",
        "\n",
        "# Step 1: Convert the number to a string\n",
        "num_str = str(num)\n",
        "\n",
        "# Step 2: Use map to convert each character back to an integer\n",
        "mapped_digits = map(int, num_str)\n",
        "\n",
        "# Step 3: Calculate the sum of these integers\n",
        "csum = sum(mapped_digits)\n",
        "\n",
        "print(csum)"
      ]
    },
    {
      "cell_type": "code",
      "execution_count": null,
      "id": "a12508ef-13aa-46f7-9c62-6f3f8a3a224a",
      "metadata": {
        "id": "a12508ef-13aa-46f7-9c62-6f3f8a3a224a",
        "outputId": "823e1a75-eefd-491d-de84-757a21c109fb"
      },
      "outputs": [
        {
          "name": "stdout",
          "output_type": "stream",
          "text": [
            "Counter({'e': 3, 'i': 2, 'a': 1, 'u': 1})\n"
          ]
        }
      ],
      "source": [
        "from collections import Counter\n",
        "\n",
        "# Input string\n",
        "input_str = 'hi my name is sudeep'\n",
        "vowels = ['a', 'e', 'i', 'o', 'u']\n",
        "\n",
        "# Use filter to extract vowels from the string\n",
        "filtered_vowels = filter(lambda char: char in vowels, input_str)\n",
        "\n",
        "# Create a Counter to count the occurrences of each vowel\n",
        "vowel_count = Counter(filtered_vowels)\n",
        "\n",
        "# Print the result\n",
        "print(vowel_count)"
      ]
    },
    {
      "cell_type": "code",
      "execution_count": 4,
      "id": "168b0bed-6a90-4f5f-9e04-95c4a933fbd7",
      "metadata": {
        "id": "168b0bed-6a90-4f5f-9e04-95c4a933fbd7",
        "outputId": "0e0009b1-120d-43d0-b04a-625f5844ac20",
        "colab": {
          "base_uri": "https://localhost:8080/"
        }
      },
      "outputs": [
        {
          "output_type": "execute_result",
          "data": {
            "text/plain": [
              "125"
            ]
          },
          "metadata": {},
          "execution_count": 4
        }
      ],
      "source": [
        "# cube using the lambda\n",
        "f = lambda n:n**3\n",
        "f(3)\n",
        "f(5)"
      ]
    },
    {
      "cell_type": "code",
      "source": [
        "# If Even print Yes\n",
        "l = lambda n:'YES' if n%2==0 else 'NO'\n",
        "print(l(210))\n",
        "print(l(223))"
      ],
      "metadata": {
        "id": "W3pYpWkyqciM",
        "outputId": "7e21150f-791b-4a37-ae21-18f5cb244953",
        "colab": {
          "base_uri": "https://localhost:8080/"
        }
      },
      "id": "W3pYpWkyqciM",
      "execution_count": 6,
      "outputs": [
        {
          "output_type": "stream",
          "name": "stdout",
          "text": [
            "YES\n",
            "NO\n"
          ]
        }
      ]
    },
    {
      "cell_type": "code",
      "source": [
        "# filter the even numbers only\n",
        "l = [1,2,3,4,5,6,7,8,9,10]\n",
        "l_fil = list(filter(lambda n:n%2==0,l))\n",
        "print(l_fil)"
      ],
      "metadata": {
        "id": "yMDUDZzyr66T",
        "outputId": "6d8cc236-9529-4d1f-cb8f-18baf02ddc85",
        "colab": {
          "base_uri": "https://localhost:8080/"
        }
      },
      "id": "yMDUDZzyr66T",
      "execution_count": 7,
      "outputs": [
        {
          "output_type": "stream",
          "name": "stdout",
          "text": [
            "[2, 4, 6, 8, 10]\n"
          ]
        }
      ]
    },
    {
      "cell_type": "code",
      "source": [
        "# square of every value in a list\n",
        "l = [1,2,3,4,5,6,7,8,9,10]\n",
        "l_fil = list(map(lambda n:n**2,l))\n",
        "print(l_fil)"
      ],
      "metadata": {
        "id": "8a0VUB43spNo",
        "outputId": "a1d7d6c4-17d5-4511-abe2-26577d243edc",
        "colab": {
          "base_uri": "https://localhost:8080/"
        }
      },
      "id": "8a0VUB43spNo",
      "execution_count": 8,
      "outputs": [
        {
          "output_type": "stream",
          "name": "stdout",
          "text": [
            "[1, 4, 9, 16, 25, 36, 49, 64, 81, 100]\n"
          ]
        }
      ]
    },
    {
      "cell_type": "code",
      "source": [
        "#sum of all the elements in a list\n",
        "# l = [1,2,3,4,5,6,7,8,9,10]\n",
        "# csum = sum(i for i in l)\n",
        "# print(csum)\n",
        "\n",
        "from functools import reduce\n",
        "l = [1,2,3,4,5,6,7,8,9,10]\n",
        "csum = reduce(lambda x,y:x+y,l)\n",
        "print(csum)"
      ],
      "metadata": {
        "id": "jXLhKgEltQjq",
        "outputId": "7aac9262-e7e7-430f-a2fe-39781d543010",
        "colab": {
          "base_uri": "https://localhost:8080/"
        }
      },
      "id": "jXLhKgEltQjq",
      "execution_count": 13,
      "outputs": [
        {
          "output_type": "stream",
          "name": "stdout",
          "text": [
            "55\n"
          ]
        }
      ]
    }
  ],
  "metadata": {
    "kernelspec": {
      "display_name": "Python 3 (ipykernel)",
      "language": "python",
      "name": "python3"
    },
    "language_info": {
      "codemirror_mode": {
        "name": "ipython",
        "version": 3
      },
      "file_extension": ".py",
      "mimetype": "text/x-python",
      "name": "python",
      "nbconvert_exporter": "python",
      "pygments_lexer": "ipython3",
      "version": "3.8.8"
    },
    "colab": {
      "provenance": [],
      "include_colab_link": true
    }
  },
  "nbformat": 4,
  "nbformat_minor": 5
}
{
 "cells": [
  {
   "cell_type": "code",
   "execution_count": null,
   "id": "4bd18279-bccb-41d4-82f9-6fadd651565c",
   "metadata": {},
   "outputs": [],
   "source": [
    "vowels = ['a', 'e', 'i', 'o', 'u']\n",
    "strings = 'Hello name is sudeep'\n",
    "\n",
    "# Step 1: Use filter to keep only the vowels\n",
    "filtered_vowels = filter(lambda char: char.lower() in vowels, strings)\n",
    "\n",
    "# Step 2: Convert the filter object to a list to see the individual vowels\n",
    "vowel_list = list(filtered_vowels)\n",
    "\n",
    "print(vowel_list)"
   ]
  },
  {
   "cell_type": "code",
   "execution_count": 1,
   "id": "a06ae0fa-decc-4b97-812f-7b00d73cb47d",
   "metadata": {},
   "outputs": [
    {
     "name": "stdout",
     "output_type": "stream",
     "text": [
      "45\n"
     ]
    }
   ],
   "source": [
    "num = 123456789\n",
    "\n",
    "# Step 1: Convert the number to a string\n",
    "num_str = str(num)\n",
    "\n",
    "# Step 2: Use map to convert each character back to an integer\n",
    "mapped_digits = map(int, num_str)\n",
    "\n",
    "# Step 3: Calculate the sum of these integers\n",
    "csum = sum(mapped_digits)\n",
    "\n",
    "print(csum)"
   ]
  },
  {
   "cell_type": "code",
   "execution_count": 2,
   "id": "a12508ef-13aa-46f7-9c62-6f3f8a3a224a",
   "metadata": {},
   "outputs": [
    {
     "name": "stdout",
     "output_type": "stream",
     "text": [
      "Counter({'e': 3, 'i': 2, 'a': 1, 'u': 1})\n"
     ]
    }
   ],
   "source": [
    "from collections import Counter\n",
    "\n",
    "# Input string\n",
    "input_str = 'hi my name is sudeep'\n",
    "vowels = ['a', 'e', 'i', 'o', 'u']\n",
    "\n",
    "# Use filter to extract vowels from the string\n",
    "filtered_vowels = filter(lambda char: char in vowels, input_str)\n",
    "\n",
    "# Create a Counter to count the occurrences of each vowel\n",
    "vowel_count = Counter(filtered_vowels)\n",
    "\n",
    "# Print the result\n",
    "print(vowel_count)"
   ]
  },
  {
   "cell_type": "code",
   "execution_count": null,
   "id": "168b0bed-6a90-4f5f-9e04-95c4a933fbd7",
   "metadata": {},
   "outputs": [],
   "source": []
  }
 ],
 "metadata": {
  "kernelspec": {
   "display_name": "Python 3 (ipykernel)",
   "language": "python",
   "name": "python3"
  },
  "language_info": {
   "codemirror_mode": {
    "name": "ipython",
    "version": 3
   },
   "file_extension": ".py",
   "mimetype": "text/x-python",
   "name": "python",
   "nbconvert_exporter": "python",
   "pygments_lexer": "ipython3",
   "version": "3.8.8"
  }
 },
 "nbformat": 4,
 "nbformat_minor": 5
}

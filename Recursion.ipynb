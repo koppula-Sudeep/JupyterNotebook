{
  "cells": [
    {
      "cell_type": "markdown",
      "metadata": {
        "id": "view-in-github",
        "colab_type": "text"
      },
      "source": [
        "<a href=\"https://colab.research.google.com/github/koppula-Sudeep/JupyterNotebook/blob/main/Recursion.ipynb\" target=\"_parent\"><img src=\"https://colab.research.google.com/assets/colab-badge.svg\" alt=\"Open In Colab\"/></a>"
      ]
    },
    {
      "cell_type": "code",
      "execution_count": 2,
      "id": "04cdac1a-d0bc-4a1e-b46d-db1c5572de96",
      "metadata": {
        "colab": {
          "base_uri": "https://localhost:8080/"
        },
        "id": "04cdac1a-d0bc-4a1e-b46d-db1c5572de96",
        "outputId": "599fb37a-ad8e-40f0-e190-84120f4455f6"
      },
      "outputs": [
        {
          "output_type": "stream",
          "name": "stdout",
          "text": [
            "2000\n",
            "Hello world 1\n"
          ]
        }
      ],
      "source": [
        "#Recursion\n",
        "import sys\n",
        "sys.setrecursionlimit(2000)\n",
        "print(sys.getrecursionlimit())\n",
        "\n",
        "i = 0\n",
        "def greet():\n",
        "  global i\n",
        "  i += 1\n",
        "  print(\"Hello world\",i)\n",
        "  # greet() # maximum recusion deepth exceed by default it is 1000\n",
        "\n",
        "greet()"
      ]
    },
    {
      "cell_type": "markdown",
      "source": [
        "Function calling itself\n",
        "Base case - terminating from the recursion\n",
        "recursive case\n"
      ],
      "metadata": {
        "id": "HR32bxvbgfHq"
      },
      "id": "HR32bxvbgfHq"
    },
    {
      "cell_type": "code",
      "source": [
        "def factorial(n):\n",
        "  if n == 0:\n",
        "    return 1\n",
        "  return n * factorial(n-1)\n",
        "\n",
        "factorial(5)"
      ],
      "metadata": {
        "id": "IxGLs-blfxmt",
        "outputId": "de10e7f3-b3b2-44a5-ad4f-e2f60c8f2ea8",
        "colab": {
          "base_uri": "https://localhost:8080/"
        }
      },
      "id": "IxGLs-blfxmt",
      "execution_count": 3,
      "outputs": [
        {
          "output_type": "execute_result",
          "data": {
            "text/plain": [
              "120"
            ]
          },
          "metadata": {},
          "execution_count": 3
        }
      ]
    },
    {
      "cell_type": "code",
      "source": [
        "def power(n):\n",
        "  if n == 0:\n",
        "    return 1\n",
        "  return 2 * power(n-1)\n",
        "\n",
        "power(5)"
      ],
      "metadata": {
        "id": "M_tqSG5clK3p",
        "outputId": "3080952a-28dc-4256-d4ce-542dbde5b254",
        "colab": {
          "base_uri": "https://localhost:8080/"
        }
      },
      "id": "M_tqSG5clK3p",
      "execution_count": 4,
      "outputs": [
        {
          "output_type": "execute_result",
          "data": {
            "text/plain": [
              "32"
            ]
          },
          "metadata": {},
          "execution_count": 4
        }
      ]
    },
    {
      "cell_type": "code",
      "source": [
        "n = 9\n",
        "res = []\n",
        "for i in range(1,n+1):\n",
        "  res.append(i)\n",
        "print(res)\n",
        "def rest(res):\n",
        "  if len(res) == 1:\n",
        "    return res\n",
        "  for n in res:\n",
        "    if res.index(n)%2 == 1:\n",
        "      res.remove(n)\n",
        "      print(res)\n",
        "  return rest(res)\n",
        "\n",
        "rest(res)"
      ],
      "metadata": {
        "id": "tb_hF2SVuGEO",
        "outputId": "e4acc931-772e-46d7-f00c-0b4d85325638",
        "colab": {
          "base_uri": "https://localhost:8080/"
        }
      },
      "id": "tb_hF2SVuGEO",
      "execution_count": 10,
      "outputs": [
        {
          "output_type": "stream",
          "name": "stdout",
          "text": [
            "[1, 2, 3, 4, 5, 6, 7, 8, 9]\n",
            "[1, 3, 4, 5, 6, 7, 8, 9]\n",
            "[1, 3, 4, 6, 7, 8, 9]\n",
            "[1, 3, 4, 6, 7, 9]\n",
            "[1, 4, 6, 7, 9]\n",
            "[1, 4, 6, 9]\n",
            "[1, 6, 9]\n",
            "[1, 9]\n",
            "[1]\n"
          ]
        },
        {
          "output_type": "execute_result",
          "data": {
            "text/plain": [
              "[1]"
            ]
          },
          "metadata": {},
          "execution_count": 10
        }
      ]
    },
    {
      "cell_type": "code",
      "source": [
        "# prompt: ou have a list arr of all integers in the range [1, n] sorted in a strictly increasing order. Apply the following algorithm on arr:\n",
        "# Starting from left to right, remove the first number and every other number afterward until you reach the end of the list.\n",
        "# Repeat the previous step again, but this time from right to left, remove the rightmost number and every other number from the remaining numbers.\n",
        "\n",
        "def remove_elements(arr):\n",
        "  \"\"\"\n",
        "  Removes elements from the list according to the specified algorithm.\n",
        "\n",
        "  Args:\n",
        "    arr: A list of integers.\n",
        "\n",
        "  Returns:\n",
        "    The list after applying the algorithm.\n",
        "  \"\"\"\n",
        "\n",
        "  def remove_left_to_right(arr):\n",
        "    new_arr = []\n",
        "    for i in range(len(arr)):\n",
        "      if i % 2 == 0:\n",
        "        new_arr.append(arr[i])\n",
        "    return new_arr\n",
        "\n",
        "  def remove_right_to_left(arr):\n",
        "    new_arr = []\n",
        "    for i in range(len(arr) - 1, -1, -1):\n",
        "      if i % 2 == 0:\n",
        "        new_arr.append(arr[i])\n",
        "    return new_arr[::-1]\n",
        "\n",
        "  while len(arr) > 0:\n",
        "    arr = remove_left_to_right(arr)\n",
        "    if len(arr) > 0:\n",
        "      arr = remove_right_to_left(arr)\n",
        "\n",
        "  return arr\n",
        "\n",
        "\n",
        "# Example usage:\n",
        "arr = [1, 2, 3, 4, 5, 6, 7, 8, 9, 10]\n",
        "result = remove_elements(arr)\n",
        "print(result)  # Output: []\n"
      ],
      "metadata": {
        "id": "r8sYVWjdwWXa"
      },
      "id": "r8sYVWjdwWXa",
      "execution_count": null,
      "outputs": []
    }
  ],
  "metadata": {
    "kernelspec": {
      "display_name": "Python 3 (ipykernel)",
      "language": "python",
      "name": "python3"
    },
    "language_info": {
      "codemirror_mode": {
        "name": "ipython",
        "version": 3
      },
      "file_extension": ".py",
      "mimetype": "text/x-python",
      "name": "python",
      "nbconvert_exporter": "python",
      "pygments_lexer": "ipython3",
      "version": "3.8.8"
    },
    "colab": {
      "provenance": [],
      "include_colab_link": true
    }
  },
  "nbformat": 4,
  "nbformat_minor": 5
}
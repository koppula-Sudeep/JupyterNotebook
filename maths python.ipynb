{
 "cells": [
  {
   "cell_type": "code",
   "execution_count": null,
   "id": "25ee1f0a-2cb3-48db-b3bc-9af6fcf82b92",
   "metadata": {},
   "outputs": [],
   "source": [
    "# Write a function in python using linear equation method to solve the below problem ?\n",
    "# Input -> Having 35 heads and 94 legs among the chickens and rabbits in a farm, what would be the total number of rabbits & chickens ?\n",
    "#22*2 = 44, 94-44 = 50\n",
    "def total_number(i,j):\n",
    "    \n",
    "    \n",
    "    \n",
    "    \n",
    "    \n",
    "\n",
    "i = input(\"enter the number of heads\")\n",
    "j = input(\"enter the number of legs\")\n",
    "print(total_number(i,j))"
   ]
  },
  {
   "cell_type": "code",
   "execution_count": null,
   "id": "01c39c5c-bf6b-4630-9fcb-b32f1d04a49f",
   "metadata": {},
   "outputs": [],
   "source": [
    "# A robot moves in a plane starting from the original point (0,0). It can move toward UP, DOWN, LEFT and RIGHT with a given steps,\n",
    "# write a program to compute the distance from current position after a sequence of movement wrt original point.\n",
    "#   Input -> [\"UP 6\", \"DOWN 3\", \"RIGHT 6\", \"LEFT 2\"]\n",
    "\n",
    "li = [\"UP 6\", \"DOWN 3\", \"RIGHT 6\", \"LEFT 2\"]\n",
    "for i in range(len(li)):\n",
    "    li[i].split()\n",
    "    "
   ]
  }
 ],
 "metadata": {
  "kernelspec": {
   "display_name": "Python 3 (ipykernel)",
   "language": "python",
   "name": "python3"
  },
  "language_info": {
   "codemirror_mode": {
    "name": "ipython",
    "version": 3
   },
   "file_extension": ".py",
   "mimetype": "text/x-python",
   "name": "python",
   "nbconvert_exporter": "python",
   "pygments_lexer": "ipython3",
   "version": "3.8.8"
  }
 },
 "nbformat": 4,
 "nbformat_minor": 5
}
